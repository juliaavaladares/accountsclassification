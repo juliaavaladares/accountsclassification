{
 "cells": [
  {
   "cell_type": "markdown",
   "metadata": {},
   "source": [
    "## Accunts classifications"
   ]
  },
  {
   "cell_type": "code",
   "execution_count": 597,
   "metadata": {},
   "outputs": [],
   "source": [
    "import pandas as pd\n",
    "import numpy as np \n",
    "import seaborn as sns\n",
    "import matplotlib.pyplot as plt\n",
    "from tqdm.notebook import tqdm\n",
    "import time\n",
    "from time import sleep\n",
    "from time import process_time\n",
    "from datetime import datetime\n",
    "import itertools\n",
    "\n",
    "#Preprocessamento\n",
    "from sklearn import preprocessing\n",
    "from sklearn.model_selection import KFold, StratifiedKFold\n",
    "from sklearn.model_selection import train_test_split\n",
    "from imblearn.over_sampling import RandomOverSampler\n",
    "from imblearn.under_sampling import RandomUnderSampler\n",
    "from imblearn.over_sampling import SMOTE\n",
    "from imblearn.under_sampling import NearMiss\n",
    "from sklearn.model_selection import cross_validate, cross_val_score\n",
    "\n",
    "\n",
    "#Regressão Linear\n",
    "from sklearn.linear_model import LinearRegression\n",
    "\n",
    "#Avaliacao do Modelo\n",
    "from sklearn import metrics\n",
    "from sklearn.metrics import plot_confusion_matrix\n",
    "from sklearn.metrics import ConfusionMatrixDisplay\n",
    "from sklearn.metrics import classification_report, confusion_matrix\n",
    "from sklearn.decomposition import PCA\n",
    "from collections import Counter\n",
    "\n",
    "\n",
    "#KNN\n",
    "from sklearn.neighbors import KNeighborsClassifier\n",
    "from mlxtend.plotting import plot_decision_regions\n",
    "\n",
    "#Decision Tree\n",
    "from sklearn import tree\n",
    "from sklearn.tree import DecisionTreeClassifier\n",
    "import graphviz"
   ]
  },
  {
   "cell_type": "markdown",
   "metadata": {},
   "source": [
    "### Funções a serem usadas"
   ]
  },
  {
   "cell_type": "code",
   "execution_count": 20,
   "metadata": {},
   "outputs": [],
   "source": [
    "def valueMetrics(y_test, y_predict):\n",
    "\n",
    "    print('-------')\n",
    "    print('Metrics')\n",
    "    print('-------')\n",
    "\n",
    "    print('Acurácia:', metrics.accuracy_score(y_test, y_predict))\n",
    "    \n",
    "    print('\\n------------')\n",
    "    print('Micro: Calcule métricas globalmente, contando o total de tp, fn e fp.')\n",
    "    print('Micro: Calcule métricas para cada classe e encontre sua média não ponderada.')\n",
    "    print('------------')\n",
    "    \n",
    "    print('\\nPrecisão normal:', metrics.precision_score(y_test, y_predict))\n",
    "    print('Precisão macro:', metrics.precision_score(y_test, y_predict, average='macro'))\n",
    "    print('Precisão micro:', metrics.precision_score(y_test, y_predict, average='micro'))\n",
    "    \n",
    "    print('\\nRecall normal:', metrics.recall_score(y_test, y_predict))\n",
    "    print('\\nRecall macro:', metrics.recall_score(y_test, y_predict, average='macro'))\n",
    "    print('Recall micro:', metrics.recall_score(y_test, y_predict, average='micro'))\n",
    "    \n",
    "    print('\\nF1-Score normal:', metrics.f1_score(y_test, y_predict ))\n",
    "    print('\\nF1-Score macro:', metrics.f1_score(y_test, y_predict ,average='macro'))\n",
    "    print('F1-Score micro:', metrics.f1_score(y_test, y_predict ,average='micro'))\n",
    "    \n",
    "    print('\\nFbeta1 normal:', metrics.fbeta_score(y_test, y_predict, beta=1))\n",
    "    print('\\nFbeta1 macro:', metrics.fbeta_score(y_test, y_predict ,average='macro', beta=1))\n",
    "    print('Fbeta1 micro:', metrics.fbeta_score(y_test, y_predict ,average='micro', beta=1))\n",
    "    \n",
    "    print('\\nFbeta2 normal:', metrics.fbeta_score(y_test, y_predict ,beta=2))\n",
    "    print('\\nFbeta2 macro:', metrics.fbeta_score(y_test, y_predict ,average='macro', beta=2))\n",
    "    print('Fbeta2 micro:', metrics.fbeta_score(y_test, y_predict ,average='micro', beta=2))\n",
    "    \n",
    "    print('\\nFbeta200 normal:', metrics.fbeta_score(y_test, y_predict ,beta=200))\n",
    "    print('\\nFbeta200 macro:', metrics.fbeta_score(y_test, y_predict ,average='macro', beta=200))\n",
    "    print('Fbeta200 micro:', metrics.fbeta_score(y_test, y_predict ,average='micro', beta=200))\n",
    "    "
   ]
  },
  {
   "cell_type": "code",
   "execution_count": 22,
   "metadata": {},
   "outputs": [],
   "source": [
    "def metrics_structure():\n",
    "    results = pd.DataFrame({'Acuracy':[],\n",
    "                            'Precision':[],\n",
    "                            'Recall':[],\n",
    "                            'F1-score':[],\n",
    "                            'F-beta':[],\n",
    "                            'MCC':[],\n",
    "                            'TP':[],\n",
    "                            'TN':[],\n",
    "                            'ROC Curve':[]}, )\n",
    "    results.index.names = ['Algoritmos']\n",
    "    return results"
   ]
  },
  {
   "cell_type": "code",
   "execution_count": 591,
   "metadata": {},
   "outputs": [],
   "source": [
    "def analysis(X_test, y_test, y_predict, model,text):\n",
    "    print(text, end='\\n\\n')\n",
    "\n",
    "    print(classification_report(y_test, y_predict))\n",
    "\n",
    "    acuracy = metrics.accuracy_score(y_test, y_predict)\n",
    "    precision = metrics.precision_score(y_test, y_predict)\n",
    "    recall= metrics.recall_score(y_test, y_predict)\n",
    "    f_score = metrics.f1_score(y_test, y_predict)\n",
    "    f_beta = metrics.fbeta_score(y_test, y_predict, beta=2)\n",
    "    ROC_auc_curve = metrics.roc_auc_score(y_test, y_predict)\n",
    "    \n",
    "    TP = len(y_test[(y_test==1) & (y_predict==1)]) #é falha 3% -> True Positive\n",
    "    TN = len(y_test[(y_test==0) & (y_predict==0)]) #não é falha 97% -> True Negative\n",
    "    \n",
    "    \n",
    "    tp = len(y_test[(y_test==1) & (y_predict==1)])\n",
    "    tn = len(y_test[(y_test==0) & (y_predict==0)])\n",
    "    fp = len(y_test[(y_test==0) & (y_predict==1)])\n",
    "    fn = len(y_test[(y_test==1) & (y_predict==0)])  \n",
    "    \n",
    "    MCC = metrics.matthews_corrcoef(y_test, y_predict)\n",
    "    \n",
    "    #print(metrics.matthews_corrcoef(y_test, y_predict), MCC)\n",
    "    \n",
    "    results = [acuracy, precision, recall, f_score, f_beta, MCC, tp, tn]\n",
    "    #print('[acuracy, precision, recall, f_score, f_beta, MCC, TP, TN, ROC_auc_curve]')\n",
    "    #print(results)\n",
    "    \n",
    "    results_metrics = metrics_structure()\n",
    "    results = [acuracy, precision, recall, f_score, f_beta, MCC, tp, tn, ROC_auc_curve]\n",
    "    results_metrics = results_metrics.append(pd.DataFrame([results], index=[text], columns=results_metrics.columns))\n",
    "    print(results_metrics)\n",
    "\n",
    "    \n",
    "    #Compute confusion matrix\n",
    "\n",
    "    cnf_matrix = confusion_matrix(y_test, y_predict)\n",
    "    np.set_printoptions(precision=2)\n",
    "\n",
    "    # Plot non-normalized confusion matrix\n",
    "    plt.figure()\n",
    "    plot_confusion_matrix(cnf_matrix,[0,1])\n",
    "    plt.show()"
   ]
  },
  {
   "cell_type": "code",
   "execution_count": 599,
   "metadata": {},
   "outputs": [],
   "source": [
    "def plot_confusion_matrix(cm, classes,\n",
    "                          normalize=False,\n",
    "                          title='Confusion matrix',\n",
    "                          cmap=plt.cm.Blues):\n",
    "    \"\"\"\n",
    "    This function prints and plots the confusion matrix.\n",
    "    Normalization can be applied by setting `normalize=True`.\n",
    "    \"\"\"\n",
    "    if normalize:\n",
    "        cm = cm.astype('float') / cm.sum(axis=1)[:, np.newaxis]\n",
    "        print(\"Normalized confusion matrix\")\n",
    "    else:\n",
    "        print('Confusion matrix, without normalization')\n",
    "\n",
    "    print(cm)\n",
    "    \n",
    "    plt.imshow(cm, interpolation='nearest', cmap=cmap)\n",
    "    plt.title(title)\n",
    "    plt.colorbar()\n",
    "    tick_marks = np.arange(len(classes))\n",
    "    plt.xticks(tick_marks, classes, rotation=45)\n",
    "    plt.yticks(tick_marks, classes)\n",
    "\n",
    "    fmt = '.2f' if normalize else 'd'\n",
    "    thresh = cm.max() / 2.\n",
    "    for i, j in itertools.product(range(cm.shape[0]), range(cm.shape[1])):\n",
    "        plt.text(j, i, format(cm[i, j], fmt),\n",
    "                 horizontalalignment=\"center\",\n",
    "                 color=\"white\" if cm[i, j] > thresh else \"black\")\n",
    "\n",
    "    plt.ylabel('True label')\n",
    "    plt.xlabel('Predicted label')\n",
    "    plt.tight_layout()"
   ]
  },
  {
   "cell_type": "code",
   "execution_count": 456,
   "metadata": {},
   "outputs": [],
   "source": [
    "def count_sent_recived(accounts, user_to, user_from):\n",
    "    '''\n",
    "    Calcula a quantidade de vezes que uma conta recebeu e enviou transações.\n",
    "    Receber como parâmetro a lista de contas, a lista de user_to e user_from\n",
    "    '''\n",
    "    sent = []\n",
    "    received = []\n",
    "    for i in tqdm(accounts): \n",
    "        s = np.count_nonzero(user_to == i)\n",
    "        r = np.count_nonzero(user_from == i)\n",
    "        \n",
    "        sent.append(s)\n",
    "        received.append(r)\n",
    "    \n",
    "    sent, received = pd.Series(sent), pd.Series(received)\n",
    "\n",
    "    return sent, received\n",
    "        "
   ]
  },
  {
   "cell_type": "code",
   "execution_count": 457,
   "metadata": {},
   "outputs": [],
   "source": [
    "def count_contracts(df, accounts):\n",
    "    '''\n",
    "    Função para calcular a quantidade de contratos que uma conta envia e quantos\n",
    "    contratos ela recebe. Para isso a função recebe a base de dados das transações\n",
    "    e as contas presentes na base\n",
    "    '''\n",
    "    contracts_sent = []\n",
    "    contracts_received = []\n",
    "    \n",
    "    for a in tqdm(accounts):\n",
    "        \n",
    "        c_s = sum(df.value[df.user_from == a] == 0)\n",
    "        contracts_sent.append(c_s)\n",
    "        \n",
    "        c_r = sum(df.value[df.user_to == a] == 0)\n",
    "        contracts_received.append(c_r)\n",
    "        \n",
    "    return contracts_sent, contracts_received"
   ]
  },
  {
   "cell_type": "code",
   "execution_count": 458,
   "metadata": {},
   "outputs": [],
   "source": [
    "def oversampling(X, y):\n",
    "    '''\n",
    "    Faz o oversampling dos dados a partir do X e do Y de teste\n",
    "    '''\n",
    "    ros = RandomOverSampler(sampling_strategy='minority')\n",
    "    X_ros, y_ros = ros.fit_resample(X, y)\n",
    "\n",
    "    \n",
    "    return X_ros, y_ros"
   ]
  },
  {
   "cell_type": "code",
   "execution_count": 459,
   "metadata": {},
   "outputs": [],
   "source": [
    "def undersampling(X, y):\n",
    "    '''\n",
    "    Faz o undersampling dos dados a partir do X e do Y de teste\n",
    "    '''\n",
    "    rus = RandomUnderSampler() \n",
    "    # resampling X, y\n",
    "    X_rus, y_rus = rus.fit_resample(X, y)\n",
    "    \n",
    "    # new class distribution\n",
    "    return X_rus, y_rus"
   ]
  },
  {
   "cell_type": "code",
   "execution_count": 461,
   "metadata": {},
   "outputs": [],
   "source": [
    "def normalize(*args):\n",
    "    '''\n",
    "    Normaliza os dados entre 0 e 1\n",
    "    '''\n",
    "    scaler = preprocessing.MinMaxScaler(feature_range=(0,1))\n",
    "    lista = [scaler.fit_transform(a) for a in args]\n",
    "\n",
    "    return(lista)\n",
    "    "
   ]
  },
  {
   "cell_type": "code",
   "execution_count": 462,
   "metadata": {},
   "outputs": [],
   "source": [
    "def metrics_structure():\n",
    "    results = pd.DataFrame({'Acuracy':[],\n",
    "                            'Precision':[],\n",
    "                            'Recall':[],\n",
    "                            'F1-score':[],\n",
    "                            'F-beta':[],\n",
    "                            'MCC':[],\n",
    "                            'TP':[],\n",
    "                            'TN':[],\n",
    "                            'ROC Curve':[]}, )\n",
    "    results.index.names = ['Algoritmos']\n",
    "    return results"
   ]
  },
  {
   "cell_type": "code",
   "execution_count": 592,
   "metadata": {},
   "outputs": [],
   "source": [
    "def cv(X, y, model, name, balancer = None):\n",
    "\n",
    "    results_cv = metrics_structure()\n",
    "    \n",
    "    tp = 0\n",
    "    tn = 0\n",
    "    fp = 0\n",
    "    fn = 0\n",
    "    auc_media = 0\n",
    "    \n",
    "    skfold = StratifiedKFold(n_splits=10)\n",
    "    \n",
    "    for fold, (train_index, test_index) in tqdm(enumerate(skfold.split(X, y), 1)):\n",
    "        start_time = time.time()\n",
    "        X_train = X.iloc[train_index]\n",
    "        y_train = y.iloc[train_index]  # Based on your code, you might need a ravel call here, but I would look into how you're generating your y\n",
    "        X_test = X.iloc[test_index]\n",
    "        y_test = y.iloc[test_index]  # See comment on ravel and  y_train\n",
    "        if balancer is not None:\n",
    "            X_train, y_train = balancer.fit_sample(X_train, y_train)\n",
    "        model.fit(X_train, y_train)\n",
    "        y_predict = model.predict(X_test)\n",
    "        print(f'For fold {fold}:')\n",
    "        acuracy = metrics.accuracy_score(y_test, y_predict)\n",
    "        precision = metrics.precision_score(y_test, y_predict)\n",
    "        recall = metrics.recall_score(y_test, y_predict)\n",
    "        f_score = metrics.f1_score(y_test, y_predict)\n",
    "        f_beta = metrics.fbeta_score(y_test, y_predict, beta=2)\n",
    "        ROC = metrics.roc_auc_score(y_test, y_predict)\n",
    "        MCC = metrics.matthews_corrcoef(y_test, y_predict)\n",
    "        TP = len(y_test[(y_test==1) & (y_predict==1)])\n",
    "        TN = len(y_test[(y_test==0) & (y_predict==0)])\n",
    "        \n",
    "        tp += y_test[(y_test==1) & (y_predict==1)].count()\n",
    "        tn += y_test[(y_test==0) & (y_predict==0)].count()\n",
    "        fp += y_test[(y_test==0) & (y_predict==1)].count()\n",
    "        fn += y_test[(y_test==1) & (y_predict==0)].count() \n",
    "        \n",
    "\n",
    "        \n",
    "        result_fold = [acuracy, precision, recall, f_score, f_beta, MCC, tp, tn, ROC]\n",
    "        results_cv = results_cv.append(pd.DataFrame([result_fold], index=[('Fold' + str(fold))], columns=results_cv.columns))\n",
    "        \n",
    "        analysis(X_test, y_test, y_predict, model, name)\n",
    "        \n",
    "        if fold == 1:\n",
    "            print('best fold', str(fold))\n",
    "            bestROC = ROC\n",
    "            bestModel = model\n",
    "            analysis(X_test, y_test, y_predict, model, name)\n",
    "        elif ROC > bestROC:\n",
    "            print('best fold', str(fold))\n",
    "            bestROC = ROC\n",
    "            bestModel = model\n",
    "            analysis(X_test, y_test, y_predict, model, name)\n",
    "            \n",
    "        \n",
    "        elapsed_time = time.time() - start_time\n",
    "        print('Tempo gasto fold', fold, '-', time.strftime(\"%H:%M:%S\", time.gmtime(elapsed_time)))\n",
    "\n",
    "    \n",
    "    acur = (tp+tn)/(tp+tn+fp+fn)\n",
    "    prec = 0 if tp + fp == 0 else tp/(tp+fp)\n",
    "    reca = 0 if tp + fn == 0 else tp/(tp+fn)\n",
    "    fbeta = 0 if reca + prec == 0 else (2*reca*prec)/(reca+prec)\n",
    "    fbeta2 = (0 if reca + prec == 0 else (5*reca*prec)/((4*prec)+reca))\n",
    "    MCC = metrics.matthews_corrcoef(y_test, y_predict) #(tp*tn-fp*fn)/sqrt((tp+fp)*(tp+fn)*(tn+fp)*(tn+fn))\n",
    "    auc = (tp/((tp+fn)*2)) + (tn/((tn+fp)*2))\n",
    "\n",
    "\n",
    "    results_metrics = metrics_structure()\n",
    "    results = [acur, prec, reca, fbeta, fbeta2, MCC, int(tp), int(tn), auc]\n",
    "    results_metrics = results_metrics.append(pd.DataFrame([results], index=[name], columns=results_metrics.columns))\n",
    "    \n",
    "    return results_metrics, results_cv, bestModel"
   ]
  },
  {
   "cell_type": "code",
   "execution_count": 410,
   "metadata": {},
   "outputs": [],
   "source": [
    "def cv_over_under(df, model, model_name,sampling, n_splits = 3):\n",
    "    '''\n",
    "    df -> Dataset\n",
    "    n_splits -> quantidade de splits do kfold\n",
    "    model -> modelo a ser avaliado\n",
    "    model_name -> Texto do nome do modelo\n",
    "    sampling -> True para oversampling e False para undersampling\n",
    "    '''\n",
    "    \n",
    "    X = df[['balance_ether', 'total_transactions', 'sent', 'received', 'n_contracts_sent', \n",
    "            'n_contracts_received']].values\n",
    "    y = df['classification'].values\n",
    "    \n",
    "    for i in range(2, n_splits):\n",
    "        cv = KFold(n_splits=i, random_state=1, shuffle=True)\n",
    "        print('Fold =', i)\n",
    "        for train_index, test_index in kf.split(X):\n",
    "            X_train, X_test = X[train_index], X[test_index]\n",
    "            y_train, y_test = y[train_index], y[test_index]\n",
    "            \n",
    "            #normaliza os dados\n",
    "            X_train, X_test = normalize(X_train, X_test)\n",
    "            \n",
    "            #Faz undersampling ou oversampling\n",
    "            if sampling: \n",
    "                print('Oversamplig')\n",
    "                X_train, y_train = oversampling(X_train, y_train)\n",
    "            else: \n",
    "                print('Undersampling')\n",
    "                X_train, y_train = undersampling(X_train, y_train)\n",
    "            \n",
    "            #Treina o modelo e faz o predict\n",
    "            model.fit(X_train, y_train)\n",
    "            y_predict = model.predict(X_test) \n",
    "            \n",
    "            analysis(X_test, y_test, y_predict, model, model_name)\n",
    "            print('---------------------------------------------------------')"
   ]
  },
  {
   "cell_type": "markdown",
   "metadata": {},
   "source": [
    "**Importando dados**"
   ]
  },
  {
   "cell_type": "code",
   "execution_count": 2,
   "metadata": {},
   "outputs": [],
   "source": [
    "df = pd.read_csv('accounts_classification.csv')"
   ]
  },
  {
   "cell_type": "code",
   "execution_count": 162,
   "metadata": {},
   "outputs": [],
   "source": [
    "df_transactions = pd.read_csv('dataset_fix_20200810.csv')"
   ]
  },
  {
   "cell_type": "code",
   "execution_count": 172,
   "metadata": {},
   "outputs": [
    {
     "name": "stderr",
     "output_type": "stream",
     "text": [
      "<ipython-input-169-c23827de1ff9>:8: TqdmDeprecationWarning: This function will be removed in tqdm==5.0.0\n",
      "Please use `tqdm.notebook.tqdm` instead of `tqdm.tqdm_notebook`\n",
      "  for i in tqdm_notebook(accounts):\n"
     ]
    },
    {
     "data": {
      "application/vnd.jupyter.widget-view+json": {
       "model_id": "9f06456fe2324b869bdeef8f1647749a",
       "version_major": 2,
       "version_minor": 0
      },
      "text/plain": [
       "HBox(children=(FloatProgress(value=0.0, max=17020.0), HTML(value='')))"
      ]
     },
     "metadata": {},
     "output_type": "display_data"
    },
    {
     "name": "stdout",
     "output_type": "stream",
     "text": [
      "\n"
     ]
    }
   ],
   "source": [
    "sent, received = count_sent_recived(df.user_account, df_transactions.user_to, df_transactions.user_from)"
   ]
  },
  {
   "cell_type": "code",
   "execution_count": 313,
   "metadata": {},
   "outputs": [
    {
     "data": {
      "application/vnd.jupyter.widget-view+json": {
       "model_id": "919c65bf5b9d4d24a7d1098535662d43",
       "version_major": 2,
       "version_minor": 0
      },
      "text/plain": [
       "HBox(children=(FloatProgress(value=0.0, max=17020.0), HTML(value='')))"
      ]
     },
     "metadata": {},
     "output_type": "display_data"
    },
    {
     "name": "stdout",
     "output_type": "stream",
     "text": [
      "\n"
     ]
    }
   ],
   "source": [
    "c_s, c_r = count_contracts(df_transactions, df.user_account)"
   ]
  },
  {
   "cell_type": "code",
   "execution_count": 174,
   "metadata": {},
   "outputs": [],
   "source": [
    "df['sent'] = sent\n",
    "df['received'] = received\n",
    "df['n_contracts_sent'] = c_s\n",
    "df['n_contracts_received'] = c_r"
   ]
  },
  {
   "cell_type": "markdown",
   "metadata": {},
   "source": [
    "Tomando em consideração:\n",
    "\n",
    "Normal user = 0\n",
    "\n",
    "Exchange = 1"
   ]
  },
  {
   "cell_type": "code",
   "execution_count": 4,
   "metadata": {},
   "outputs": [],
   "source": [
    "classes = df.classification"
   ]
  },
  {
   "cell_type": "code",
   "execution_count": 5,
   "metadata": {},
   "outputs": [],
   "source": [
    "df['classification'] = df['classification'].replace('Normal user', 0)\n",
    "df['classification'] = df['classification'].replace('Exchange', 1)"
   ]
  },
  {
   "cell_type": "markdown",
   "metadata": {},
   "source": [
    "Os parâmetros a serem usados serão *balance_ether* e *total_transactions*. Como *balance_value* é o valor em dólar, essas duas features são diretamente correlacionadas"
   ]
  },
  {
   "cell_type": "markdown",
   "metadata": {},
   "source": [
    "**Preprocessamento dos dados**"
   ]
  },
  {
   "cell_type": "code",
   "execution_count": 445,
   "metadata": {},
   "outputs": [],
   "source": [
    "X = df.iloc[:,[1,3,5,6,7,8]]\n",
    "y = df.iloc[:, 4]"
   ]
  },
  {
   "cell_type": "code",
   "execution_count": 373,
   "metadata": {},
   "outputs": [],
   "source": [
    "X_train, X_test, y_train, y_test = train_test_split(X, y, test_size=0.3, stratify = y)"
   ]
  },
  {
   "cell_type": "code",
   "execution_count": 185,
   "metadata": {},
   "outputs": [
    {
     "name": "stdout",
     "output_type": "stream",
     "text": [
      "Counter({0: 11832, 1: 82})\n",
      "Counter({0: 5071, 1: 35})\n"
     ]
    }
   ],
   "source": [
    "print(Counter(y_train))\n",
    "print(Counter(y_test))"
   ]
  },
  {
   "cell_type": "markdown",
   "metadata": {},
   "source": [
    "**Undersample e Oversample**"
   ]
  },
  {
   "cell_type": "code",
   "execution_count": 601,
   "metadata": {},
   "outputs": [],
   "source": [
    "nr = NearMiss()\n",
    "smt = SMOTE()"
   ]
  },
  {
   "cell_type": "markdown",
   "metadata": {},
   "source": [
    "### K-Nearest Neighbours"
   ]
  },
  {
   "cell_type": "code",
   "execution_count": 523,
   "metadata": {},
   "outputs": [],
   "source": [
    "#Gera o modelo\n",
    "knn = KNeighborsClassifier(n_neighbors = 5,weights='uniform', metric='canberra')"
   ]
  },
  {
   "cell_type": "markdown",
   "metadata": {},
   "source": [
    "**Cross-Validation sem balanceamento**"
   ]
  },
  {
   "cell_type": "code",
   "execution_count": 602,
   "metadata": {
    "scrolled": true
   },
   "outputs": [
    {
     "data": {
      "application/vnd.jupyter.widget-view+json": {
       "model_id": "375a59cf18e74321b6f040768a239dd0",
       "version_major": 2,
       "version_minor": 0
      },
      "text/plain": [
       "HBox(children=(FloatProgress(value=1.0, bar_style='info', max=1.0), HTML(value='')))"
      ]
     },
     "metadata": {},
     "output_type": "display_data"
    },
    {
     "name": "stdout",
     "output_type": "stream",
     "text": [
      "For fold 1:\n",
      "KNN\n",
      "\n",
      "              precision    recall  f1-score   support\n",
      "\n",
      "           0       1.00      0.99      1.00      1691\n",
      "           1       0.36      0.45      0.40        11\n",
      "\n",
      "    accuracy                           0.99      1702\n",
      "   macro avg       0.68      0.72      0.70      1702\n",
      "weighted avg       0.99      0.99      0.99      1702\n",
      "\n",
      "      Acuracy  Precision    Recall  F1-score    F-beta       MCC   TP      TN  \\\n",
      "KNN  0.991187   0.357143  0.454545       0.4  0.431034  0.398547  5.0  1682.0   \n",
      "\n",
      "     ROC Curve  \n",
      "KNN   0.724612  \n",
      "Confusion matrix, without normalization\n",
      "[[1682    9]\n",
      " [   6    5]]\n"
     ]
    },
    {
     "data": {
      "image/png": "[encoded data removed]",
      "text/plain": [
       "<Figure size 432x288 with 2 Axes>"
      ]
     },
     "metadata": {
      "needs_background": "light"
     },
     "output_type": "display_data"
    },
    {
     "name": "stdout",
     "output_type": "stream",
     "text": [
      "best fold 1\n",
      "KNN\n",
      "\n",
      "              precision    recall  f1-score   support\n",
      "\n",
      "           0       1.00      0.99      1.00      1691\n",
      "           1       0.36      0.45      0.40        11\n",
      "\n",
      "    accuracy                           0.99      1702\n",
      "   macro avg       0.68      0.72      0.70      1702\n",
      "weighted avg       0.99      0.99      0.99      1702\n",
      "\n",
      "      Acuracy  Precision    Recall  F1-score    F-beta       MCC   TP      TN  \\\n",
      "KNN  0.991187   0.357143  0.454545       0.4  0.431034  0.398547  5.0  1682.0   \n",
      "\n",
      "     ROC Curve  \n",
      "KNN   0.724612  \n",
      "Confusion matrix, without normalization\n",
      "[[1682    9]\n",
      " [   6    5]]\n"
     ]
    },
    {
     "data": {
      "image/png": "[encoded data removed]",
      "text/plain": [
       "<Figure size 432x288 with 2 Axes>"
      ]
     },
     "metadata": {
      "needs_background": "light"
     },
     "output_type": "display_data"
    },
    {
     "name": "stdout",
     "output_type": "stream",
     "text": [
      "Tempo gasto fold 1 - 00:00:00\n",
      "For fold 2:\n",
      "KNN\n",
      "\n",
      "              precision    recall  f1-score   support\n",
      "\n",
      "           0       1.00      1.00      1.00      1691\n",
      "           1       0.60      0.82      0.69        11\n",
      "\n",
      "    accuracy                           1.00      1702\n",
      "   macro avg       0.80      0.91      0.84      1702\n",
      "weighted avg       1.00      1.00      1.00      1702\n",
      "\n",
      "     Acuracy  Precision    Recall  F1-score    F-beta       MCC   TP      TN  \\\n",
      "KNN   0.9953        0.6  0.818182  0.692308  0.762712  0.698437  9.0  1685.0   \n",
      "\n",
      "     ROC Curve  \n",
      "KNN   0.907317  \n",
      "Confusion matrix, without normalization\n",
      "[[1685    6]\n",
      " [   2    9]]\n"
     ]
    },
    {
     "data": {
      "image/png": "[encoded data removed]",
      "text/plain": [
       "<Figure size 432x288 with 2 Axes>"
      ]
     },
     "metadata": {
      "needs_background": "light"
     },
     "output_type": "display_data"
    },
    {
     "name": "stdout",
     "output_type": "stream",
     "text": [
      "best fold 2\n",
      "KNN\n",
      "\n",
      "              precision    recall  f1-score   support\n",
      "\n",
      "           0       1.00      1.00      1.00      1691\n",
      "           1       0.60      0.82      0.69        11\n",
      "\n",
      "    accuracy                           1.00      1702\n",
      "   macro avg       0.80      0.91      0.84      1702\n",
      "weighted avg       1.00      1.00      1.00      1702\n",
      "\n",
      "     Acuracy  Precision    Recall  F1-score    F-beta       MCC   TP      TN  \\\n",
      "KNN   0.9953        0.6  0.818182  0.692308  0.762712  0.698437  9.0  1685.0   \n",
      "\n",
      "     ROC Curve  \n",
      "KNN   0.907317  \n",
      "Confusion matrix, without normalization\n",
      "[[1685    6]\n",
      " [   2    9]]\n"
     ]
    },
    {
     "data": {
      "image/png": "[encoded data removed]",
      "text/plain": [
       "<Figure size 432x288 with 2 Axes>"
      ]
     },
     "metadata": {
      "needs_background": "light"
     },
     "output_type": "display_data"
    },
    {
     "name": "stdout",
     "output_type": "stream",
     "text": [
      "Tempo gasto fold 2 - 00:00:00\n",
      "For fold 3:\n",
      "KNN\n",
      "\n",
      "              precision    recall  f1-score   support\n",
      "\n",
      "           0       1.00      1.00      1.00      1691\n",
      "           1       0.56      0.45      0.50        11\n",
      "\n",
      "    accuracy                           0.99      1702\n",
      "   macro avg       0.78      0.73      0.75      1702\n",
      "weighted avg       0.99      0.99      0.99      1702\n",
      "\n",
      "      Acuracy  Precision    Recall  F1-score    F-beta       MCC   TP      TN  \\\n",
      "KNN  0.994125   0.555556  0.454545       0.5  0.471698  0.499608  5.0  1687.0   \n",
      "\n",
      "     ROC Curve  \n",
      "KNN    0.72609  \n",
      "Confusion matrix, without normalization\n",
      "[[1687    4]\n",
      " [   6    5]]\n"
     ]
    },
    {
     "data": {
      "image/png": "[encoded data removed]",
      "text/plain": [
       "<Figure size 432x288 with 2 Axes>"
      ]
     },
     "metadata": {
      "needs_background": "light"
     },
     "output_type": "display_data"
    },
    {
     "name": "stdout",
     "output_type": "stream",
     "text": [
      "Tempo gasto fold 3 - 00:00:00\n",
      "For fold 4:\n",
      "KNN\n",
      "\n",
      "              precision    recall  f1-score   support\n",
      "\n",
      "           0       1.00      1.00      1.00      1690\n",
      "           1       0.88      0.58      0.70        12\n",
      "\n",
      "    accuracy                           1.00      1702\n",
      "   macro avg       0.94      0.79      0.85      1702\n",
      "weighted avg       1.00      1.00      1.00      1702\n",
      "\n",
      "      Acuracy  Precision    Recall  F1-score  F-beta       MCC   TP      TN  \\\n",
      "KNN  0.996475      0.875  0.583333       0.7   0.625  0.712867  7.0  1689.0   \n",
      "\n",
      "     ROC Curve  \n",
      "KNN   0.791371  \n",
      "Confusion matrix, without normalization\n",
      "[[1689    1]\n",
      " [   5    7]]\n"
     ]
    },
    {
     "data": {
      "image/png": "[encoded data removed]",
      "text/plain": [
       "<Figure size 432x288 with 2 Axes>"
      ]
     },
     "metadata": {
      "needs_background": "light"
     },
     "output_type": "display_data"
    },
    {
     "name": "stdout",
     "output_type": "stream",
     "text": [
      "Tempo gasto fold 4 - 00:00:00\n",
      "For fold 5:\n",
      "KNN\n",
      "\n",
      "              precision    recall  f1-score   support\n",
      "\n",
      "           0       1.00      1.00      1.00      1690\n",
      "           1       0.71      0.42      0.53        12\n",
      "\n",
      "    accuracy                           0.99      1702\n",
      "   macro avg       0.86      0.71      0.76      1702\n",
      "weighted avg       0.99      0.99      0.99      1702\n",
      "\n",
      "      Acuracy  Precision    Recall  F1-score    F-beta       MCC   TP      TN  \\\n",
      "KNN  0.994712   0.714286  0.416667  0.526316  0.454545  0.543192  5.0  1688.0   \n",
      "\n",
      "     ROC Curve  \n",
      "KNN   0.707742  \n",
      "Confusion matrix, without normalization\n",
      "[[1688    2]\n",
      " [   7    5]]\n"
     ]
    },
    {
     "data": {
      "image/png": "[encoded data removed]",
      "text/plain": [
       "<Figure size 432x288 with 2 Axes>"
      ]
     },
     "metadata": {
      "needs_background": "light"
     },
     "output_type": "display_data"
    },
    {
     "name": "stdout",
     "output_type": "stream",
     "text": [
      "Tempo gasto fold 5 - 00:00:00\n",
      "For fold 6:\n",
      "KNN\n",
      "\n",
      "              precision    recall  f1-score   support\n",
      "\n",
      "           0       1.00      1.00      1.00      1690\n",
      "           1       0.80      0.33      0.47        12\n",
      "\n",
      "    accuracy                           0.99      1702\n",
      "   macro avg       0.90      0.67      0.73      1702\n",
      "weighted avg       0.99      0.99      0.99      1702\n",
      "\n",
      "      Acuracy  Precision    Recall  F1-score    F-beta       MCC   TP      TN  \\\n",
      "KNN  0.994712        0.8  0.333333  0.470588  0.377358  0.514417  4.0  1689.0   \n",
      "\n",
      "     ROC Curve  \n",
      "KNN   0.666371  \n",
      "Confusion matrix, without normalization\n",
      "[[1689    1]\n",
      " [   8    4]]\n"
     ]
    },
    {
     "data": {
      "image/png": "[encoded data removed]",
      "text/plain": [
       "<Figure size 432x288 with 2 Axes>"
      ]
     },
     "metadata": {
      "needs_background": "light"
     },
     "output_type": "display_data"
    },
    {
     "name": "stdout",
     "output_type": "stream",
     "text": [
      "Tempo gasto fold 6 - 00:00:00\n",
      "For fold 7:\n",
      "KNN\n",
      "\n",
      "              precision    recall  f1-score   support\n",
      "\n",
      "           0       0.99      1.00      1.00      1690\n",
      "           1       1.00      0.08      0.15        12\n",
      "\n",
      "    accuracy                           0.99      1702\n",
      "   macro avg       1.00      0.54      0.58      1702\n",
      "weighted avg       0.99      0.99      0.99      1702\n",
      "\n",
      "      Acuracy  Precision    Recall  F1-score    F-beta      MCC   TP      TN  \\\n",
      "KNN  0.993537        1.0  0.083333  0.153846  0.102041  0.28774  1.0  1690.0   \n",
      "\n",
      "     ROC Curve  \n",
      "KNN   0.541667  \n",
      "Confusion matrix, without normalization\n",
      "[[1690    0]\n",
      " [  11    1]]\n"
     ]
    },
    {
     "data": {
      "image/png": "[encoded data removed]",
      "text/plain": [
       "<Figure size 432x288 with 2 Axes>"
      ]
     },
     "metadata": {
      "needs_background": "light"
     },
     "output_type": "display_data"
    },
    {
     "name": "stdout",
     "output_type": "stream",
     "text": [
      "Tempo gasto fold 7 - 00:00:00\n",
      "For fold 8:\n",
      "KNN\n",
      "\n",
      "              precision    recall  f1-score   support\n",
      "\n",
      "           0       0.99      1.00      1.00      1690\n",
      "           1       1.00      0.08      0.15        12\n",
      "\n",
      "    accuracy                           0.99      1702\n",
      "   macro avg       1.00      0.54      0.58      1702\n",
      "weighted avg       0.99      0.99      0.99      1702\n",
      "\n",
      "      Acuracy  Precision    Recall  F1-score    F-beta      MCC   TP      TN  \\\n",
      "KNN  0.993537        1.0  0.083333  0.153846  0.102041  0.28774  1.0  1690.0   \n",
      "\n",
      "     ROC Curve  \n",
      "KNN   0.541667  \n",
      "Confusion matrix, without normalization\n",
      "[[1690    0]\n",
      " [  11    1]]\n"
     ]
    },
    {
     "data": {
      "image/png": "[encoded data removed]",
      "text/plain": [
       "<Figure size 432x288 with 2 Axes>"
      ]
     },
     "metadata": {
      "needs_background": "light"
     },
     "output_type": "display_data"
    },
    {
     "name": "stdout",
     "output_type": "stream",
     "text": [
      "Tempo gasto fold 8 - 00:00:00\n",
      "For fold 9:\n",
      "KNN\n",
      "\n",
      "              precision    recall  f1-score   support\n",
      "\n",
      "           0       0.99      1.00      1.00      1690\n",
      "           1       0.00      0.00      0.00        12\n",
      "\n",
      "    accuracy                           0.99      1702\n",
      "   macro avg       0.50      0.50      0.50      1702\n",
      "weighted avg       0.99      0.99      0.99      1702\n",
      "\n",
      "      Acuracy  Precision  Recall  F1-score  F-beta  MCC   TP      TN  \\\n",
      "KNN  0.992949        0.0     0.0       0.0     0.0  0.0  0.0  1690.0   \n",
      "\n",
      "     ROC Curve  \n",
      "KNN        0.5  \n",
      "Confusion matrix, without normalization\n",
      "[[1690    0]\n",
      " [  12    0]]\n"
     ]
    },
    {
     "name": "stderr",
     "output_type": "stream",
     "text": [
      "/Users/julia/opt/anaconda3/lib/python3.8/site-packages/sklearn/metrics/_classification.py:1221: UndefinedMetricWarning: Precision is ill-defined and being set to 0.0 due to no predicted samples. Use `zero_division` parameter to control this behavior.\n",
      "  _warn_prf(average, modifier, msg_start, len(result))\n",
      "/Users/julia/opt/anaconda3/lib/python3.8/site-packages/sklearn/metrics/_classification.py:846: RuntimeWarning: invalid value encountered in double_scalars\n",
      "  mcc = cov_ytyp / np.sqrt(cov_ytyt * cov_ypyp)\n",
      "/Users/julia/opt/anaconda3/lib/python3.8/site-packages/sklearn/metrics/_classification.py:1221: UndefinedMetricWarning: Precision and F-score are ill-defined and being set to 0.0 in labels with no predicted samples. Use `zero_division` parameter to control this behavior.\n",
      "  _warn_prf(average, modifier, msg_start, len(result))\n",
      "/Users/julia/opt/anaconda3/lib/python3.8/site-packages/sklearn/metrics/_classification.py:1221: UndefinedMetricWarning: Precision is ill-defined and being set to 0.0 due to no predicted samples. Use `zero_division` parameter to control this behavior.\n",
      "  _warn_prf(average, modifier, msg_start, len(result))\n",
      "/Users/julia/opt/anaconda3/lib/python3.8/site-packages/sklearn/metrics/_classification.py:846: RuntimeWarning: invalid value encountered in double_scalars\n",
      "  mcc = cov_ytyp / np.sqrt(cov_ytyt * cov_ypyp)\n"
     ]
    },
    {
     "data": {
      "image/png": "[encoded data removed]",
      "text/plain": [
       "<Figure size 432x288 with 2 Axes>"
      ]
     },
     "metadata": {
      "needs_background": "light"
     },
     "output_type": "display_data"
    },
    {
     "name": "stdout",
     "output_type": "stream",
     "text": [
      "Tempo gasto fold 9 - 00:00:00\n",
      "For fold 10:\n",
      "KNN\n",
      "\n",
      "              precision    recall  f1-score   support\n",
      "\n",
      "           0       0.99      1.00      1.00      1690\n",
      "           1       0.67      0.17      0.27        12\n",
      "\n",
      "    accuracy                           0.99      1702\n",
      "   macro avg       0.83      0.58      0.63      1702\n",
      "weighted avg       0.99      0.99      0.99      1702\n",
      "\n",
      "      Acuracy  Precision    Recall  F1-score    F-beta       MCC   TP      TN  \\\n",
      "KNN  0.993537   0.666667  0.166667  0.266667  0.196078  0.331269  2.0  1689.0   \n",
      "\n",
      "     ROC Curve  \n",
      "KNN   0.583037  \n",
      "Confusion matrix, without normalization\n",
      "[[1689    1]\n",
      " [  10    2]]\n"
     ]
    },
    {
     "data": {
      "image/png": "[encoded data removed]",
      "text/plain": [
       "<Figure size 432x288 with 2 Axes>"
      ]
     },
     "metadata": {
      "needs_background": "light"
     },
     "output_type": "display_data"
    },
    {
     "name": "stdout",
     "output_type": "stream",
     "text": [
      "Tempo gasto fold 10 - 00:00:00\n",
      "\n"
     ]
    },
    {
     "data": {
      "text/plain": [
       "(      Acuracy  Precision    Recall  F1-score    F-beta       MCC    TP  \\\n",
       " KNN  0.994007   0.619048  0.333333  0.433333  0.367232  0.331269  39.0   \n",
       " \n",
       "           TN  ROC Curve  \n",
       " KNN  16879.0   0.665957  ,\n",
       "          Acuracy  Precision    Recall  F1-score    F-beta       MCC    TP  \\\n",
       " Fold1   0.991187   0.357143  0.454545  0.400000  0.431034  0.398547   5.0   \n",
       " Fold2   0.995300   0.600000  0.818182  0.692308  0.762712  0.698437  14.0   \n",
       " Fold3   0.994125   0.555556  0.454545  0.500000  0.471698  0.499608  19.0   \n",
       " Fold4   0.996475   0.875000  0.583333  0.700000  0.625000  0.712867  26.0   \n",
       " Fold5   0.994712   0.714286  0.416667  0.526316  0.454545  0.543192  31.0   \n",
       " Fold6   0.994712   0.800000  0.333333  0.470588  0.377358  0.514417  35.0   \n",
       " Fold7   0.993537   1.000000  0.083333  0.153846  0.102041  0.287740  36.0   \n",
       " Fold8   0.993537   1.000000  0.083333  0.153846  0.102041  0.287740  37.0   \n",
       " Fold9   0.992949   0.000000  0.000000  0.000000  0.000000  0.000000  37.0   \n",
       " Fold10  0.993537   0.666667  0.166667  0.266667  0.196078  0.331269  39.0   \n",
       " \n",
       "              TN  ROC Curve  \n",
       " Fold1    1682.0   0.724612  \n",
       " Fold2    3367.0   0.907317  \n",
       " Fold3    5054.0   0.726090  \n",
       " Fold4    6743.0   0.791371  \n",
       " Fold5    8431.0   0.707742  \n",
       " Fold6   10120.0   0.666371  \n",
       " Fold7   11810.0   0.541667  \n",
       " Fold8   13500.0   0.541667  \n",
       " Fold9   15190.0   0.500000  \n",
       " Fold10  16879.0   0.583037  ,\n",
       " KNeighborsClassifier(metric='canberra'))"
      ]
     },
     "execution_count": 602,
     "metadata": {},
     "output_type": "execute_result"
    }
   ],
   "source": [
    "cv(X,y,knn,'KNN')"
   ]
  },
  {
   "cell_type": "markdown",
   "metadata": {},
   "source": [
    "**Cross_validation UnderSample**"
   ]
  },
  {
   "cell_type": "code",
   "execution_count": 603,
   "metadata": {},
   "outputs": [
    {
     "data": {
      "application/vnd.jupyter.widget-view+json": {
       "model_id": "21a8253ef02d4d56aa6e5f69868b542d",
       "version_major": 2,
       "version_minor": 0
      },
      "text/plain": [
       "HBox(children=(FloatProgress(value=1.0, bar_style='info', max=1.0), HTML(value='')))"
      ]
     },
     "metadata": {},
     "output_type": "display_data"
    },
    {
     "name": "stdout",
     "output_type": "stream",
     "text": [
      "For fold 1:\n",
      "KNN\n",
      "\n",
      "              precision    recall  f1-score   support\n",
      "\n",
      "           0       1.00      0.69      0.81      1691\n",
      "           1       0.02      1.00      0.04        11\n",
      "\n",
      "    accuracy                           0.69      1702\n",
      "   macro avg       0.51      0.84      0.43      1702\n",
      "weighted avg       0.99      0.69      0.81      1702\n",
      "\n",
      "      Acuracy  Precision  Recall  F1-score   F-beta       MCC    TP      TN  \\\n",
      "KNN  0.689777   0.020408     1.0      0.04  0.09434  0.118473  11.0  1163.0   \n",
      "\n",
      "     ROC Curve  \n",
      "KNN   0.843879  \n",
      "Confusion matrix, without normalization\n",
      "[[1163  528]\n",
      " [   0   11]]\n"
     ]
    },
    {
     "data": {
      "image/png": "[encoded data removed]",
      "text/plain": [
       "<Figure size 432x288 with 2 Axes>"
      ]
     },
     "metadata": {
      "needs_background": "light"
     },
     "output_type": "display_data"
    },
    {
     "name": "stdout",
     "output_type": "stream",
     "text": [
      "best fold 1\n",
      "KNN\n",
      "\n",
      "              precision    recall  f1-score   support\n",
      "\n",
      "           0       1.00      0.69      0.81      1691\n",
      "           1       0.02      1.00      0.04        11\n",
      "\n",
      "    accuracy                           0.69      1702\n",
      "   macro avg       0.51      0.84      0.43      1702\n",
      "weighted avg       0.99      0.69      0.81      1702\n",
      "\n",
      "      Acuracy  Precision  Recall  F1-score   F-beta       MCC    TP      TN  \\\n",
      "KNN  0.689777   0.020408     1.0      0.04  0.09434  0.118473  11.0  1163.0   \n",
      "\n",
      "     ROC Curve  \n",
      "KNN   0.843879  \n",
      "Confusion matrix, without normalization\n",
      "[[1163  528]\n",
      " [   0   11]]\n"
     ]
    },
    {
     "data": {
      "image/png": "[encoded data removed]",
      "text/plain": [
       "<Figure size 432x288 with 2 Axes>"
      ]
     },
     "metadata": {
      "needs_background": "light"
     },
     "output_type": "display_data"
    },
    {
     "name": "stdout",
     "output_type": "stream",
     "text": [
      "Tempo gasto fold 1 - 00:00:00\n",
      "For fold 2:\n",
      "KNN\n",
      "\n",
      "              precision    recall  f1-score   support\n",
      "\n",
      "           0       1.00      0.80      0.89      1691\n",
      "           1       0.03      1.00      0.06        11\n",
      "\n",
      "    accuracy                           0.80      1702\n",
      "   macro avg       0.52      0.90      0.48      1702\n",
      "weighted avg       0.99      0.80      0.88      1702\n",
      "\n",
      "      Acuracy  Precision  Recall  F1-score    F-beta       MCC    TP      TN  \\\n",
      "KNN  0.802585     0.0317     1.0  0.061453  0.140665  0.159378  11.0  1355.0   \n",
      "\n",
      "     ROC Curve  \n",
      "KNN   0.900651  \n",
      "Confusion matrix, without normalization\n",
      "[[1355  336]\n",
      " [   0   11]]\n"
     ]
    },
    {
     "data": {
      "image/png": "[encoded data removed]",
      "text/plain": [
       "<Figure size 432x288 with 2 Axes>"
      ]
     },
     "metadata": {
      "needs_background": "light"
     },
     "output_type": "display_data"
    },
    {
     "name": "stdout",
     "output_type": "stream",
     "text": [
      "best fold 2\n",
      "KNN\n",
      "\n",
      "              precision    recall  f1-score   support\n",
      "\n",
      "           0       1.00      0.80      0.89      1691\n",
      "           1       0.03      1.00      0.06        11\n",
      "\n",
      "    accuracy                           0.80      1702\n",
      "   macro avg       0.52      0.90      0.48      1702\n",
      "weighted avg       0.99      0.80      0.88      1702\n",
      "\n",
      "      Acuracy  Precision  Recall  F1-score    F-beta       MCC    TP      TN  \\\n",
      "KNN  0.802585     0.0317     1.0  0.061453  0.140665  0.159378  11.0  1355.0   \n",
      "\n",
      "     ROC Curve  \n",
      "KNN   0.900651  \n",
      "Confusion matrix, without normalization\n",
      "[[1355  336]\n",
      " [   0   11]]\n"
     ]
    },
    {
     "data": {
      "image/png": "[encoded data removed]",
      "text/plain": [
       "<Figure size 432x288 with 2 Axes>"
      ]
     },
     "metadata": {
      "needs_background": "light"
     },
     "output_type": "display_data"
    },
    {
     "name": "stdout",
     "output_type": "stream",
     "text": [
      "Tempo gasto fold 2 - 00:00:00\n",
      "For fold 3:\n",
      "KNN\n",
      "\n",
      "              precision    recall  f1-score   support\n",
      "\n",
      "           0       1.00      0.82      0.90      1691\n",
      "           1       0.03      0.91      0.06        11\n",
      "\n",
      "    accuracy                           0.82      1702\n",
      "   macro avg       0.52      0.87      0.48      1702\n",
      "weighted avg       0.99      0.82      0.90      1702\n",
      "\n",
      "      Acuracy  Precision    Recall  F1-score   F-beta       MCC    TP      TN  \\\n",
      "KNN  0.824912   0.032573  0.909091  0.062893  0.14245  0.152857  10.0  1394.0   \n",
      "\n",
      "     ROC Curve  \n",
      "KNN   0.866728  \n",
      "Confusion matrix, without normalization\n",
      "[[1394  297]\n",
      " [   1   10]]\n"
     ]
    },
    {
     "data": {
      "image/png": "[encoded data removed]",
      "text/plain": [
       "<Figure size 432x288 with 2 Axes>"
      ]
     },
     "metadata": {
      "needs_background": "light"
     },
     "output_type": "display_data"
    },
    {
     "name": "stdout",
     "output_type": "stream",
     "text": [
      "Tempo gasto fold 3 - 00:00:00\n",
      "For fold 4:\n",
      "KNN\n",
      "\n",
      "              precision    recall  f1-score   support\n",
      "\n",
      "           0       1.00      0.89      0.94      1690\n",
      "           1       0.06      1.00      0.11        12\n",
      "\n",
      "    accuracy                           0.89      1702\n",
      "   macro avg       0.53      0.94      0.53      1702\n",
      "weighted avg       0.99      0.89      0.93      1702\n",
      "\n",
      "      Acuracy  Precision  Recall  F1-score    F-beta       MCC    TP      TN  \\\n",
      "KNN  0.887779   0.059113     1.0  0.111628  0.239044  0.228981  12.0  1499.0   \n",
      "\n",
      "     ROC Curve  \n",
      "KNN   0.943491  \n",
      "Confusion matrix, without normalization\n",
      "[[1499  191]\n",
      " [   0   12]]\n"
     ]
    },
    {
     "data": {
      "image/png": "[encoded data removed]",
      "text/plain": [
       "<Figure size 432x288 with 2 Axes>"
      ]
     },
     "metadata": {
      "needs_background": "light"
     },
     "output_type": "display_data"
    },
    {
     "name": "stdout",
     "output_type": "stream",
     "text": [
      "best fold 4\n",
      "KNN\n",
      "\n",
      "              precision    recall  f1-score   support\n",
      "\n",
      "           0       1.00      0.89      0.94      1690\n",
      "           1       0.06      1.00      0.11        12\n",
      "\n",
      "    accuracy                           0.89      1702\n",
      "   macro avg       0.53      0.94      0.53      1702\n",
      "weighted avg       0.99      0.89      0.93      1702\n",
      "\n",
      "      Acuracy  Precision  Recall  F1-score    F-beta       MCC    TP      TN  \\\n",
      "KNN  0.887779   0.059113     1.0  0.111628  0.239044  0.228981  12.0  1499.0   \n",
      "\n",
      "     ROC Curve  \n",
      "KNN   0.943491  \n",
      "Confusion matrix, without normalization\n",
      "[[1499  191]\n",
      " [   0   12]]\n"
     ]
    },
    {
     "data": {
      "image/png": "[encoded data removed]",
      "text/plain": [
       "<Figure size 432x288 with 2 Axes>"
      ]
     },
     "metadata": {
      "needs_background": "light"
     },
     "output_type": "display_data"
    },
    {
     "name": "stdout",
     "output_type": "stream",
     "text": [
      "Tempo gasto fold 4 - 00:00:00\n",
      "For fold 5:\n",
      "KNN\n",
      "\n",
      "              precision    recall  f1-score   support\n",
      "\n",
      "           0       1.00      0.86      0.93      1690\n",
      "           1       0.05      1.00      0.09        12\n",
      "\n",
      "    accuracy                           0.86      1702\n",
      "   macro avg       0.52      0.93      0.51      1702\n",
      "weighted avg       0.99      0.86      0.92      1702\n",
      "\n",
      "      Acuracy  Precision  Recall  F1-score    F-beta       MCC    TP      TN  \\\n",
      "KNN  0.864277   0.049383     1.0  0.094118  0.206186  0.206477  12.0  1459.0   \n",
      "\n",
      "     ROC Curve  \n",
      "KNN   0.931657  \n",
      "Confusion matrix, without normalization\n",
      "[[1459  231]\n",
      " [   0   12]]\n"
     ]
    },
    {
     "data": {
      "image/png": "[encoded data removed]",
      "text/plain": [
       "<Figure size 432x288 with 2 Axes>"
      ]
     },
     "metadata": {
      "needs_background": "light"
     },
     "output_type": "display_data"
    },
    {
     "name": "stdout",
     "output_type": "stream",
     "text": [
      "Tempo gasto fold 5 - 00:00:00\n",
      "For fold 6:\n",
      "KNN\n",
      "\n",
      "              precision    recall  f1-score   support\n",
      "\n",
      "           0       1.00      0.87      0.93      1690\n",
      "           1       0.05      0.92      0.09        12\n",
      "\n",
      "    accuracy                           0.87      1702\n",
      "   macro avg       0.52      0.89      0.51      1702\n",
      "weighted avg       0.99      0.87      0.92      1702\n",
      "\n",
      "      Acuracy  Precision    Recall  F1-score    F-beta       MCC    TP  \\\n",
      "KNN  0.871328   0.048035  0.916667  0.091286  0.198556  0.193135  11.0   \n",
      "\n",
      "         TN  ROC Curve  \n",
      "KNN  1472.0   0.893836  \n",
      "Confusion matrix, without normalization\n",
      "[[1472  218]\n",
      " [   1   11]]\n"
     ]
    },
    {
     "data": {
      "image/png": "[encoded data removed]",
      "text/plain": [
       "<Figure size 432x288 with 2 Axes>"
      ]
     },
     "metadata": {
      "needs_background": "light"
     },
     "output_type": "display_data"
    },
    {
     "name": "stdout",
     "output_type": "stream",
     "text": [
      "Tempo gasto fold 6 - 00:00:00\n",
      "For fold 7:\n",
      "KNN\n",
      "\n",
      "              precision    recall  f1-score   support\n",
      "\n",
      "           0       1.00      0.97      0.98      1690\n",
      "           1       0.15      0.83      0.25        12\n",
      "\n",
      "    accuracy                           0.96      1702\n",
      "   macro avg       0.57      0.90      0.62      1702\n",
      "weighted avg       0.99      0.96      0.98      1702\n",
      "\n",
      "      Acuracy  Precision    Recall  F1-score    F-beta       MCC    TP  \\\n",
      "KNN  0.964747   0.147059  0.833333      0.25  0.431034  0.341356  10.0   \n",
      "\n",
      "         TN  ROC Curve  \n",
      "KNN  1632.0   0.899507  \n",
      "Confusion matrix, without normalization\n",
      "[[1632   58]\n",
      " [   2   10]]\n"
     ]
    },
    {
     "data": {
      "image/png": "[encoded data removed]",
      "text/plain": [
       "<Figure size 432x288 with 2 Axes>"
      ]
     },
     "metadata": {
      "needs_background": "light"
     },
     "output_type": "display_data"
    },
    {
     "name": "stdout",
     "output_type": "stream",
     "text": [
      "Tempo gasto fold 7 - 00:00:00\n",
      "For fold 8:\n",
      "KNN\n",
      "\n",
      "              precision    recall  f1-score   support\n",
      "\n",
      "           0       1.00      0.92      0.96      1690\n",
      "           1       0.07      0.83      0.13        12\n",
      "\n",
      "    accuracy                           0.92      1702\n",
      "   macro avg       0.54      0.88      0.55      1702\n",
      "weighted avg       0.99      0.92      0.95      1702\n",
      "\n",
      "      Acuracy  Precision    Recall  F1-score   F-beta       MCC    TP      TN  \\\n",
      "KNN  0.923032   0.071942  0.833333   0.13245  0.26738  0.231283  10.0  1561.0   \n",
      "\n",
      "     ROC Curve  \n",
      "KNN   0.878501  \n",
      "Confusion matrix, without normalization\n",
      "[[1561  129]\n",
      " [   2   10]]\n"
     ]
    },
    {
     "data": {
      "image/png": "[encoded data removed]",
      "text/plain": [
       "<Figure size 432x288 with 2 Axes>"
      ]
     },
     "metadata": {
      "needs_background": "light"
     },
     "output_type": "display_data"
    },
    {
     "name": "stdout",
     "output_type": "stream",
     "text": [
      "Tempo gasto fold 8 - 00:00:00\n",
      "For fold 9:\n",
      "KNN\n",
      "\n",
      "              precision    recall  f1-score   support\n",
      "\n",
      "           0       1.00      0.89      0.94      1690\n",
      "           1       0.04      0.75      0.08        12\n",
      "\n",
      "    accuracy                           0.88      1702\n",
      "   macro avg       0.52      0.82      0.51      1702\n",
      "weighted avg       0.99      0.88      0.93      1702\n",
      "\n",
      "      Acuracy  Precision  Recall  F1-score  F-beta       MCC   TP      TN  \\\n",
      "KNN  0.884841   0.044554    0.75  0.084112    0.18  0.164487  9.0  1497.0   \n",
      "\n",
      "     ROC Curve  \n",
      "KNN   0.817899  \n",
      "Confusion matrix, without normalization\n",
      "[[1497  193]\n",
      " [   3    9]]\n"
     ]
    },
    {
     "data": {
      "image/png": "[encoded data removed]",
      "text/plain": [
       "<Figure size 432x288 with 2 Axes>"
      ]
     },
     "metadata": {
      "needs_background": "light"
     },
     "output_type": "display_data"
    },
    {
     "name": "stdout",
     "output_type": "stream",
     "text": [
      "Tempo gasto fold 9 - 00:00:00\n",
      "For fold 10:\n",
      "KNN\n",
      "\n",
      "              precision    recall  f1-score   support\n",
      "\n",
      "           0       1.00      0.91      0.95      1690\n",
      "           1       0.06      0.83      0.11        12\n",
      "\n",
      "    accuracy                           0.91      1702\n",
      "   macro avg       0.53      0.87      0.53      1702\n",
      "weighted avg       0.99      0.91      0.94      1702\n",
      "\n",
      "     Acuracy  Precision    Recall  F1-score    F-beta       MCC    TP      TN  \\\n",
      "KNN  0.90658    0.05988  0.833333  0.111732  0.232558  0.208261  10.0  1533.0   \n",
      "\n",
      "     ROC Curve  \n",
      "KNN   0.870217  \n",
      "Confusion matrix, without normalization\n",
      "[[1533  157]\n",
      " [   2   10]]\n"
     ]
    },
    {
     "data": {
      "image/png": "[encoded data removed]",
      "text/plain": [
       "<Figure size 432x288 with 2 Axes>"
      ]
     },
     "metadata": {
      "needs_background": "light"
     },
     "output_type": "display_data"
    },
    {
     "name": "stdout",
     "output_type": "stream",
     "text": [
      "Tempo gasto fold 10 - 00:00:00\n",
      "\n"
     ]
    },
    {
     "data": {
      "text/plain": [
       "(      Acuracy  Precision    Recall  F1-score    F-beta       MCC     TP  \\\n",
       " KNN  0.861986   0.043372  0.905983   0.08278  0.182005  0.208261  106.0   \n",
       " \n",
       "           TN  ROC Curve  \n",
       " KNN  14565.0   0.883832  ,\n",
       "          Acuracy  Precision    Recall  F1-score    F-beta       MCC     TP  \\\n",
       " Fold1   0.689777   0.020408  1.000000  0.040000  0.094340  0.118473   11.0   \n",
       " Fold2   0.802585   0.031700  1.000000  0.061453  0.140665  0.159378   22.0   \n",
       " Fold3   0.824912   0.032573  0.909091  0.062893  0.142450  0.152857   32.0   \n",
       " Fold4   0.887779   0.059113  1.000000  0.111628  0.239044  0.228981   44.0   \n",
       " Fold5   0.864277   0.049383  1.000000  0.094118  0.206186  0.206477   56.0   \n",
       " Fold6   0.871328   0.048035  0.916667  0.091286  0.198556  0.193135   67.0   \n",
       " Fold7   0.964747   0.147059  0.833333  0.250000  0.431034  0.341356   77.0   \n",
       " Fold8   0.923032   0.071942  0.833333  0.132450  0.267380  0.231283   87.0   \n",
       " Fold9   0.884841   0.044554  0.750000  0.084112  0.180000  0.164487   96.0   \n",
       " Fold10  0.906580   0.059880  0.833333  0.111732  0.232558  0.208261  106.0   \n",
       " \n",
       "              TN  ROC Curve  \n",
       " Fold1    1163.0   0.843879  \n",
       " Fold2    2518.0   0.900651  \n",
       " Fold3    3912.0   0.866728  \n",
       " Fold4    5411.0   0.943491  \n",
       " Fold5    6870.0   0.931657  \n",
       " Fold6    8342.0   0.893836  \n",
       " Fold7    9974.0   0.899507  \n",
       " Fold8   11535.0   0.878501  \n",
       " Fold9   13032.0   0.817899  \n",
       " Fold10  14565.0   0.870217  ,\n",
       " KNeighborsClassifier(metric='canberra'))"
      ]
     },
     "execution_count": 603,
     "metadata": {},
     "output_type": "execute_result"
    }
   ],
   "source": [
    "cv(X,y,knn,'KNN', balancer=nr)"
   ]
  },
  {
   "cell_type": "markdown",
   "metadata": {},
   "source": [
    "**Cross_validation OverSample**"
   ]
  },
  {
   "cell_type": "code",
   "execution_count": 604,
   "metadata": {},
   "outputs": [
    {
     "data": {
      "application/vnd.jupyter.widget-view+json": {
       "model_id": "98338c869f13416d826908586ef67b93",
       "version_major": 2,
       "version_minor": 0
      },
      "text/plain": [
       "HBox(children=(FloatProgress(value=1.0, bar_style='info', max=1.0), HTML(value='')))"
      ]
     },
     "metadata": {},
     "output_type": "display_data"
    },
    {
     "name": "stdout",
     "output_type": "stream",
     "text": [
      "For fold 1:\n",
      "KNN\n",
      "\n",
      "              precision    recall  f1-score   support\n",
      "\n",
      "           0       1.00      0.93      0.97      1691\n",
      "           1       0.09      1.00      0.17        11\n",
      "\n",
      "    accuracy                           0.94      1702\n",
      "   macro avg       0.55      0.97      0.57      1702\n",
      "weighted avg       0.99      0.94      0.96      1702\n",
      "\n",
      "     Acuracy  Precision  Recall  F1-score    F-beta      MCC    TP      TN  \\\n",
      "KNN  0.93537   0.090909     1.0  0.166667  0.333333  0.29154  11.0  1581.0   \n",
      "\n",
      "     ROC Curve  \n",
      "KNN   0.967475  \n",
      "Confusion matrix, without normalization\n",
      "[[1581  110]\n",
      " [   0   11]]\n"
     ]
    },
    {
     "data": {
      "image/png": "[encoded data removed]",
      "text/plain": [
       "<Figure size 432x288 with 2 Axes>"
      ]
     },
     "metadata": {
      "needs_background": "light"
     },
     "output_type": "display_data"
    },
    {
     "name": "stdout",
     "output_type": "stream",
     "text": [
      "best fold 1\n",
      "KNN\n",
      "\n",
      "              precision    recall  f1-score   support\n",
      "\n",
      "           0       1.00      0.93      0.97      1691\n",
      "           1       0.09      1.00      0.17        11\n",
      "\n",
      "    accuracy                           0.94      1702\n",
      "   macro avg       0.55      0.97      0.57      1702\n",
      "weighted avg       0.99      0.94      0.96      1702\n",
      "\n",
      "     Acuracy  Precision  Recall  F1-score    F-beta      MCC    TP      TN  \\\n",
      "KNN  0.93537   0.090909     1.0  0.166667  0.333333  0.29154  11.0  1581.0   \n",
      "\n",
      "     ROC Curve  \n",
      "KNN   0.967475  \n",
      "Confusion matrix, without normalization\n",
      "[[1581  110]\n",
      " [   0   11]]\n"
     ]
    },
    {
     "data": {
      "image/png": "[encoded data removed]",
      "text/plain": [
       "<Figure size 432x288 with 2 Axes>"
      ]
     },
     "metadata": {
      "needs_background": "light"
     },
     "output_type": "display_data"
    },
    {
     "name": "stdout",
     "output_type": "stream",
     "text": [
      "Tempo gasto fold 1 - 00:00:00\n",
      "For fold 2:\n",
      "KNN\n",
      "\n",
      "              precision    recall  f1-score   support\n",
      "\n",
      "           0       1.00      0.96      0.98      1691\n",
      "           1       0.12      0.91      0.21        11\n",
      "\n",
      "    accuracy                           0.95      1702\n",
      "   macro avg       0.56      0.93      0.59      1702\n",
      "weighted avg       0.99      0.95      0.97      1702\n",
      "\n",
      "      Acuracy  Precision    Recall  F1-score    F-beta       MCC    TP  \\\n",
      "KNN  0.954759   0.116279  0.909091  0.206186  0.384615  0.316145  10.0   \n",
      "\n",
      "         TN  ROC Curve  \n",
      "KNN  1615.0   0.932074  \n",
      "Confusion matrix, without normalization\n",
      "[[1615   76]\n",
      " [   1   10]]\n"
     ]
    },
    {
     "data": {
      "image/png": "[encoded data removed]",
      "text/plain": [
       "<Figure size 432x288 with 2 Axes>"
      ]
     },
     "metadata": {
      "needs_background": "light"
     },
     "output_type": "display_data"
    },
    {
     "name": "stdout",
     "output_type": "stream",
     "text": [
      "Tempo gasto fold 2 - 00:00:00\n",
      "For fold 3:\n",
      "KNN\n",
      "\n",
      "              precision    recall  f1-score   support\n",
      "\n",
      "           0       1.00      0.96      0.98      1691\n",
      "           1       0.11      0.73      0.18        11\n",
      "\n",
      "    accuracy                           0.96      1702\n",
      "   macro avg       0.55      0.84      0.58      1702\n",
      "weighted avg       0.99      0.96      0.97      1702\n",
      "\n",
      "      Acuracy  Precision    Recall  F1-score    F-beta      MCC   TP      TN  \\\n",
      "KNN  0.958284   0.105263  0.727273  0.183908  0.333333  0.26656  8.0  1623.0   \n",
      "\n",
      "     ROC Curve  \n",
      "KNN    0.84353  \n",
      "Confusion matrix, without normalization\n",
      "[[1623   68]\n",
      " [   3    8]]\n"
     ]
    },
    {
     "data": {
      "image/png": "[encoded data removed]",
      "text/plain": [
       "<Figure size 432x288 with 2 Axes>"
      ]
     },
     "metadata": {
      "needs_background": "light"
     },
     "output_type": "display_data"
    },
    {
     "name": "stdout",
     "output_type": "stream",
     "text": [
      "Tempo gasto fold 3 - 00:00:00\n",
      "For fold 4:\n",
      "KNN\n",
      "\n",
      "              precision    recall  f1-score   support\n",
      "\n",
      "           0       1.00      0.97      0.99      1690\n",
      "           1       0.20      0.92      0.33        12\n",
      "\n",
      "    accuracy                           0.97      1702\n",
      "   macro avg       0.60      0.95      0.66      1702\n",
      "weighted avg       0.99      0.97      0.98      1702\n",
      "\n",
      "      Acuracy  Precision    Recall  F1-score    F-beta       MCC    TP  \\\n",
      "KNN  0.973561        0.2  0.916667  0.328358  0.533981  0.421409  11.0   \n",
      "\n",
      "         TN  ROC Curve  \n",
      "KNN  1646.0   0.945316  \n",
      "Confusion matrix, without normalization\n",
      "[[1646   44]\n",
      " [   1   11]]\n"
     ]
    },
    {
     "data": {
      "image/png": "[encoded data removed]",
      "text/plain": [
       "<Figure size 432x288 with 2 Axes>"
      ]
     },
     "metadata": {
      "needs_background": "light"
     },
     "output_type": "display_data"
    },
    {
     "name": "stdout",
     "output_type": "stream",
     "text": [
      "Tempo gasto fold 4 - 00:00:00\n",
      "For fold 5:\n",
      "KNN\n",
      "\n",
      "              precision    recall  f1-score   support\n",
      "\n",
      "           0       1.00      0.97      0.98      1690\n",
      "           1       0.14      0.67      0.24        12\n",
      "\n",
      "    accuracy                           0.97      1702\n",
      "   macro avg       0.57      0.82      0.61      1702\n",
      "weighted avg       0.99      0.97      0.98      1702\n",
      "\n",
      "      Acuracy  Precision    Recall  F1-score    F-beta       MCC   TP      TN  \\\n",
      "KNN  0.969448   0.142857  0.666667  0.235294  0.384615  0.299382  8.0  1642.0   \n",
      "\n",
      "     ROC Curve  \n",
      "KNN   0.819132  \n",
      "Confusion matrix, without normalization\n",
      "[[1642   48]\n",
      " [   4    8]]\n"
     ]
    },
    {
     "data": {
      "image/png": "[encoded data removed]",
      "text/plain": [
       "<Figure size 432x288 with 2 Axes>"
      ]
     },
     "metadata": {
      "needs_background": "light"
     },
     "output_type": "display_data"
    },
    {
     "name": "stdout",
     "output_type": "stream",
     "text": [
      "Tempo gasto fold 5 - 00:00:00\n",
      "For fold 6:\n",
      "KNN\n",
      "\n",
      "              precision    recall  f1-score   support\n",
      "\n",
      "           0       1.00      0.98      0.99      1690\n",
      "           1       0.29      1.00      0.44        12\n",
      "\n",
      "    accuracy                           0.98      1702\n",
      "   macro avg       0.64      0.99      0.72      1702\n",
      "weighted avg       0.99      0.98      0.99      1702\n",
      "\n",
      "      Acuracy  Precision  Recall  F1-score    F-beta       MCC    TP      TN  \\\n",
      "KNN  0.982374   0.285714     1.0  0.444444  0.666667  0.529757  12.0  1660.0   \n",
      "\n",
      "     ROC Curve  \n",
      "KNN   0.991124  \n",
      "Confusion matrix, without normalization\n",
      "[[1660   30]\n",
      " [   0   12]]\n"
     ]
    },
    {
     "data": {
      "image/png": "[encoded data removed]",
      "text/plain": [
       "<Figure size 432x288 with 2 Axes>"
      ]
     },
     "metadata": {
      "needs_background": "light"
     },
     "output_type": "display_data"
    },
    {
     "name": "stdout",
     "output_type": "stream",
     "text": [
      "best fold 6\n",
      "KNN\n",
      "\n",
      "              precision    recall  f1-score   support\n",
      "\n",
      "           0       1.00      0.98      0.99      1690\n",
      "           1       0.29      1.00      0.44        12\n",
      "\n",
      "    accuracy                           0.98      1702\n",
      "   macro avg       0.64      0.99      0.72      1702\n",
      "weighted avg       0.99      0.98      0.99      1702\n",
      "\n",
      "      Acuracy  Precision  Recall  F1-score    F-beta       MCC    TP      TN  \\\n",
      "KNN  0.982374   0.285714     1.0  0.444444  0.666667  0.529757  12.0  1660.0   \n",
      "\n",
      "     ROC Curve  \n",
      "KNN   0.991124  \n",
      "Confusion matrix, without normalization\n",
      "[[1660   30]\n",
      " [   0   12]]\n"
     ]
    },
    {
     "data": {
      "image/png": "[encoded data removed]",
      "text/plain": [
       "<Figure size 432x288 with 2 Axes>"
      ]
     },
     "metadata": {
      "needs_background": "light"
     },
     "output_type": "display_data"
    },
    {
     "name": "stdout",
     "output_type": "stream",
     "text": [
      "Tempo gasto fold 6 - 00:00:00\n",
      "For fold 7:\n",
      "KNN\n",
      "\n",
      "              precision    recall  f1-score   support\n",
      "\n",
      "           0       1.00      0.99      0.99      1690\n",
      "           1       0.32      0.83      0.47        12\n",
      "\n",
      "    accuracy                           0.99      1702\n",
      "   macro avg       0.66      0.91      0.73      1702\n",
      "weighted avg       0.99      0.99      0.99      1702\n",
      "\n",
      "      Acuracy  Precision    Recall  F1-score    F-beta      MCC    TP      TN  \\\n",
      "KNN  0.986486   0.322581  0.833333  0.465116  0.632911  0.51364  10.0  1669.0   \n",
      "\n",
      "     ROC Curve  \n",
      "KNN   0.910454  \n",
      "Confusion matrix, without normalization\n",
      "[[1669   21]\n",
      " [   2   10]]\n"
     ]
    },
    {
     "data": {
      "image/png": "[encoded data removed]",
      "text/plain": [
       "<Figure size 432x288 with 2 Axes>"
      ]
     },
     "metadata": {
      "needs_background": "light"
     },
     "output_type": "display_data"
    },
    {
     "name": "stdout",
     "output_type": "stream",
     "text": [
      "Tempo gasto fold 7 - 00:00:00\n",
      "For fold 8:\n",
      "KNN\n",
      "\n",
      "              precision    recall  f1-score   support\n",
      "\n",
      "           0       1.00      0.98      0.99      1690\n",
      "           1       0.15      0.42      0.22        12\n",
      "\n",
      "    accuracy                           0.98      1702\n",
      "   macro avg       0.57      0.70      0.61      1702\n",
      "weighted avg       0.99      0.98      0.98      1702\n",
      "\n",
      "      Acuracy  Precision    Recall  F1-score    F-beta       MCC   TP      TN  \\\n",
      "KNN  0.979436   0.151515  0.416667  0.222222  0.308642  0.242782  5.0  1662.0   \n",
      "\n",
      "     ROC Curve  \n",
      "KNN   0.700049  \n",
      "Confusion matrix, without normalization\n",
      "[[1662   28]\n",
      " [   7    5]]\n"
     ]
    },
    {
     "data": {
      "image/png": "[encoded data removed]",
      "text/plain": [
       "<Figure size 432x288 with 2 Axes>"
      ]
     },
     "metadata": {
      "needs_background": "light"
     },
     "output_type": "display_data"
    },
    {
     "name": "stdout",
     "output_type": "stream",
     "text": [
      "Tempo gasto fold 8 - 00:00:00\n",
      "For fold 9:\n",
      "KNN\n",
      "\n",
      "              precision    recall  f1-score   support\n",
      "\n",
      "           0       1.00      0.98      0.99      1690\n",
      "           1       0.21      0.75      0.33        12\n",
      "\n",
      "    accuracy                           0.98      1702\n",
      "   macro avg       0.60      0.86      0.66      1702\n",
      "weighted avg       0.99      0.98      0.98      1702\n",
      "\n",
      "      Acuracy  Precision  Recall  F1-score    F-beta       MCC   TP      TN  \\\n",
      "KNN  0.978261   0.209302    0.75  0.327273  0.494505  0.389161  9.0  1656.0   \n",
      "\n",
      "     ROC Curve  \n",
      "KNN   0.864941  \n",
      "Confusion matrix, without normalization\n",
      "[[1656   34]\n",
      " [   3    9]]\n"
     ]
    },
    {
     "data": {
      "image/png": "[encoded data removed]",
      "text/plain": [
       "<Figure size 432x288 with 2 Axes>"
      ]
     },
     "metadata": {
      "needs_background": "light"
     },
     "output_type": "display_data"
    },
    {
     "name": "stdout",
     "output_type": "stream",
     "text": [
      "Tempo gasto fold 9 - 00:00:01\n",
      "For fold 10:\n",
      "KNN\n",
      "\n",
      "              precision    recall  f1-score   support\n",
      "\n",
      "           0       1.00      0.98      0.99      1690\n",
      "           1       0.27      0.92      0.42        12\n",
      "\n",
      "    accuracy                           0.98      1702\n",
      "   macro avg       0.63      0.95      0.70      1702\n",
      "weighted avg       0.99      0.98      0.99      1702\n",
      "\n",
      "      Acuracy  Precision    Recall  F1-score    F-beta       MCC    TP  \\\n",
      "KNN  0.981786   0.268293  0.916667  0.415094  0.617978  0.490542  11.0   \n",
      "\n",
      "         TN  ROC Curve  \n",
      "KNN  1660.0   0.949458  \n",
      "Confusion matrix, without normalization\n",
      "[[1660   30]\n",
      " [   1   11]]\n"
     ]
    },
    {
     "data": {
      "image/png": "[encoded data removed]",
      "text/plain": [
       "<Figure size 432x288 with 2 Axes>"
      ]
     },
     "metadata": {
      "needs_background": "light"
     },
     "output_type": "display_data"
    },
    {
     "name": "stdout",
     "output_type": "stream",
     "text": [
      "Tempo gasto fold 10 - 00:00:00\n",
      "\n"
     ]
    },
    {
     "data": {
      "text/plain": [
       "(      Acuracy  Precision    Recall  F1-score    F-beta       MCC    TP  \\\n",
       " KNN  0.969976   0.162671  0.811966  0.271041  0.451521  0.490542  95.0   \n",
       " \n",
       "           TN  ROC Curve  \n",
       " KNN  16414.0   0.891518  ,\n",
       "          Acuracy  Precision    Recall  F1-score    F-beta       MCC    TP  \\\n",
       " Fold1   0.935370   0.090909  1.000000  0.166667  0.333333  0.291540  11.0   \n",
       " Fold2   0.954759   0.116279  0.909091  0.206186  0.384615  0.316145  21.0   \n",
       " Fold3   0.958284   0.105263  0.727273  0.183908  0.333333  0.266560  29.0   \n",
       " Fold4   0.973561   0.200000  0.916667  0.328358  0.533981  0.421409  40.0   \n",
       " Fold5   0.969448   0.142857  0.666667  0.235294  0.384615  0.299382  48.0   \n",
       " Fold6   0.982374   0.285714  1.000000  0.444444  0.666667  0.529757  60.0   \n",
       " Fold7   0.986486   0.322581  0.833333  0.465116  0.632911  0.513640  70.0   \n",
       " Fold8   0.979436   0.151515  0.416667  0.222222  0.308642  0.242782  75.0   \n",
       " Fold9   0.978261   0.209302  0.750000  0.327273  0.494505  0.389161  84.0   \n",
       " Fold10  0.981786   0.268293  0.916667  0.415094  0.617978  0.490542  95.0   \n",
       " \n",
       "              TN  ROC Curve  \n",
       " Fold1    1581.0   0.967475  \n",
       " Fold2    3196.0   0.932074  \n",
       " Fold3    4819.0   0.843530  \n",
       " Fold4    6465.0   0.945316  \n",
       " Fold5    8107.0   0.819132  \n",
       " Fold6    9767.0   0.991124  \n",
       " Fold7   11436.0   0.910454  \n",
       " Fold8   13098.0   0.700049  \n",
       " Fold9   14754.0   0.864941  \n",
       " Fold10  16414.0   0.949458  ,\n",
       " KNeighborsClassifier(metric='canberra'))"
      ]
     },
     "execution_count": 604,
     "metadata": {},
     "output_type": "execute_result"
    }
   ],
   "source": [
    "cv(X,y,knn,'KNN', balancer=smt)"
   ]
  },
  {
   "cell_type": "markdown",
   "metadata": {},
   "source": [
    "### Decision Tree"
   ]
  },
  {
   "cell_type": "code",
   "execution_count": 605,
   "metadata": {},
   "outputs": [],
   "source": [
    "dct = DecisionTreeClassifier(max_depth=5, max_features='sqrt', class_weight=\"balanced\")"
   ]
  },
  {
   "cell_type": "markdown",
   "metadata": {},
   "source": [
    "**Cross_validation sem balanceamento**"
   ]
  },
  {
   "cell_type": "code",
   "execution_count": 606,
   "metadata": {
    "scrolled": true
   },
   "outputs": [
    {
     "data": {
      "application/vnd.jupyter.widget-view+json": {
       "model_id": "3625df2f8cbf46f48271c863ac2e0ece",
       "version_major": 2,
       "version_minor": 0
      },
      "text/plain": [
       "HBox(children=(FloatProgress(value=1.0, bar_style='info', max=1.0), HTML(value='')))"
      ]
     },
     "metadata": {},
     "output_type": "display_data"
    },
    {
     "name": "stdout",
     "output_type": "stream",
     "text": [
      "For fold 1:\n",
      "Decision Tree\n",
      "\n",
      "              precision    recall  f1-score   support\n",
      "\n",
      "           0       1.00      0.90      0.95      1691\n",
      "           1       0.05      0.91      0.10        11\n",
      "\n",
      "    accuracy                           0.90      1702\n",
      "   macro avg       0.53      0.90      0.52      1702\n",
      "weighted avg       0.99      0.90      0.94      1702\n",
      "\n",
      "                Acuracy  Precision    Recall  F1-score    F-beta       MCC  \\\n",
      "Decision Tree  0.897767   0.054645  0.909091  0.103093  0.220264  0.208699   \n",
      "\n",
      "                 TP      TN  ROC Curve  \n",
      "Decision Tree  10.0  1518.0   0.903392  \n",
      "Confusion matrix, without normalization\n",
      "[[1518  173]\n",
      " [   1   10]]\n"
     ]
    },
    {
     "data": {
      "image/png": "[encoded data removed]",
      "text/plain": [
       "<Figure size 432x288 with 2 Axes>"
      ]
     },
     "metadata": {
      "needs_background": "light"
     },
     "output_type": "display_data"
    },
    {
     "name": "stdout",
     "output_type": "stream",
     "text": [
      "best fold 1\n",
      "Decision Tree\n",
      "\n",
      "              precision    recall  f1-score   support\n",
      "\n",
      "           0       1.00      0.90      0.95      1691\n",
      "           1       0.05      0.91      0.10        11\n",
      "\n",
      "    accuracy                           0.90      1702\n",
      "   macro avg       0.53      0.90      0.52      1702\n",
      "weighted avg       0.99      0.90      0.94      1702\n",
      "\n",
      "                Acuracy  Precision    Recall  F1-score    F-beta       MCC  \\\n",
      "Decision Tree  0.897767   0.054645  0.909091  0.103093  0.220264  0.208699   \n",
      "\n",
      "                 TP      TN  ROC Curve  \n",
      "Decision Tree  10.0  1518.0   0.903392  \n",
      "Confusion matrix, without normalization\n",
      "[[1518  173]\n",
      " [   1   10]]\n"
     ]
    },
    {
     "data": {
      "image/png": "[encoded data removed]",
      "text/plain": [
       "<Figure size 432x288 with 2 Axes>"
      ]
     },
     "metadata": {
      "needs_background": "light"
     },
     "output_type": "display_data"
    },
    {
     "name": "stdout",
     "output_type": "stream",
     "text": [
      "Tempo gasto fold 1 - 00:00:00\n",
      "For fold 2:\n",
      "Decision Tree\n",
      "\n",
      "              precision    recall  f1-score   support\n",
      "\n",
      "           0       1.00      0.90      0.95      1691\n",
      "           1       0.04      0.64      0.08        11\n",
      "\n",
      "    accuracy                           0.90      1702\n",
      "   macro avg       0.52      0.77      0.51      1702\n",
      "weighted avg       0.99      0.90      0.94      1702\n",
      "\n",
      "                Acuracy  Precision    Recall  F1-score   F-beta       MCC  \\\n",
      "Decision Tree  0.900118   0.040462  0.636364  0.076087  0.16129  0.142719   \n",
      "\n",
      "                TP      TN  ROC Curve  \n",
      "Decision Tree  7.0  1525.0   0.769098  \n",
      "Confusion matrix, without normalization\n",
      "[[1525  166]\n",
      " [   4    7]]\n"
     ]
    },
    {
     "data": {
      "image/png": "[encoded data removed]",
      "text/plain": [
       "<Figure size 432x288 with 2 Axes>"
      ]
     },
     "metadata": {
      "needs_background": "light"
     },
     "output_type": "display_data"
    },
    {
     "name": "stdout",
     "output_type": "stream",
     "text": [
      "Tempo gasto fold 2 - 00:00:00\n",
      "For fold 3:\n",
      "Decision Tree\n",
      "\n",
      "              precision    recall  f1-score   support\n",
      "\n",
      "           0       1.00      0.92      0.96      1691\n",
      "           1       0.07      0.91      0.13        11\n",
      "\n",
      "    accuracy                           0.92      1702\n",
      "   macro avg       0.54      0.92      0.55      1702\n",
      "weighted avg       0.99      0.92      0.95      1702\n",
      "\n",
      "                Acuracy  Precision    Recall  F1-score   F-beta       MCC  \\\n",
      "Decision Tree  0.922444   0.070922  0.909091  0.131579  0.27027  0.241759   \n",
      "\n",
      "                 TP      TN  ROC Curve  \n",
      "Decision Tree  10.0  1560.0   0.915811  \n",
      "Confusion matrix, without normalization\n",
      "[[1560  131]\n",
      " [   1   10]]\n"
     ]
    },
    {
     "data": {
      "image/png": "[encoded data removed]",
      "text/plain": [
       "<Figure size 432x288 with 2 Axes>"
      ]
     },
     "metadata": {
      "needs_background": "light"
     },
     "output_type": "display_data"
    },
    {
     "name": "stdout",
     "output_type": "stream",
     "text": [
      "best fold 3\n",
      "Decision Tree\n",
      "\n",
      "              precision    recall  f1-score   support\n",
      "\n",
      "           0       1.00      0.92      0.96      1691\n",
      "           1       0.07      0.91      0.13        11\n",
      "\n",
      "    accuracy                           0.92      1702\n",
      "   macro avg       0.54      0.92      0.55      1702\n",
      "weighted avg       0.99      0.92      0.95      1702\n",
      "\n",
      "                Acuracy  Precision    Recall  F1-score   F-beta       MCC  \\\n",
      "Decision Tree  0.922444   0.070922  0.909091  0.131579  0.27027  0.241759   \n",
      "\n",
      "                 TP      TN  ROC Curve  \n",
      "Decision Tree  10.0  1560.0   0.915811  \n",
      "Confusion matrix, without normalization\n",
      "[[1560  131]\n",
      " [   1   10]]\n"
     ]
    },
    {
     "data": {
      "image/png": "[encoded data removed]",
      "text/plain": [
       "<Figure size 432x288 with 2 Axes>"
      ]
     },
     "metadata": {
      "needs_background": "light"
     },
     "output_type": "display_data"
    },
    {
     "name": "stdout",
     "output_type": "stream",
     "text": [
      "Tempo gasto fold 3 - 00:00:00\n",
      "For fold 4:\n",
      "Decision Tree\n",
      "\n",
      "              precision    recall  f1-score   support\n",
      "\n",
      "           0       1.00      0.95      0.98      1690\n",
      "           1       0.12      0.92      0.21        12\n",
      "\n",
      "    accuracy                           0.95      1702\n",
      "   macro avg       0.56      0.93      0.59      1702\n",
      "weighted avg       0.99      0.95      0.97      1702\n",
      "\n",
      "                Acuracy  Precision    Recall  F1-score    F-beta       MCC  \\\n",
      "Decision Tree  0.952409   0.120879  0.916667  0.213592  0.395683  0.323333   \n",
      "\n",
      "                 TP      TN  ROC Curve  \n",
      "Decision Tree  11.0  1610.0   0.934665  \n",
      "Confusion matrix, without normalization\n",
      "[[1610   80]\n",
      " [   1   11]]\n"
     ]
    },
    {
     "data": {
      "image/png": "[encoded data removed]",
      "text/plain": [
       "<Figure size 432x288 with 2 Axes>"
      ]
     },
     "metadata": {
      "needs_background": "light"
     },
     "output_type": "display_data"
    },
    {
     "name": "stdout",
     "output_type": "stream",
     "text": [
      "best fold 4\n",
      "Decision Tree\n",
      "\n",
      "              precision    recall  f1-score   support\n",
      "\n",
      "           0       1.00      0.95      0.98      1690\n",
      "           1       0.12      0.92      0.21        12\n",
      "\n",
      "    accuracy                           0.95      1702\n",
      "   macro avg       0.56      0.93      0.59      1702\n",
      "weighted avg       0.99      0.95      0.97      1702\n",
      "\n",
      "                Acuracy  Precision    Recall  F1-score    F-beta       MCC  \\\n",
      "Decision Tree  0.952409   0.120879  0.916667  0.213592  0.395683  0.323333   \n",
      "\n",
      "                 TP      TN  ROC Curve  \n",
      "Decision Tree  11.0  1610.0   0.934665  \n",
      "Confusion matrix, without normalization\n",
      "[[1610   80]\n",
      " [   1   11]]\n"
     ]
    },
    {
     "data": {
      "image/png": "[encoded data removed]",
      "text/plain": [
       "<Figure size 432x288 with 2 Axes>"
      ]
     },
     "metadata": {
      "needs_background": "light"
     },
     "output_type": "display_data"
    },
    {
     "name": "stdout",
     "output_type": "stream",
     "text": [
      "Tempo gasto fold 4 - 00:00:00\n",
      "For fold 5:\n",
      "Decision Tree\n",
      "\n",
      "              precision    recall  f1-score   support\n",
      "\n",
      "           0       1.00      0.95      0.97      1690\n",
      "           1       0.11      0.92      0.20        12\n",
      "\n",
      "    accuracy                           0.95      1702\n",
      "   macro avg       0.56      0.93      0.59      1702\n",
      "weighted avg       0.99      0.95      0.97      1702\n",
      "\n",
      "                Acuracy  Precision    Recall  F1-score    F-beta       MCC  \\\n",
      "Decision Tree  0.948296   0.112245  0.916667       0.2  0.376712  0.310763   \n",
      "\n",
      "                 TP      TN  ROC Curve  \n",
      "Decision Tree  11.0  1603.0   0.932594  \n",
      "Confusion matrix, without normalization\n",
      "[[1603   87]\n",
      " [   1   11]]\n"
     ]
    },
    {
     "data": {
      "image/png": "[encoded data removed]",
      "text/plain": [
       "<Figure size 432x288 with 2 Axes>"
      ]
     },
     "metadata": {
      "needs_background": "light"
     },
     "output_type": "display_data"
    },
    {
     "name": "stdout",
     "output_type": "stream",
     "text": [
      "Tempo gasto fold 5 - 00:00:00\n",
      "For fold 6:\n",
      "Decision Tree\n",
      "\n",
      "              precision    recall  f1-score   support\n",
      "\n",
      "           0       1.00      0.95      0.98      1690\n",
      "           1       0.12      0.92      0.21        12\n",
      "\n",
      "    accuracy                           0.95      1702\n",
      "   macro avg       0.56      0.93      0.59      1702\n",
      "weighted avg       0.99      0.95      0.97      1702\n",
      "\n",
      "                Acuracy  Precision    Recall  F1-score    F-beta       MCC  \\\n",
      "Decision Tree  0.952409   0.120879  0.916667  0.213592  0.395683  0.323333   \n",
      "\n",
      "                 TP      TN  ROC Curve  \n",
      "Decision Tree  11.0  1610.0   0.934665  \n",
      "Confusion matrix, without normalization\n",
      "[[1610   80]\n",
      " [   1   11]]\n"
     ]
    },
    {
     "data": {
      "image/png": "[encoded data removed]",
      "text/plain": [
       "<Figure size 432x288 with 2 Axes>"
      ]
     },
     "metadata": {
      "needs_background": "light"
     },
     "output_type": "display_data"
    },
    {
     "name": "stdout",
     "output_type": "stream",
     "text": [
      "Tempo gasto fold 6 - 00:00:00\n",
      "For fold 7:\n",
      "Decision Tree\n",
      "\n",
      "              precision    recall  f1-score   support\n",
      "\n",
      "           0       1.00      0.98      0.99      1690\n",
      "           1       0.17      0.67      0.28        12\n",
      "\n",
      "    accuracy                           0.98      1702\n",
      "   macro avg       0.59      0.82      0.63      1702\n",
      "weighted avg       0.99      0.98      0.98      1702\n",
      "\n",
      "                Acuracy  Precision    Recall  F1-score    F-beta       MCC  \\\n",
      "Decision Tree  0.975323   0.173913  0.666667  0.275862  0.425532  0.332379   \n",
      "\n",
      "                TP      TN  ROC Curve  \n",
      "Decision Tree  8.0  1652.0   0.822091  \n",
      "Confusion matrix, without normalization\n",
      "[[1652   38]\n",
      " [   4    8]]\n"
     ]
    },
    {
     "data": {
      "image/png": "[encoded data removed]",
      "text/plain": [
       "<Figure size 432x288 with 2 Axes>"
      ]
     },
     "metadata": {
      "needs_background": "light"
     },
     "output_type": "display_data"
    },
    {
     "name": "stdout",
     "output_type": "stream",
     "text": [
      "Tempo gasto fold 7 - 00:00:00\n",
      "For fold 8:\n",
      "Decision Tree\n",
      "\n",
      "              precision    recall  f1-score   support\n",
      "\n",
      "           0       1.00      0.99      0.99      1690\n",
      "           1       0.21      0.50      0.30        12\n",
      "\n",
      "    accuracy                           0.98      1702\n",
      "   macro avg       0.61      0.74      0.65      1702\n",
      "weighted avg       0.99      0.98      0.99      1702\n",
      "\n",
      "                Acuracy  Precision  Recall  F1-score    F-beta       MCC   TP  \\\n",
      "Decision Tree  0.983549   0.214286     0.5       0.3  0.394737  0.320325  6.0   \n",
      "\n",
      "                   TN  ROC Curve  \n",
      "Decision Tree  1668.0   0.743491  \n",
      "Confusion matrix, without normalization\n",
      "[[1668   22]\n",
      " [   6    6]]\n"
     ]
    },
    {
     "data": {
      "image/png": "[encoded data removed]",
      "text/plain": [
       "<Figure size 432x288 with 2 Axes>"
      ]
     },
     "metadata": {
      "needs_background": "light"
     },
     "output_type": "display_data"
    },
    {
     "name": "stdout",
     "output_type": "stream",
     "text": [
      "Tempo gasto fold 8 - 00:00:00\n",
      "For fold 9:\n",
      "Decision Tree\n",
      "\n",
      "              precision    recall  f1-score   support\n",
      "\n",
      "           0       1.00      0.98      0.99      1690\n",
      "           1       0.23      1.00      0.38        12\n",
      "\n",
      "    accuracy                           0.98      1702\n",
      "   macro avg       0.62      0.99      0.68      1702\n",
      "weighted avg       0.99      0.98      0.98      1702\n",
      "\n",
      "                Acuracy  Precision  Recall  F1-score  F-beta       MCC    TP  \\\n",
      "Decision Tree  0.976498   0.230769     1.0     0.375     0.6  0.474665  12.0   \n",
      "\n",
      "                   TN  ROC Curve  \n",
      "Decision Tree  1650.0   0.988166  \n",
      "Confusion matrix, without normalization\n",
      "[[1650   40]\n",
      " [   0   12]]\n"
     ]
    },
    {
     "data": {
      "image/png": "[encoded data removed]",
      "text/plain": [
       "<Figure size 432x288 with 2 Axes>"
      ]
     },
     "metadata": {
      "needs_background": "light"
     },
     "output_type": "display_data"
    },
    {
     "name": "stdout",
     "output_type": "stream",
     "text": [
      "best fold 9\n",
      "Decision Tree\n",
      "\n",
      "              precision    recall  f1-score   support\n",
      "\n",
      "           0       1.00      0.98      0.99      1690\n",
      "           1       0.23      1.00      0.38        12\n",
      "\n",
      "    accuracy                           0.98      1702\n",
      "   macro avg       0.62      0.99      0.68      1702\n",
      "weighted avg       0.99      0.98      0.98      1702\n",
      "\n",
      "                Acuracy  Precision  Recall  F1-score  F-beta       MCC    TP  \\\n",
      "Decision Tree  0.976498   0.230769     1.0     0.375     0.6  0.474665  12.0   \n",
      "\n",
      "                   TN  ROC Curve  \n",
      "Decision Tree  1650.0   0.988166  \n",
      "Confusion matrix, without normalization\n",
      "[[1650   40]\n",
      " [   0   12]]\n"
     ]
    },
    {
     "data": {
      "image/png": "[encoded data removed]",
      "text/plain": [
       "<Figure size 432x288 with 2 Axes>"
      ]
     },
     "metadata": {
      "needs_background": "light"
     },
     "output_type": "display_data"
    },
    {
     "name": "stdout",
     "output_type": "stream",
     "text": [
      "Tempo gasto fold 9 - 00:00:00\n",
      "For fold 10:\n",
      "Decision Tree\n",
      "\n",
      "              precision    recall  f1-score   support\n",
      "\n",
      "           0       1.00      0.98      0.99      1690\n",
      "           1       0.21      0.92      0.34        12\n",
      "\n",
      "    accuracy                           0.98      1702\n",
      "   macro avg       0.61      0.95      0.67      1702\n",
      "weighted avg       0.99      0.98      0.98      1702\n",
      "\n",
      "                Acuracy  Precision    Recall  F1-score  F-beta       MCC  \\\n",
      "Decision Tree  0.975323   0.211538  0.916667   0.34375    0.55  0.433863   \n",
      "\n",
      "                 TP      TN  ROC Curve  \n",
      "Decision Tree  11.0  1649.0   0.946203  \n",
      "Confusion matrix, without normalization\n",
      "[[1649   41]\n",
      " [   1   11]]\n"
     ]
    },
    {
     "data": {
      "image/png": "[encoded data removed]",
      "text/plain": [
       "<Figure size 432x288 with 2 Axes>"
      ]
     },
     "metadata": {
      "needs_background": "light"
     },
     "output_type": "display_data"
    },
    {
     "name": "stdout",
     "output_type": "stream",
     "text": [
      "Tempo gasto fold 10 - 00:00:00\n",
      "\n"
     ]
    }
   ],
   "source": [
    "results_metrics, results_cv, bestModel = cv(X,y,dct,'Decision Tree')"
   ]
  },
  {
   "cell_type": "code",
   "execution_count": 611,
   "metadata": {},
   "outputs": [
    {
     "data": {
      "text/html": [
       "<div>\n",
       "<style scoped>\n",
       "    .dataframe tbody tr th:only-of-type {\n",
       "        vertical-align: middle;\n",
       "    }\n",
       "\n",
       "    .dataframe tbody tr th {\n",
       "        vertical-align: top;\n",
       "    }\n",
       "\n",
       "    .dataframe thead th {\n",
       "        text-align: right;\n",
       "    }\n",
       "</style>\n",
       "<table border=\"1\" class=\"dataframe\">\n",
       "  <thead>\n",
       "    <tr style=\"text-align: right;\">\n",
       "      <th></th>\n",
       "      <th>Acuracy</th>\n",
       "      <th>Precision</th>\n",
       "      <th>Recall</th>\n",
       "      <th>F1-score</th>\n",
       "      <th>F-beta</th>\n",
       "      <th>MCC</th>\n",
       "      <th>TP</th>\n",
       "      <th>TN</th>\n",
       "      <th>ROC Curve</th>\n",
       "    </tr>\n",
       "  </thead>\n",
       "  <tbody>\n",
       "    <tr>\n",
       "      <th>Decision Tree</th>\n",
       "      <td>0.948414</td>\n",
       "      <td>0.101571</td>\n",
       "      <td>0.82906</td>\n",
       "      <td>0.18097</td>\n",
       "      <td>0.340829</td>\n",
       "      <td>0.433863</td>\n",
       "      <td>97.0</td>\n",
       "      <td>16045.0</td>\n",
       "      <td>0.88915</td>\n",
       "    </tr>\n",
       "  </tbody>\n",
       "</table>\n",
       "</div>"
      ],
      "text/plain": [
       "                Acuracy  Precision   Recall  F1-score    F-beta       MCC  \\\n",
       "Decision Tree  0.948414   0.101571  0.82906   0.18097  0.340829  0.433863   \n",
       "\n",
       "                 TP       TN  ROC Curve  \n",
       "Decision Tree  97.0  16045.0    0.88915  "
      ]
     },
     "execution_count": 611,
     "metadata": {},
     "output_type": "execute_result"
    }
   ],
   "source": [
    "results_metrics"
   ]
  },
  {
   "cell_type": "markdown",
   "metadata": {},
   "source": [
    "**Cross_validation UnderSample**"
   ]
  },
  {
   "cell_type": "code",
   "execution_count": 607,
   "metadata": {},
   "outputs": [
    {
     "data": {
      "application/vnd.jupyter.widget-view+json": {
       "model_id": "5167dc22784c4fc1bd91eefb835609d6",
       "version_major": 2,
       "version_minor": 0
      },
      "text/plain": [
       "HBox(children=(FloatProgress(value=1.0, bar_style='info', max=1.0), HTML(value='')))"
      ]
     },
     "metadata": {},
     "output_type": "display_data"
    },
    {
     "name": "stdout",
     "output_type": "stream",
     "text": [
      "For fold 1:\n",
      "Decision Tree\n",
      "\n",
      "              precision    recall  f1-score   support\n",
      "\n",
      "           0       1.00      0.40      0.57      1691\n",
      "           1       0.01      1.00      0.02        11\n",
      "\n",
      "    accuracy                           0.41      1702\n",
      "   macro avg       0.51      0.70      0.30      1702\n",
      "weighted avg       0.99      0.41      0.57      1702\n",
      "\n",
      "                Acuracy  Precision  Recall  F1-score    F-beta      MCC    TP  \\\n",
      "Decision Tree  0.407168   0.010784     1.0  0.021339  0.051692  0.06595  11.0   \n",
      "\n",
      "                  TN  ROC Curve  \n",
      "Decision Tree  682.0   0.701656  \n",
      "Confusion matrix, without normalization\n",
      "[[ 682 1009]\n",
      " [   0   11]]\n"
     ]
    },
    {
     "data": {
      "image/png": "[encoded data removed]",
      "text/plain": [
       "<Figure size 432x288 with 2 Axes>"
      ]
     },
     "metadata": {
      "needs_background": "light"
     },
     "output_type": "display_data"
    },
    {
     "name": "stdout",
     "output_type": "stream",
     "text": [
      "best fold 1\n",
      "Decision Tree\n",
      "\n",
      "              precision    recall  f1-score   support\n",
      "\n",
      "           0       1.00      0.40      0.57      1691\n",
      "           1       0.01      1.00      0.02        11\n",
      "\n",
      "    accuracy                           0.41      1702\n",
      "   macro avg       0.51      0.70      0.30      1702\n",
      "weighted avg       0.99      0.41      0.57      1702\n",
      "\n",
      "                Acuracy  Precision  Recall  F1-score    F-beta      MCC    TP  \\\n",
      "Decision Tree  0.407168   0.010784     1.0  0.021339  0.051692  0.06595  11.0   \n",
      "\n",
      "                  TN  ROC Curve  \n",
      "Decision Tree  682.0   0.701656  \n",
      "Confusion matrix, without normalization\n",
      "[[ 682 1009]\n",
      " [   0   11]]\n"
     ]
    },
    {
     "data": {
      "image/png": "[encoded data removed]",
      "text/plain": [
       "<Figure size 432x288 with 2 Axes>"
      ]
     },
     "metadata": {
      "needs_background": "light"
     },
     "output_type": "display_data"
    },
    {
     "name": "stdout",
     "output_type": "stream",
     "text": [
      "Tempo gasto fold 1 - 00:00:00\n",
      "For fold 2:\n",
      "Decision Tree\n",
      "\n",
      "              precision    recall  f1-score   support\n",
      "\n",
      "           0       1.00      0.56      0.72      1691\n",
      "           1       0.01      1.00      0.03        11\n",
      "\n",
      "    accuracy                           0.57      1702\n",
      "   macro avg       0.51      0.78      0.38      1702\n",
      "weighted avg       0.99      0.57      0.72      1702\n",
      "\n",
      "               Acuracy  Precision  Recall  F1-score    F-beta       MCC    TP  \\\n",
      "Decision Tree  0.56698   0.014706     1.0  0.028986  0.069444  0.091085  11.0   \n",
      "\n",
      "                  TN  ROC Curve  \n",
      "Decision Tree  954.0   0.782082  \n",
      "Confusion matrix, without normalization\n",
      "[[954 737]\n",
      " [  0  11]]\n"
     ]
    },
    {
     "data": {
      "image/png": "[encoded data removed]",
      "text/plain": [
       "<Figure size 432x288 with 2 Axes>"
      ]
     },
     "metadata": {
      "needs_background": "light"
     },
     "output_type": "display_data"
    },
    {
     "name": "stdout",
     "output_type": "stream",
     "text": [
      "best fold 2\n",
      "Decision Tree\n",
      "\n",
      "              precision    recall  f1-score   support\n",
      "\n",
      "           0       1.00      0.56      0.72      1691\n",
      "           1       0.01      1.00      0.03        11\n",
      "\n",
      "    accuracy                           0.57      1702\n",
      "   macro avg       0.51      0.78      0.38      1702\n",
      "weighted avg       0.99      0.57      0.72      1702\n",
      "\n",
      "               Acuracy  Precision  Recall  F1-score    F-beta       MCC    TP  \\\n",
      "Decision Tree  0.56698   0.014706     1.0  0.028986  0.069444  0.091085  11.0   \n",
      "\n",
      "                  TN  ROC Curve  \n",
      "Decision Tree  954.0   0.782082  \n",
      "Confusion matrix, without normalization\n",
      "[[954 737]\n",
      " [  0  11]]\n"
     ]
    },
    {
     "data": {
      "image/png": "[encoded data removed]",
      "text/plain": [
       "<Figure size 432x288 with 2 Axes>"
      ]
     },
     "metadata": {
      "needs_background": "light"
     },
     "output_type": "display_data"
    },
    {
     "name": "stdout",
     "output_type": "stream",
     "text": [
      "Tempo gasto fold 2 - 00:00:00\n",
      "For fold 3:\n",
      "Decision Tree\n",
      "\n",
      "              precision    recall  f1-score   support\n",
      "\n",
      "           0       1.00      0.85      0.92      1691\n",
      "           1       0.04      0.91      0.07        11\n",
      "\n",
      "    accuracy                           0.85      1702\n",
      "   macro avg       0.52      0.88      0.49      1702\n",
      "weighted avg       0.99      0.85      0.91      1702\n",
      "\n",
      "                Acuracy  Precision    Recall  F1-score   F-beta       MCC  \\\n",
      "Decision Tree  0.846063     0.0369  0.909091  0.070922  0.15873  0.165296   \n",
      "\n",
      "                 TP      TN  ROC Curve  \n",
      "Decision Tree  10.0  1430.0   0.877372  \n",
      "Confusion matrix, without normalization\n",
      "[[1430  261]\n",
      " [   1   10]]\n"
     ]
    },
    {
     "data": {
      "image/png": "[encoded data removed]",
      "text/plain": [
       "<Figure size 432x288 with 2 Axes>"
      ]
     },
     "metadata": {
      "needs_background": "light"
     },
     "output_type": "display_data"
    },
    {
     "name": "stdout",
     "output_type": "stream",
     "text": [
      "best fold 3\n",
      "Decision Tree\n",
      "\n",
      "              precision    recall  f1-score   support\n",
      "\n",
      "           0       1.00      0.85      0.92      1691\n",
      "           1       0.04      0.91      0.07        11\n",
      "\n",
      "    accuracy                           0.85      1702\n",
      "   macro avg       0.52      0.88      0.49      1702\n",
      "weighted avg       0.99      0.85      0.91      1702\n",
      "\n",
      "                Acuracy  Precision    Recall  F1-score   F-beta       MCC  \\\n",
      "Decision Tree  0.846063     0.0369  0.909091  0.070922  0.15873  0.165296   \n",
      "\n",
      "                 TP      TN  ROC Curve  \n",
      "Decision Tree  10.0  1430.0   0.877372  \n",
      "Confusion matrix, without normalization\n",
      "[[1430  261]\n",
      " [   1   10]]\n"
     ]
    },
    {
     "data": {
      "image/png": "[encoded data removed]",
      "text/plain": [
       "<Figure size 432x288 with 2 Axes>"
      ]
     },
     "metadata": {
      "needs_background": "light"
     },
     "output_type": "display_data"
    },
    {
     "name": "stdout",
     "output_type": "stream",
     "text": [
      "Tempo gasto fold 3 - 00:00:00\n",
      "For fold 4:\n",
      "Decision Tree\n",
      "\n",
      "              precision    recall  f1-score   support\n",
      "\n",
      "           0       1.00      0.18      0.30      1690\n",
      "           1       0.01      1.00      0.02        12\n",
      "\n",
      "    accuracy                           0.19      1702\n",
      "   macro avg       0.50      0.59      0.16      1702\n",
      "weighted avg       0.99      0.19      0.30      1702\n",
      "\n",
      "                Acuracy  Precision  Recall  F1-score    F-beta       MCC  \\\n",
      "Decision Tree  0.185664   0.008584     1.0  0.017021  0.041494  0.039294   \n",
      "\n",
      "                 TP     TN  ROC Curve  \n",
      "Decision Tree  12.0  304.0   0.589941  \n",
      "Confusion matrix, without normalization\n",
      "[[ 304 1386]\n",
      " [   0   12]]\n"
     ]
    },
    {
     "data": {
      "image/png": "[encoded data removed]",
      "text/plain": [
       "<Figure size 432x288 with 2 Axes>"
      ]
     },
     "metadata": {
      "needs_background": "light"
     },
     "output_type": "display_data"
    },
    {
     "name": "stdout",
     "output_type": "stream",
     "text": [
      "Tempo gasto fold 4 - 00:00:00\n",
      "For fold 5:\n",
      "Decision Tree\n",
      "\n",
      "              precision    recall  f1-score   support\n",
      "\n",
      "           0       1.00      0.44      0.61      1690\n",
      "           1       0.01      1.00      0.02        12\n",
      "\n",
      "    accuracy                           0.45      1702\n",
      "   macro avg       0.51      0.72      0.32      1702\n",
      "weighted avg       0.99      0.45      0.61      1702\n",
      "\n",
      "                Acuracy  Precision  Recall  F1-score    F-beta       MCC  \\\n",
      "Decision Tree  0.445358   0.012552     1.0  0.024793  0.059761  0.074437   \n",
      "\n",
      "                 TP     TN  ROC Curve  \n",
      "Decision Tree  12.0  746.0    0.72071  \n",
      "Confusion matrix, without normalization\n",
      "[[746 944]\n",
      " [  0  12]]\n"
     ]
    },
    {
     "data": {
      "image/png": "[encoded data removed]",
      "text/plain": [
       "<Figure size 432x288 with 2 Axes>"
      ]
     },
     "metadata": {
      "needs_background": "light"
     },
     "output_type": "display_data"
    },
    {
     "name": "stdout",
     "output_type": "stream",
     "text": [
      "Tempo gasto fold 5 - 00:00:00\n",
      "For fold 6:\n",
      "Decision Tree\n",
      "\n",
      "              precision    recall  f1-score   support\n",
      "\n",
      "           0       1.00      0.31      0.48      1690\n",
      "           1       0.01      0.92      0.02        12\n",
      "\n",
      "    accuracy                           0.32      1702\n",
      "   macro avg       0.50      0.62      0.25      1702\n",
      "weighted avg       0.99      0.32      0.47      1702\n",
      "\n",
      "                Acuracy  Precision    Recall  F1-score    F-beta       MCC  \\\n",
      "Decision Tree  0.317861   0.009394  0.916667  0.018597  0.045119  0.041587   \n",
      "\n",
      "                 TP     TN  ROC Curve  \n",
      "Decision Tree  11.0  530.0   0.615138  \n",
      "Confusion matrix, without normalization\n",
      "[[ 530 1160]\n",
      " [   1   11]]\n"
     ]
    },
    {
     "data": {
      "image/png": "[encoded data removed]",
      "text/plain": [
       "<Figure size 432x288 with 2 Axes>"
      ]
     },
     "metadata": {
      "needs_background": "light"
     },
     "output_type": "display_data"
    },
    {
     "name": "stdout",
     "output_type": "stream",
     "text": [
      "Tempo gasto fold 6 - 00:00:00\n",
      "For fold 7:\n",
      "Decision Tree\n",
      "\n",
      "              precision    recall  f1-score   support\n",
      "\n",
      "           0       1.00      0.97      0.98      1690\n",
      "           1       0.14      0.83      0.25        12\n",
      "\n",
      "    accuracy                           0.96      1702\n",
      "   macro avg       0.57      0.90      0.61      1702\n",
      "weighted avg       0.99      0.96      0.98      1702\n",
      "\n",
      "               Acuracy  Precision    Recall  F1-score   F-beta       MCC  \\\n",
      "Decision Tree  0.96416   0.144928  0.833333  0.246914  0.42735  0.338726   \n",
      "\n",
      "                 TP      TN  ROC Curve  \n",
      "Decision Tree  10.0  1631.0   0.899211  \n",
      "Confusion matrix, without normalization\n",
      "[[1631   59]\n",
      " [   2   10]]\n"
     ]
    },
    {
     "data": {
      "image/png": "[encoded data removed]",
      "text/plain": [
       "<Figure size 432x288 with 2 Axes>"
      ]
     },
     "metadata": {
      "needs_background": "light"
     },
     "output_type": "display_data"
    },
    {
     "name": "stdout",
     "output_type": "stream",
     "text": [
      "best fold 7\n",
      "Decision Tree\n",
      "\n",
      "              precision    recall  f1-score   support\n",
      "\n",
      "           0       1.00      0.97      0.98      1690\n",
      "           1       0.14      0.83      0.25        12\n",
      "\n",
      "    accuracy                           0.96      1702\n",
      "   macro avg       0.57      0.90      0.61      1702\n",
      "weighted avg       0.99      0.96      0.98      1702\n",
      "\n",
      "               Acuracy  Precision    Recall  F1-score   F-beta       MCC  \\\n",
      "Decision Tree  0.96416   0.144928  0.833333  0.246914  0.42735  0.338726   \n",
      "\n",
      "                 TP      TN  ROC Curve  \n",
      "Decision Tree  10.0  1631.0   0.899211  \n",
      "Confusion matrix, without normalization\n",
      "[[1631   59]\n",
      " [   2   10]]\n"
     ]
    },
    {
     "data": {
      "image/png": "[encoded data removed]",
      "text/plain": [
       "<Figure size 432x288 with 2 Axes>"
      ]
     },
     "metadata": {
      "needs_background": "light"
     },
     "output_type": "display_data"
    },
    {
     "name": "stdout",
     "output_type": "stream",
     "text": [
      "Tempo gasto fold 7 - 00:00:00\n",
      "For fold 8:\n",
      "Decision Tree\n",
      "\n",
      "              precision    recall  f1-score   support\n",
      "\n",
      "           0       0.98      0.07      0.13      1690\n",
      "           1       0.01      0.83      0.01        12\n",
      "\n",
      "    accuracy                           0.08      1702\n",
      "   macro avg       0.49      0.45      0.07      1702\n",
      "weighted avg       0.98      0.08      0.13      1702\n",
      "\n",
      "                Acuracy  Precision    Recall  F1-score    F-beta       MCC  \\\n",
      "Decision Tree  0.076381   0.006329  0.833333  0.012563  0.030713 -0.031028   \n",
      "\n",
      "                 TP     TN  ROC Curve  \n",
      "Decision Tree  10.0  120.0    0.45217  \n",
      "Confusion matrix, without normalization\n",
      "[[ 120 1570]\n",
      " [   2   10]]\n"
     ]
    },
    {
     "data": {
      "image/png": "[encoded data removed]",
      "text/plain": [
       "<Figure size 432x288 with 2 Axes>"
      ]
     },
     "metadata": {
      "needs_background": "light"
     },
     "output_type": "display_data"
    },
    {
     "name": "stdout",
     "output_type": "stream",
     "text": [
      "Tempo gasto fold 8 - 00:00:00\n",
      "For fold 9:\n",
      "Decision Tree\n",
      "\n",
      "              precision    recall  f1-score   support\n",
      "\n",
      "           0       1.00      0.43      0.60      1690\n",
      "           1       0.01      0.83      0.02        12\n",
      "\n",
      "    accuracy                           0.43      1702\n",
      "   macro avg       0.50      0.63      0.31      1702\n",
      "weighted avg       0.99      0.43      0.60      1702\n",
      "\n",
      "               Acuracy  Precision    Recall  F1-score    F-beta       MCC  \\\n",
      "Decision Tree  0.43302   0.010277  0.833333  0.020305  0.048972  0.044557   \n",
      "\n",
      "                 TP     TN  ROC Curve  \n",
      "Decision Tree  10.0  727.0   0.631755  \n",
      "Confusion matrix, without normalization\n",
      "[[727 963]\n",
      " [  2  10]]\n"
     ]
    },
    {
     "data": {
      "image/png": "[encoded data removed]",
      "text/plain": [
       "<Figure size 432x288 with 2 Axes>"
      ]
     },
     "metadata": {
      "needs_background": "light"
     },
     "output_type": "display_data"
    },
    {
     "name": "stdout",
     "output_type": "stream",
     "text": [
      "Tempo gasto fold 9 - 00:00:00\n",
      "For fold 10:\n",
      "Decision Tree\n",
      "\n",
      "              precision    recall  f1-score   support\n",
      "\n",
      "           0       1.00      0.41      0.58      1690\n",
      "           1       0.01      1.00      0.02        12\n",
      "\n",
      "    accuracy                           0.42      1702\n",
      "   macro avg       0.51      0.71      0.30      1702\n",
      "weighted avg       0.99      0.42      0.58      1702\n",
      "\n",
      "                Acuracy  Precision  Recall  F1-score   F-beta       MCC    TP  \\\n",
      "Decision Tree  0.416569    0.01194     1.0  0.023599  0.05698  0.070175  12.0   \n",
      "\n",
      "                  TN  ROC Curve  \n",
      "Decision Tree  697.0   0.706213  \n",
      "Confusion matrix, without normalization\n",
      "[[697 993]\n",
      " [  0  12]]\n"
     ]
    },
    {
     "data": {
      "image/png": "[encoded data removed]",
      "text/plain": [
       "<Figure size 432x288 with 2 Axes>"
      ]
     },
     "metadata": {
      "needs_background": "light"
     },
     "output_type": "display_data"
    },
    {
     "name": "stdout",
     "output_type": "stream",
     "text": [
      "Tempo gasto fold 10 - 00:00:00\n",
      "\n"
     ]
    },
    {
     "data": {
      "text/plain": [
       "(                Acuracy  Precision    Recall  F1-score    F-beta       MCC  \\\n",
       " Decision Tree  0.465922   0.011859  0.931624  0.023421  0.056424  0.070175   \n",
       " \n",
       "                   TP      TN  ROC Curve  \n",
       " Decision Tree  109.0  7821.0   0.697161  ,\n",
       "          Acuracy  Precision    Recall  F1-score    F-beta       MCC     TP  \\\n",
       " Fold1   0.407168   0.010784  1.000000  0.021339  0.051692  0.065950   11.0   \n",
       " Fold2   0.566980   0.014706  1.000000  0.028986  0.069444  0.091085   22.0   \n",
       " Fold3   0.846063   0.036900  0.909091  0.070922  0.158730  0.165296   32.0   \n",
       " Fold4   0.185664   0.008584  1.000000  0.017021  0.041494  0.039294   44.0   \n",
       " Fold5   0.445358   0.012552  1.000000  0.024793  0.059761  0.074437   56.0   \n",
       " Fold6   0.317861   0.009394  0.916667  0.018597  0.045119  0.041587   67.0   \n",
       " Fold7   0.964160   0.144928  0.833333  0.246914  0.427350  0.338726   77.0   \n",
       " Fold8   0.076381   0.006329  0.833333  0.012563  0.030713 -0.031028   87.0   \n",
       " Fold9   0.433020   0.010277  0.833333  0.020305  0.048972  0.044557   97.0   \n",
       " Fold10  0.416569   0.011940  1.000000  0.023599  0.056980  0.070175  109.0   \n",
       " \n",
       "             TN  ROC Curve  \n",
       " Fold1    682.0   0.701656  \n",
       " Fold2   1636.0   0.782082  \n",
       " Fold3   3066.0   0.877372  \n",
       " Fold4   3370.0   0.589941  \n",
       " Fold5   4116.0   0.720710  \n",
       " Fold6   4646.0   0.615138  \n",
       " Fold7   6277.0   0.899211  \n",
       " Fold8   6397.0   0.452170  \n",
       " Fold9   7124.0   0.631755  \n",
       " Fold10  7821.0   0.706213  ,\n",
       " DecisionTreeClassifier(class_weight='balanced', max_depth=5,\n",
       "                        max_features='sqrt'))"
      ]
     },
     "execution_count": 607,
     "metadata": {},
     "output_type": "execute_result"
    }
   ],
   "source": [
    "cv(X,y,dct,'Decision Tree', balancer=nm)"
   ]
  },
  {
   "cell_type": "markdown",
   "metadata": {},
   "source": [
    "**Cross_validation OverSample**"
   ]
  },
  {
   "cell_type": "code",
   "execution_count": 608,
   "metadata": {},
   "outputs": [
    {
     "data": {
      "application/vnd.jupyter.widget-view+json": {
       "model_id": "9980b49687f94529a716f1a8df779f54",
       "version_major": 2,
       "version_minor": 0
      },
      "text/plain": [
       "HBox(children=(FloatProgress(value=1.0, bar_style='info', max=1.0), HTML(value='')))"
      ]
     },
     "metadata": {},
     "output_type": "display_data"
    },
    {
     "name": "stdout",
     "output_type": "stream",
     "text": [
      "For fold 1:\n",
      "Decision Tree\n",
      "\n",
      "              precision    recall  f1-score   support\n",
      "\n",
      "           0       1.00      0.92      0.96      1691\n",
      "           1       0.07      1.00      0.13        11\n",
      "\n",
      "    accuracy                           0.92      1702\n",
      "   macro avg       0.54      0.96      0.55      1702\n",
      "weighted avg       0.99      0.92      0.95      1702\n",
      "\n",
      "                Acuracy  Precision  Recall  F1-score    F-beta       MCC  \\\n",
      "Decision Tree  0.916569   0.071895     1.0  0.134146  0.279188  0.256628   \n",
      "\n",
      "                 TP      TN  ROC Curve  \n",
      "Decision Tree  11.0  1549.0   0.958013  \n",
      "Confusion matrix, without normalization\n",
      "[[1549  142]\n",
      " [   0   11]]\n"
     ]
    },
    {
     "data": {
      "image/png": "[encoded data removed]",
      "text/plain": [
       "<Figure size 432x288 with 2 Axes>"
      ]
     },
     "metadata": {
      "needs_background": "light"
     },
     "output_type": "display_data"
    },
    {
     "name": "stdout",
     "output_type": "stream",
     "text": [
      "best fold 1\n",
      "Decision Tree\n",
      "\n",
      "              precision    recall  f1-score   support\n",
      "\n",
      "           0       1.00      0.92      0.96      1691\n",
      "           1       0.07      1.00      0.13        11\n",
      "\n",
      "    accuracy                           0.92      1702\n",
      "   macro avg       0.54      0.96      0.55      1702\n",
      "weighted avg       0.99      0.92      0.95      1702\n",
      "\n",
      "                Acuracy  Precision  Recall  F1-score    F-beta       MCC  \\\n",
      "Decision Tree  0.916569   0.071895     1.0  0.134146  0.279188  0.256628   \n",
      "\n",
      "                 TP      TN  ROC Curve  \n",
      "Decision Tree  11.0  1549.0   0.958013  \n",
      "Confusion matrix, without normalization\n",
      "[[1549  142]\n",
      " [   0   11]]\n"
     ]
    },
    {
     "data": {
      "image/png": "[encoded data removed]",
      "text/plain": [
       "<Figure size 432x288 with 2 Axes>"
      ]
     },
     "metadata": {
      "needs_background": "light"
     },
     "output_type": "display_data"
    },
    {
     "name": "stdout",
     "output_type": "stream",
     "text": [
      "Tempo gasto fold 1 - 00:00:00\n",
      "For fold 2:\n",
      "Decision Tree\n",
      "\n",
      "              precision    recall  f1-score   support\n",
      "\n",
      "           0       1.00      0.93      0.97      1691\n",
      "           1       0.07      0.73      0.12        11\n",
      "\n",
      "    accuracy                           0.93      1702\n",
      "   macro avg       0.53      0.83      0.54      1702\n",
      "weighted avg       0.99      0.93      0.96      1702\n",
      "\n",
      "                Acuracy  Precision    Recall  F1-score    F-beta       MCC  \\\n",
      "Decision Tree  0.933608   0.067797  0.727273  0.124031  0.246914  0.208907   \n",
      "\n",
      "                TP      TN  ROC Curve  \n",
      "Decision Tree  8.0  1581.0   0.831111  \n",
      "Confusion matrix, without normalization\n",
      "[[1581  110]\n",
      " [   3    8]]\n"
     ]
    },
    {
     "data": {
      "image/png": "[encoded data removed]",
      "text/plain": [
       "<Figure size 432x288 with 2 Axes>"
      ]
     },
     "metadata": {
      "needs_background": "light"
     },
     "output_type": "display_data"
    },
    {
     "name": "stdout",
     "output_type": "stream",
     "text": [
      "Tempo gasto fold 2 - 00:00:00\n",
      "For fold 3:\n",
      "Decision Tree\n",
      "\n",
      "              precision    recall  f1-score   support\n",
      "\n",
      "           0       1.00      0.95      0.97      1691\n",
      "           1       0.10      0.91      0.18        11\n",
      "\n",
      "    accuracy                           0.94      1702\n",
      "   macro avg       0.55      0.93      0.57      1702\n",
      "weighted avg       0.99      0.94      0.97      1702\n",
      "\n",
      "                Acuracy  Precision    Recall  F1-score    F-beta       MCC  \\\n",
      "Decision Tree  0.944771   0.097087  0.909091  0.175439  0.340136  0.287032   \n",
      "\n",
      "                 TP      TN  ROC Curve  \n",
      "Decision Tree  10.0  1598.0   0.927047  \n",
      "Confusion matrix, without normalization\n",
      "[[1598   93]\n",
      " [   1   10]]\n"
     ]
    },
    {
     "data": {
      "image/png": "[encoded data removed]",
      "text/plain": [
       "<Figure size 432x288 with 2 Axes>"
      ]
     },
     "metadata": {
      "needs_background": "light"
     },
     "output_type": "display_data"
    },
    {
     "name": "stdout",
     "output_type": "stream",
     "text": [
      "Tempo gasto fold 3 - 00:00:00\n",
      "For fold 4:\n",
      "Decision Tree\n",
      "\n",
      "              precision    recall  f1-score   support\n",
      "\n",
      "           0       1.00      0.96      0.98      1690\n",
      "           1       0.14      0.92      0.25        12\n",
      "\n",
      "    accuracy                           0.96      1702\n",
      "   macro avg       0.57      0.94      0.62      1702\n",
      "weighted avg       0.99      0.96      0.97      1702\n",
      "\n",
      "                Acuracy  Precision    Recall  F1-score    F-beta       MCC  \\\n",
      "Decision Tree  0.961222   0.144737  0.916667      0.25  0.443548  0.355765   \n",
      "\n",
      "                 TP      TN  ROC Curve  \n",
      "Decision Tree  11.0  1625.0   0.939103  \n",
      "Confusion matrix, without normalization\n",
      "[[1625   65]\n",
      " [   1   11]]\n"
     ]
    },
    {
     "data": {
      "image/png": "[encoded data removed]",
      "text/plain": [
       "<Figure size 432x288 with 2 Axes>"
      ]
     },
     "metadata": {
      "needs_background": "light"
     },
     "output_type": "display_data"
    },
    {
     "name": "stdout",
     "output_type": "stream",
     "text": [
      "Tempo gasto fold 4 - 00:00:00\n",
      "For fold 5:\n",
      "Decision Tree\n",
      "\n",
      "              precision    recall  f1-score   support\n",
      "\n",
      "           0       1.00      0.96      0.98      1690\n",
      "           1       0.16      1.00      0.27        12\n",
      "\n",
      "    accuracy                           0.96      1702\n",
      "   macro avg       0.58      0.98      0.63      1702\n",
      "weighted avg       0.99      0.96      0.98      1702\n",
      "\n",
      "               Acuracy  Precision  Recall  F1-score  F-beta       MCC    TP  \\\n",
      "Decision Tree  0.96181   0.155844     1.0  0.269663    0.48  0.387105  12.0   \n",
      "\n",
      "                   TN  ROC Curve  \n",
      "Decision Tree  1625.0   0.980769  \n",
      "Confusion matrix, without normalization\n",
      "[[1625   65]\n",
      " [   0   12]]\n"
     ]
    },
    {
     "data": {
      "image/png": "[encoded data removed]",
      "text/plain": [
       "<Figure size 432x288 with 2 Axes>"
      ]
     },
     "metadata": {
      "needs_background": "light"
     },
     "output_type": "display_data"
    },
    {
     "name": "stdout",
     "output_type": "stream",
     "text": [
      "best fold 5\n",
      "Decision Tree\n",
      "\n",
      "              precision    recall  f1-score   support\n",
      "\n",
      "           0       1.00      0.96      0.98      1690\n",
      "           1       0.16      1.00      0.27        12\n",
      "\n",
      "    accuracy                           0.96      1702\n",
      "   macro avg       0.58      0.98      0.63      1702\n",
      "weighted avg       0.99      0.96      0.98      1702\n",
      "\n",
      "               Acuracy  Precision  Recall  F1-score  F-beta       MCC    TP  \\\n",
      "Decision Tree  0.96181   0.155844     1.0  0.269663    0.48  0.387105  12.0   \n",
      "\n",
      "                   TN  ROC Curve  \n",
      "Decision Tree  1625.0   0.980769  \n",
      "Confusion matrix, without normalization\n",
      "[[1625   65]\n",
      " [   0   12]]\n"
     ]
    },
    {
     "data": {
      "image/png": "[encoded data removed]",
      "text/plain": [
       "<Figure size 432x288 with 2 Axes>"
      ]
     },
     "metadata": {
      "needs_background": "light"
     },
     "output_type": "display_data"
    },
    {
     "name": "stdout",
     "output_type": "stream",
     "text": [
      "Tempo gasto fold 5 - 00:00:00\n",
      "For fold 6:\n",
      "Decision Tree\n",
      "\n",
      "              precision    recall  f1-score   support\n",
      "\n",
      "           0       1.00      0.96      0.98      1690\n",
      "           1       0.13      0.92      0.22        12\n",
      "\n",
      "    accuracy                           0.95      1702\n",
      "   macro avg       0.56      0.94      0.60      1702\n",
      "weighted avg       0.99      0.95      0.97      1702\n",
      "\n",
      "                Acuracy  Precision    Recall  F1-score    F-beta       MCC  \\\n",
      "Decision Tree  0.954759   0.126437  0.916667  0.222222  0.407407  0.331172   \n",
      "\n",
      "                 TP      TN  ROC Curve  \n",
      "Decision Tree  11.0  1614.0   0.935848  \n",
      "Confusion matrix, without normalization\n",
      "[[1614   76]\n",
      " [   1   11]]\n"
     ]
    },
    {
     "data": {
      "image/png": "[encoded data removed]",
      "text/plain": [
       "<Figure size 432x288 with 2 Axes>"
      ]
     },
     "metadata": {
      "needs_background": "light"
     },
     "output_type": "display_data"
    },
    {
     "name": "stdout",
     "output_type": "stream",
     "text": [
      "Tempo gasto fold 6 - 00:00:00\n",
      "For fold 7:\n",
      "Decision Tree\n",
      "\n",
      "              precision    recall  f1-score   support\n",
      "\n",
      "           0       1.00      0.97      0.99      1690\n",
      "           1       0.19      0.83      0.31        12\n",
      "\n",
      "    accuracy                           0.97      1702\n",
      "   macro avg       0.59      0.90      0.65      1702\n",
      "weighted avg       0.99      0.97      0.98      1702\n",
      "\n",
      "                Acuracy  Precision    Recall  F1-score   F-beta       MCC  \\\n",
      "Decision Tree  0.973561   0.188679  0.833333  0.307692  0.49505  0.389169   \n",
      "\n",
      "                 TP      TN  ROC Curve  \n",
      "Decision Tree  10.0  1647.0   0.903945  \n",
      "Confusion matrix, without normalization\n",
      "[[1647   43]\n",
      " [   2   10]]\n"
     ]
    },
    {
     "data": {
      "image/png": "[encoded data removed]",
      "text/plain": [
       "<Figure size 432x288 with 2 Axes>"
      ]
     },
     "metadata": {
      "needs_background": "light"
     },
     "output_type": "display_data"
    },
    {
     "name": "stdout",
     "output_type": "stream",
     "text": [
      "Tempo gasto fold 7 - 00:00:00\n",
      "For fold 8:\n",
      "Decision Tree\n",
      "\n",
      "              precision    recall  f1-score   support\n",
      "\n",
      "           0       1.00      0.98      0.99      1690\n",
      "           1       0.18      0.75      0.29        12\n",
      "\n",
      "    accuracy                           0.97      1702\n",
      "   macro avg       0.59      0.86      0.64      1702\n",
      "weighted avg       0.99      0.97      0.98      1702\n",
      "\n",
      "                Acuracy  Precision  Recall  F1-score    F-beta       MCC   TP  \\\n",
      "Decision Tree  0.974148       0.18    0.75  0.290323  0.459184  0.359604  9.0   \n",
      "\n",
      "                   TN  ROC Curve  \n",
      "Decision Tree  1649.0    0.86287  \n",
      "Confusion matrix, without normalization\n",
      "[[1649   41]\n",
      " [   3    9]]\n"
     ]
    },
    {
     "data": {
      "image/png": "[encoded data removed]",
      "text/plain": [
       "<Figure size 432x288 with 2 Axes>"
      ]
     },
     "metadata": {
      "needs_background": "light"
     },
     "output_type": "display_data"
    },
    {
     "name": "stdout",
     "output_type": "stream",
     "text": [
      "Tempo gasto fold 8 - 00:00:00\n",
      "For fold 9:\n",
      "Decision Tree\n",
      "\n",
      "              precision    recall  f1-score   support\n",
      "\n",
      "           0       1.00      0.98      0.99      1690\n",
      "           1       0.21      0.83      0.33        12\n",
      "\n",
      "    accuracy                           0.98      1702\n",
      "   macro avg       0.60      0.91      0.66      1702\n",
      "weighted avg       0.99      0.98      0.98      1702\n",
      "\n",
      "                Acuracy  Precision    Recall  F1-score    F-beta       MCC  \\\n",
      "Decision Tree  0.976498   0.208333  0.833333  0.333333  0.520833  0.409812   \n",
      "\n",
      "                 TP      TN  ROC Curve  \n",
      "Decision Tree  10.0  1652.0   0.905424  \n",
      "Confusion matrix, without normalization\n",
      "[[1652   38]\n",
      " [   2   10]]\n"
     ]
    },
    {
     "data": {
      "image/png": "[encoded data removed]",
      "text/plain": [
       "<Figure size 432x288 with 2 Axes>"
      ]
     },
     "metadata": {
      "needs_background": "light"
     },
     "output_type": "display_data"
    },
    {
     "name": "stdout",
     "output_type": "stream",
     "text": [
      "Tempo gasto fold 9 - 00:00:00\n",
      "For fold 10:\n",
      "Decision Tree\n",
      "\n",
      "              precision    recall  f1-score   support\n",
      "\n",
      "           0       1.00      0.97      0.99      1690\n",
      "           1       0.19      0.92      0.32        12\n",
      "\n",
      "    accuracy                           0.97      1702\n",
      "   macro avg       0.60      0.94      0.65      1702\n",
      "weighted avg       0.99      0.97      0.98      1702\n",
      "\n",
      "                Acuracy  Precision    Recall  F1-score   F-beta       MCC  \\\n",
      "Decision Tree  0.972385   0.192982  0.916667  0.318841  0.52381  0.413651   \n",
      "\n",
      "                 TP      TN  ROC Curve  \n",
      "Decision Tree  11.0  1644.0   0.944724  \n",
      "Confusion matrix, without normalization\n",
      "[[1644   46]\n",
      " [   1   11]]\n"
     ]
    },
    {
     "data": {
      "image/png": "[encoded data removed]",
      "text/plain": [
       "<Figure size 432x288 with 2 Axes>"
      ]
     },
     "metadata": {
      "needs_background": "light"
     },
     "output_type": "display_data"
    },
    {
     "name": "stdout",
     "output_type": "stream",
     "text": [
      "Tempo gasto fold 10 - 00:00:00\n",
      "\n"
     ]
    },
    {
     "data": {
      "text/plain": [
       "(                Acuracy  Precision    Recall  F1-score    F-beta       MCC  \\\n",
       " Decision Tree  0.956933   0.125304  0.880342  0.219382  0.399225  0.413651   \n",
       " \n",
       "                   TP       TN  ROC Curve  \n",
       " Decision Tree  103.0  16184.0   0.918903  ,\n",
       "          Acuracy  Precision    Recall  F1-score    F-beta       MCC     TP  \\\n",
       " Fold1   0.916569   0.071895  1.000000  0.134146  0.279188  0.256628   11.0   \n",
       " Fold2   0.933608   0.067797  0.727273  0.124031  0.246914  0.208907   19.0   \n",
       " Fold3   0.944771   0.097087  0.909091  0.175439  0.340136  0.287032   29.0   \n",
       " Fold4   0.961222   0.144737  0.916667  0.250000  0.443548  0.355765   40.0   \n",
       " Fold5   0.961810   0.155844  1.000000  0.269663  0.480000  0.387105   52.0   \n",
       " Fold6   0.954759   0.126437  0.916667  0.222222  0.407407  0.331172   63.0   \n",
       " Fold7   0.973561   0.188679  0.833333  0.307692  0.495050  0.389169   73.0   \n",
       " Fold8   0.974148   0.180000  0.750000  0.290323  0.459184  0.359604   82.0   \n",
       " Fold9   0.976498   0.208333  0.833333  0.333333  0.520833  0.409812   92.0   \n",
       " Fold10  0.972385   0.192982  0.916667  0.318841  0.523810  0.413651  103.0   \n",
       " \n",
       "              TN  ROC Curve  \n",
       " Fold1    1549.0   0.958013  \n",
       " Fold2    3130.0   0.831111  \n",
       " Fold3    4728.0   0.927047  \n",
       " Fold4    6353.0   0.939103  \n",
       " Fold5    7978.0   0.980769  \n",
       " Fold6    9592.0   0.935848  \n",
       " Fold7   11239.0   0.903945  \n",
       " Fold8   12888.0   0.862870  \n",
       " Fold9   14540.0   0.905424  \n",
       " Fold10  16184.0   0.944724  ,\n",
       " DecisionTreeClassifier(class_weight='balanced', max_depth=5,\n",
       "                        max_features='sqrt'))"
      ]
     },
     "execution_count": 608,
     "metadata": {},
     "output_type": "execute_result"
    }
   ],
   "source": [
    "cv(X,y,dct,'Decision Tree', balancer=smt)"
   ]
  },
  {
   "cell_type": "code",
   "execution_count": 520,
   "metadata": {},
   "outputs": [],
   "source": [
    "# Visualize Decision Tree\n",
    "#from sklearn.tree import export_graphviz\n",
    "\n",
    "columns = ['balance_ether','total_transactions', 'sent', 'received', 'n_contracts_sent', 'n_contracts_received']\n",
    "# Creates dot file named tree.dot\n",
    "tree.export_graphviz(\n",
    "            dct,\n",
    "            out_file =  \"myTreeName.dot\",\n",
    "            feature_names = columns,\n",
    "            #class_names = classes,\n",
    "            filled = True,\n",
    "            rounded = True)"
   ]
  },
  {
   "cell_type": "markdown",
   "metadata": {},
   "source": [
    "**Feature Importance**"
   ]
  },
  {
   "cell_type": "code",
   "execution_count": 522,
   "metadata": {},
   "outputs": [
    {
     "data": {
      "text/html": [
       "<div>\n",
       "<style scoped>\n",
       "    .dataframe tbody tr th:only-of-type {\n",
       "        vertical-align: middle;\n",
       "    }\n",
       "\n",
       "    .dataframe tbody tr th {\n",
       "        vertical-align: top;\n",
       "    }\n",
       "\n",
       "    .dataframe thead th {\n",
       "        text-align: right;\n",
       "    }\n",
       "</style>\n",
       "<table border=\"1\" class=\"dataframe\">\n",
       "  <thead>\n",
       "    <tr style=\"text-align: right;\">\n",
       "      <th></th>\n",
       "      <th>feature</th>\n",
       "      <th>importance</th>\n",
       "    </tr>\n",
       "  </thead>\n",
       "  <tbody>\n",
       "    <tr>\n",
       "      <th>1</th>\n",
       "      <td>total_transactions</td>\n",
       "      <td>0.911</td>\n",
       "    </tr>\n",
       "    <tr>\n",
       "      <th>0</th>\n",
       "      <td>balance_ether</td>\n",
       "      <td>0.047</td>\n",
       "    </tr>\n",
       "    <tr>\n",
       "      <th>4</th>\n",
       "      <td>n_contracts_sent</td>\n",
       "      <td>0.021</td>\n",
       "    </tr>\n",
       "    <tr>\n",
       "      <th>2</th>\n",
       "      <td>sent</td>\n",
       "      <td>0.018</td>\n",
       "    </tr>\n",
       "    <tr>\n",
       "      <th>3</th>\n",
       "      <td>received</td>\n",
       "      <td>0.004</td>\n",
       "    </tr>\n",
       "    <tr>\n",
       "      <th>5</th>\n",
       "      <td>n_contracts_received</td>\n",
       "      <td>0.000</td>\n",
       "    </tr>\n",
       "  </tbody>\n",
       "</table>\n",
       "</div>"
      ],
      "text/plain": [
       "                feature  importance\n",
       "1    total_transactions       0.911\n",
       "0         balance_ether       0.047\n",
       "4      n_contracts_sent       0.021\n",
       "2                  sent       0.018\n",
       "3              received       0.004\n",
       "5  n_contracts_received       0.000"
      ]
     },
     "execution_count": 522,
     "metadata": {},
     "output_type": "execute_result"
    }
   ],
   "source": [
    "importances = pd.DataFrame({'feature':['balance_ether','total_transactions', 'sent', 'received', 'n_contracts_sent', \n",
    "                                       'n_contracts_received'],\n",
    "                            'importance':np.round(dct.feature_importances_,3)})\n",
    "importances = importances.sort_values('importance',ascending=False)\n",
    "importances"
   ]
  },
  {
   "cell_type": "code",
   "execution_count": null,
   "metadata": {},
   "outputs": [],
   "source": []
  }
 ],
 "metadata": {
  "kernelspec": {
   "display_name": "Python 3",
   "language": "python",
   "name": "python3"
  },
  "language_info": {
   "codemirror_mode": {
    "name": "ipython",
    "version": 3
   },
   "file_extension": ".py",
   "mimetype": "text/x-python",
   "name": "python",
   "nbconvert_exporter": "python",
   "pygments_lexer": "ipython3",
   "version": "3.8.3"
  }
 },
 "nbformat": 4,
 "nbformat_minor": 4
}
