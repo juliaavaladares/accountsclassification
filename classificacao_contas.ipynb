{
 "cells": [
  {
   "cell_type": "markdown",
   "metadata": {},
   "source": [
    "## Accunts classifications"
   ]
  },
  {
   "cell_type": "code",
   "execution_count": 500,
   "metadata": {},
   "outputs": [],
   "source": [
    "import pandas as pd\n",
    "import numpy as np \n",
    "import seaborn as sns\n",
    "import matplotlib.pyplot as plt\n",
    "from tqdm.notebook import tqdm\n",
    "import time\n",
    "from time import sleep\n",
    "from time import process_time\n",
    "from datetime import datetime\n",
    "import itertools\n",
    "\n",
    "#Preprocessamento\n",
    "from sklearn import preprocessing\n",
    "from sklearn.model_selection import KFold, StratifiedKFold\n",
    "from sklearn.model_selection import train_test_split\n",
    "from imblearn.over_sampling import RandomOverSampler\n",
    "from imblearn.under_sampling import RandomUnderSampler\n",
    "from sklearn.model_selection import cross_validate, cross_val_score\n",
    "\n",
    "\n",
    "#Regressão Linear\n",
    "from sklearn.linear_model import LinearRegression\n",
    "\n",
    "#Avaliacao do Modelo\n",
    "from sklearn import metrics\n",
    "from sklearn.metrics import plot_confusion_matrix\n",
    "from sklearn.metrics import classification_report, confusion_matrix\n",
    "from sklearn.decomposition import PCA\n",
    "from collections import Counter\n",
    "\n",
    "\n",
    "#KNN\n",
    "from sklearn.neighbors import KNeighborsClassifier\n",
    "from mlxtend.plotting import plot_decision_regions\n",
    "\n",
    "#Decision Tree\n",
    "from sklearn import tree\n",
    "import graphviz"
   ]
  },
  {
   "cell_type": "markdown",
   "metadata": {},
   "source": [
    "### Funções a serem usadas"
   ]
  },
  {
   "cell_type": "code",
   "execution_count": 20,
   "metadata": {},
   "outputs": [],
   "source": [
    "def valueMetrics(y_test, y_predict):\n",
    "\n",
    "    print('-------')\n",
    "    print('Metrics')\n",
    "    print('-------')\n",
    "\n",
    "    print('Acurácia:', metrics.accuracy_score(y_test, y_predict))\n",
    "    \n",
    "    print('\\n------------')\n",
    "    print('Micro: Calcule métricas globalmente, contando o total de tp, fn e fp.')\n",
    "    print('Micro: Calcule métricas para cada classe e encontre sua média não ponderada.')\n",
    "    print('------------')\n",
    "    \n",
    "    print('\\nPrecisão normal:', metrics.precision_score(y_test, y_predict))\n",
    "    print('Precisão macro:', metrics.precision_score(y_test, y_predict, average='macro'))\n",
    "    print('Precisão micro:', metrics.precision_score(y_test, y_predict, average='micro'))\n",
    "    \n",
    "    print('\\nRecall normal:', metrics.recall_score(y_test, y_predict))\n",
    "    print('\\nRecall macro:', metrics.recall_score(y_test, y_predict, average='macro'))\n",
    "    print('Recall micro:', metrics.recall_score(y_test, y_predict, average='micro'))\n",
    "    \n",
    "    print('\\nF1-Score normal:', metrics.f1_score(y_test, y_predict ))\n",
    "    print('\\nF1-Score macro:', metrics.f1_score(y_test, y_predict ,average='macro'))\n",
    "    print('F1-Score micro:', metrics.f1_score(y_test, y_predict ,average='micro'))\n",
    "    \n",
    "    print('\\nFbeta1 normal:', metrics.fbeta_score(y_test, y_predict, beta=1))\n",
    "    print('\\nFbeta1 macro:', metrics.fbeta_score(y_test, y_predict ,average='macro', beta=1))\n",
    "    print('Fbeta1 micro:', metrics.fbeta_score(y_test, y_predict ,average='micro', beta=1))\n",
    "    \n",
    "    print('\\nFbeta2 normal:', metrics.fbeta_score(y_test, y_predict ,beta=2))\n",
    "    print('\\nFbeta2 macro:', metrics.fbeta_score(y_test, y_predict ,average='macro', beta=2))\n",
    "    print('Fbeta2 micro:', metrics.fbeta_score(y_test, y_predict ,average='micro', beta=2))\n",
    "    \n",
    "    print('\\nFbeta200 normal:', metrics.fbeta_score(y_test, y_predict ,beta=200))\n",
    "    print('\\nFbeta200 macro:', metrics.fbeta_score(y_test, y_predict ,average='macro', beta=200))\n",
    "    print('Fbeta200 micro:', metrics.fbeta_score(y_test, y_predict ,average='micro', beta=200))\n",
    "    "
   ]
  },
  {
   "cell_type": "code",
   "execution_count": 22,
   "metadata": {},
   "outputs": [],
   "source": [
    "def metrics_structure():\n",
    "    results = pd.DataFrame({'Acuracy':[],\n",
    "                            'Precision':[],\n",
    "                            'Recall':[],\n",
    "                            'F1-score':[],\n",
    "                            'F-beta':[],\n",
    "                            'MCC':[],\n",
    "                            'TP':[],\n",
    "                            'TN':[],\n",
    "                            'ROC Curve':[]}, )\n",
    "    results.index.names = ['Algoritmos']\n",
    "    return results"
   ]
  },
  {
   "cell_type": "code",
   "execution_count": 504,
   "metadata": {},
   "outputs": [],
   "source": [
    "def analysis(X_test, y_test, y_predict, model,text):\n",
    "    print(text, end='\\n\\n')\n",
    "\n",
    "    print(classification_report(y_test, y_predict))\n",
    "\n",
    "    acuracy = metrics.accuracy_score(y_test, y_predict)\n",
    "    precision = metrics.precision_score(y_test, y_predict)\n",
    "    recall= metrics.recall_score(y_test, y_predict)\n",
    "    f_score = metrics.f1_score(y_test, y_predict)\n",
    "    f_beta = metrics.fbeta_score(y_test, y_predict, beta=2)\n",
    "    ROC_auc_curve = metrics.roc_auc_score(y_test, y_predict)\n",
    "    \n",
    "    TP = len(y_test[(y_test==1) & (y_predict==1)]) #é falha 3% -> True Positive\n",
    "    TN = len(y_test[(y_test==0) & (y_predict==0)]) #não é falha 97% -> True Negative\n",
    "    \n",
    "    \n",
    "    tp = len(y_test[(y_test==1) & (y_predict==1)])\n",
    "    tn = len(y_test[(y_test==0) & (y_predict==0)])\n",
    "    fp = len(y_test[(y_test==0) & (y_predict==1)])\n",
    "    fn = len(y_test[(y_test==1) & (y_predict==0)])  \n",
    "    \n",
    "    MCC = metrics.matthews_corrcoef(y_test, y_predict)\n",
    "    \n",
    "    #print(metrics.matthews_corrcoef(y_test, y_predict), MCC)\n",
    "    \n",
    "    results = [acuracy, precision, recall, f_score, f_beta, MCC, tp, tn]\n",
    "    #print('[acuracy, precision, recall, f_score, f_beta, MCC, TP, TN, ROC_auc_curve]')\n",
    "    #print(results)\n",
    "    \n",
    "    results_metrics = metrics_structure()\n",
    "    results = [acuracy, precision, recall, f_score, f_beta, MCC, tp, tn, ROC_auc_curve]\n",
    "    results_metrics = results_metrics.append(pd.DataFrame([results], index=[text], columns=results_metrics.columns))\n",
    "    print(results_metrics)\n",
    "\n",
    "    \n",
    "    #Compute confusion matrix\n",
    "\n",
    "    cnf_matrix = confusion_matrix(y_test, y_predict)\n",
    "    np.set_printoptions(precision=2)\n",
    "\n",
    "    # Plot non-normalized confusion matrix\n",
    "    plt.figure()\n",
    "    plot_confusion_matrix(cnf_matrix,[0,1])\n",
    "    plt.show()"
   ]
  },
  {
   "cell_type": "code",
   "execution_count": 505,
   "metadata": {},
   "outputs": [],
   "source": [
    "def plot_confusion_matrix(cm, classes,\n",
    "                          normalize=False,\n",
    "                          title='Confusion matrix',\n",
    "                          cmap=plt.cm.Blues):\n",
    "    \"\"\"\n",
    "    This function prints and plots the confusion matrix.\n",
    "    Normalization can be applied by setting `normalize=True`.\n",
    "    \"\"\"\n",
    "    if normalize:\n",
    "        cm = cm.astype('float') / cm.sum(axis=1)[:, np.newaxis]\n",
    "        print(\"Normalized confusion matrix\")\n",
    "    else:\n",
    "        print('Confusion matrix, without normalization')\n",
    "\n",
    "    print(cm)\n",
    "\n",
    "    plt.imshow(cm, interpolation='nearest', cmap=cmap)\n",
    "    plt.title(title)\n",
    "    plt.colorbar()\n",
    "    tick_marks = np.arange(len(classes))\n",
    "    plt.xticks(tick_marks, classes, rotation=45)\n",
    "    plt.yticks(tick_marks, classes)\n",
    "\n",
    "    fmt = '.2f' if normalize else 'd'\n",
    "    thresh = cm.max() / 2.\n",
    "    for i, j in itertools.product(range(cm.shape[0]), range(cm.shape[1])):\n",
    "        plt.text(j, i, format(cm[i, j], fmt),\n",
    "                 horizontalalignment=\"center\",\n",
    "                 color=\"white\" if cm[i, j] > thresh else \"black\")\n",
    "\n",
    "    plt.ylabel('True label')\n",
    "    plt.xlabel('Predicted label')\n",
    "    plt.tight_layout()"
   ]
  },
  {
   "cell_type": "code",
   "execution_count": 456,
   "metadata": {},
   "outputs": [],
   "source": [
    "def count_sent_recived(accounts, user_to, user_from):\n",
    "    '''\n",
    "    Calcula a quantidade de vezes que uma conta recebeu e enviou transações.\n",
    "    Receber como parâmetro a lista de contas, a lista de user_to e user_from\n",
    "    '''\n",
    "    sent = []\n",
    "    received = []\n",
    "    for i in tqdm(accounts): \n",
    "        s = np.count_nonzero(user_to == i)\n",
    "        r = np.count_nonzero(user_from == i)\n",
    "        \n",
    "        sent.append(s)\n",
    "        received.append(r)\n",
    "    \n",
    "    sent, received = pd.Series(sent), pd.Series(received)\n",
    "\n",
    "    return sent, received\n",
    "        "
   ]
  },
  {
   "cell_type": "code",
   "execution_count": 457,
   "metadata": {},
   "outputs": [],
   "source": [
    "def count_contracts(df, accounts):\n",
    "    '''\n",
    "    Função para calcular a quantidade de contratos que uma conta envia e quantos\n",
    "    contratos ela recebe. Para isso a função recebe a base de dados das transações\n",
    "    e as contas presentes na base\n",
    "    '''\n",
    "    contracts_sent = []\n",
    "    contracts_received = []\n",
    "    \n",
    "    for a in tqdm(accounts):\n",
    "        \n",
    "        c_s = sum(df.value[df.user_from == a] == 0)\n",
    "        contracts_sent.append(c_s)\n",
    "        \n",
    "        c_r = sum(df.value[df.user_to == a] == 0)\n",
    "        contracts_received.append(c_r)\n",
    "        \n",
    "    return contracts_sent, contracts_received"
   ]
  },
  {
   "cell_type": "code",
   "execution_count": 458,
   "metadata": {},
   "outputs": [],
   "source": [
    "def oversampling(X, y):\n",
    "    '''\n",
    "    Faz o oversampling dos dados a partir do X e do Y de teste\n",
    "    '''\n",
    "    ros = RandomOverSampler(sampling_strategy='minority')\n",
    "    X_ros, y_ros = ros.fit_resample(X, y)\n",
    "\n",
    "    \n",
    "    return X_ros, y_ros"
   ]
  },
  {
   "cell_type": "code",
   "execution_count": 459,
   "metadata": {},
   "outputs": [],
   "source": [
    "def undersampling(X, y):\n",
    "    '''\n",
    "    Faz o undersampling dos dados a partir do X e do Y de teste\n",
    "    '''\n",
    "    rus = RandomUnderSampler() \n",
    "    # resampling X, y\n",
    "    X_rus, y_rus = rus.fit_resample(X, y)\n",
    "    \n",
    "    # new class distribution\n",
    "    return X_rus, y_rus"
   ]
  },
  {
   "cell_type": "code",
   "execution_count": 461,
   "metadata": {},
   "outputs": [],
   "source": [
    "def normalize(*args):\n",
    "    '''\n",
    "    Normaliza os dados entre 0 e 1\n",
    "    '''\n",
    "    scaler = preprocessing.MinMaxScaler(feature_range=(0,1))\n",
    "    lista = [scaler.fit_transform(a) for a in args]\n",
    "\n",
    "    return(lista)\n",
    "    "
   ]
  },
  {
   "cell_type": "code",
   "execution_count": 462,
   "metadata": {},
   "outputs": [],
   "source": [
    "def metrics_structure():\n",
    "    results = pd.DataFrame({'Acuracy':[],\n",
    "                            'Precision':[],\n",
    "                            'Recall':[],\n",
    "                            'F1-score':[],\n",
    "                            'F-beta':[],\n",
    "                            'MCC':[],\n",
    "                            'TP':[],\n",
    "                            'TN':[],\n",
    "                            'ROC Curve':[]}, )\n",
    "    results.index.names = ['Algoritmos']\n",
    "    return results"
   ]
  },
  {
   "cell_type": "code",
   "execution_count": 463,
   "metadata": {},
   "outputs": [],
   "source": [
    "def cv(X, y, model, name, balancer = None):\n",
    "\n",
    "    results_cv = metrics_structure()\n",
    "    \n",
    "    tp = 0\n",
    "    tn = 0\n",
    "    fp = 0\n",
    "    fn = 0\n",
    "    auc_media = 0\n",
    "    \n",
    "    skfold = StratifiedKFold(n_splits=10)\n",
    "    \n",
    "    for fold, (train_index, test_index) in tqdm(enumerate(skfold.split(X, y), 1)):\n",
    "        start_time = time.time()\n",
    "        X_train = X.iloc[train_index]\n",
    "        y_train = y.iloc[train_index]  # Based on your code, you might need a ravel call here, but I would look into how you're generating your y\n",
    "        X_test = X.iloc[test_index]\n",
    "        y_test = y.iloc[test_index]  # See comment on ravel and  y_train\n",
    "        if balancer is not None:\n",
    "            X_train, y_train = balancer.fit_sample(X_train, y_train)\n",
    "        model.fit(X_train, y_train)\n",
    "        y_predict = model.predict(X_test)\n",
    "        print(f'For fold {fold}:')\n",
    "        acuracy = metrics.accuracy_score(y_test, y_predict)\n",
    "        precision = metrics.precision_score(y_test, y_predict)\n",
    "        recall = metrics.recall_score(y_test, y_predict)\n",
    "        f_score = metrics.f1_score(y_test, y_predict)\n",
    "        f_beta = metrics.fbeta_score(y_test, y_predict, beta=2)\n",
    "        ROC = metrics.roc_auc_score(y_test, y_predict)\n",
    "        MCC = metrics.matthews_corrcoef(y_test, y_predict)\n",
    "        TP = len(y_test[(y_test==1) & (y_predict==1)])\n",
    "        TN = len(y_test[(y_test==0) & (y_predict==0)])\n",
    "        \n",
    "        tp += y_test[(y_test==1) & (y_predict==1)].count()\n",
    "        tn += y_test[(y_test==0) & (y_predict==0)].count()\n",
    "        fp += y_test[(y_test==0) & (y_predict==1)].count()\n",
    "        fn += y_test[(y_test==1) & (y_predict==0)].count() \n",
    "        \n",
    "\n",
    "        \n",
    "        result_fold = [acuracy, precision, recall, f_score, f_beta, MCC, tp, tn, ROC]\n",
    "        results_cv = results_cv.append(pd.DataFrame([result_fold], index=[('Fold' + str(fold))], columns=results_cv.columns))\n",
    "        \n",
    "        analysis(X_test, y_test, y_predict, model, name)\n",
    "        \n",
    "        if fold == 1:\n",
    "            print('best fold', str(fold))\n",
    "            bestROC = ROC\n",
    "            bestModel = model\n",
    "            analysis(X_test, y_test, y_predict, model, name)\n",
    "        elif ROC > bestROC:\n",
    "            print('best fold', str(fold))\n",
    "            bestROC = ROC\n",
    "            bestModel = model\n",
    "            analysis(X_test, y_test, y_predict, model, name)\n",
    "            \n",
    "        \n",
    "        elapsed_time = time.time() - start_time\n",
    "        print('Tempo gasto fold', fold, '-', time.strftime(\"%H:%M:%S\", time.gmtime(elapsed_time)))\n",
    "\n",
    "    \n",
    "    acur = (tp+tn)/(tp+tn+fp+fn)\n",
    "    prec = 0 if tp + fp == 0 else tp/(tp+fp)\n",
    "    reca = 0 if tp + fn == 0 else tp/(tp+fn)\n",
    "    fbeta = 0 if reca + prec == 0 else (2*reca*prec)/(reca+prec)\n",
    "    fbeta2 = (0 if reca + prec == 0 else (5*reca*prec)/((4*prec)+reca))\n",
    "    MCC = metrics.matthews_corrcoef(y_test, y_predict) #(tp*tn-fp*fn)/sqrt((tp+fp)*(tp+fn)*(tn+fp)*(tn+fn))\n",
    "    auc = (tp/((tp+fn)*2)) + (tn/((tn+fp)*2))\n",
    "    \n",
    "\n",
    "\n",
    "\n",
    "    results_metrics = metrics_structure()\n",
    "    results = [acur, prec, reca, fbeta, fbeta2, MCC, int(tp), int(tn), auc]\n",
    "    results_metrics = results_metrics.append(pd.DataFrame([results], index=[name], columns=results_metrics.columns))\n",
    "    \n",
    "    return results_metrics, results_cv, bestModel"
   ]
  },
  {
   "cell_type": "code",
   "execution_count": 410,
   "metadata": {},
   "outputs": [],
   "source": [
    "def cv_over_under(df, model, model_name,sampling, n_splits = 3):\n",
    "    '''\n",
    "    df -> Dataset\n",
    "    n_splits -> quantidade de splits do kfold\n",
    "    model -> modelo a ser avaliado\n",
    "    model_name -> Texto do nome do modelo\n",
    "    sampling -> True para oversampling e False para undersampling\n",
    "    '''\n",
    "    \n",
    "    X = df[['balance_ether', 'total_transactions', 'sent', 'received', 'n_contracts_sent', \n",
    "            'n_contracts_received']].values\n",
    "    y = df['classification'].values\n",
    "    \n",
    "    for i in range(2, n_splits):\n",
    "        cv = KFold(n_splits=i, random_state=1, shuffle=True)\n",
    "        print('Fold =', i)\n",
    "        for train_index, test_index in kf.split(X):\n",
    "            X_train, X_test = X[train_index], X[test_index]\n",
    "            y_train, y_test = y[train_index], y[test_index]\n",
    "            \n",
    "            #normaliza os dados\n",
    "            X_train, X_test = normalize(X_train, X_test)\n",
    "            \n",
    "            #Faz undersampling ou oversampling\n",
    "            if sampling: \n",
    "                print('Oversamplig')\n",
    "                X_train, y_train = oversampling(X_train, y_train)\n",
    "            else: \n",
    "                print('Undersampling')\n",
    "                X_train, y_train = undersampling(X_train, y_train)\n",
    "            \n",
    "            #Treina o modelo e faz o predict\n",
    "            model.fit(X_train, y_train)\n",
    "            y_predict = model.predict(X_test) \n",
    "            \n",
    "            analysis(X_test, y_test, y_predict, model, model_name)\n",
    "            print('---------------------------------------------------------')"
   ]
  },
  {
   "cell_type": "markdown",
   "metadata": {},
   "source": [
    "**Importando dados**"
   ]
  },
  {
   "cell_type": "code",
   "execution_count": 2,
   "metadata": {},
   "outputs": [],
   "source": [
    "df = pd.read_csv('accounts_classification.csv')"
   ]
  },
  {
   "cell_type": "code",
   "execution_count": 162,
   "metadata": {},
   "outputs": [],
   "source": [
    "df_transactions = pd.read_csv('dataset_fix_20200810.csv')"
   ]
  },
  {
   "cell_type": "code",
   "execution_count": 172,
   "metadata": {},
   "outputs": [
    {
     "name": "stderr",
     "output_type": "stream",
     "text": [
      "<ipython-input-169-c23827de1ff9>:8: TqdmDeprecationWarning: This function will be removed in tqdm==5.0.0\n",
      "Please use `tqdm.notebook.tqdm` instead of `tqdm.tqdm_notebook`\n",
      "  for i in tqdm_notebook(accounts):\n"
     ]
    },
    {
     "data": {
      "application/vnd.jupyter.widget-view+json": {
       "model_id": "9f06456fe2324b869bdeef8f1647749a",
       "version_major": 2,
       "version_minor": 0
      },
      "text/plain": [
       "HBox(children=(FloatProgress(value=0.0, max=17020.0), HTML(value='')))"
      ]
     },
     "metadata": {},
     "output_type": "display_data"
    },
    {
     "name": "stdout",
     "output_type": "stream",
     "text": [
      "\n"
     ]
    }
   ],
   "source": [
    "sent, received = count_sent_recived(df.user_account, df_transactions.user_to, df_transactions.user_from)"
   ]
  },
  {
   "cell_type": "code",
   "execution_count": 313,
   "metadata": {},
   "outputs": [
    {
     "data": {
      "application/vnd.jupyter.widget-view+json": {
       "model_id": "919c65bf5b9d4d24a7d1098535662d43",
       "version_major": 2,
       "version_minor": 0
      },
      "text/plain": [
       "HBox(children=(FloatProgress(value=0.0, max=17020.0), HTML(value='')))"
      ]
     },
     "metadata": {},
     "output_type": "display_data"
    },
    {
     "name": "stdout",
     "output_type": "stream",
     "text": [
      "\n"
     ]
    }
   ],
   "source": [
    "c_s, c_r = count_contracts(df_transactions, df.user_account)"
   ]
  },
  {
   "cell_type": "code",
   "execution_count": 174,
   "metadata": {},
   "outputs": [],
   "source": [
    "df['sent'] = sent\n",
    "df['received'] = received\n",
    "df['n_contracts_sent'] = c_s\n",
    "df['n_contracts_received'] = c_r"
   ]
  },
  {
   "cell_type": "markdown",
   "metadata": {},
   "source": [
    "Tomando em consideração:\n",
    "\n",
    "Normal user = 0\n",
    "\n",
    "Exchange = 1"
   ]
  },
  {
   "cell_type": "code",
   "execution_count": 4,
   "metadata": {},
   "outputs": [],
   "source": [
    "classes = df.classification"
   ]
  },
  {
   "cell_type": "code",
   "execution_count": 5,
   "metadata": {},
   "outputs": [],
   "source": [
    "df['classification'] = df['classification'].replace('Normal user', 0)\n",
    "df['classification'] = df['classification'].replace('Exchange', 1)"
   ]
  },
  {
   "cell_type": "markdown",
   "metadata": {},
   "source": [
    "Os parâmetros a serem usados serão *balance_ether* e *total_transactions*. Como *balance_value* é o valor em dólar, essas duas features são diretamente correlacionadas"
   ]
  },
  {
   "cell_type": "markdown",
   "metadata": {},
   "source": [
    "**Preprocessamento dos dados**"
   ]
  },
  {
   "cell_type": "code",
   "execution_count": 445,
   "metadata": {},
   "outputs": [],
   "source": [
    "X = df.iloc[:,[1,3,5,6,7,8]]\n",
    "y = df.iloc[:, 4]"
   ]
  },
  {
   "cell_type": "code",
   "execution_count": 373,
   "metadata": {},
   "outputs": [],
   "source": [
    "X_train, X_test, y_train, y_test = train_test_split(X, y, test_size=0.3, stratify = y)"
   ]
  },
  {
   "cell_type": "code",
   "execution_count": 185,
   "metadata": {},
   "outputs": [
    {
     "name": "stdout",
     "output_type": "stream",
     "text": [
      "Counter({0: 11832, 1: 82})\n",
      "Counter({0: 5071, 1: 35})\n"
     ]
    }
   ],
   "source": [
    "print(Counter(y_train))\n",
    "print(Counter(y_test))"
   ]
  },
  {
   "cell_type": "markdown",
   "metadata": {},
   "source": [
    "### K-Nearest Neighbours"
   ]
  },
  {
   "cell_type": "code",
   "execution_count": 483,
   "metadata": {},
   "outputs": [],
   "source": [
    "#Gera o modelo\n",
    "knn = KNeighborsClassifier(n_neighbors = 5,weights='distance', metric='canberra')"
   ]
  },
  {
   "cell_type": "code",
   "execution_count": 506,
   "metadata": {
    "scrolled": false
   },
   "outputs": [
    {
     "data": {
      "application/vnd.jupyter.widget-view+json": {
       "model_id": "d55b10c4128d4ac489bf26a5b97e6b31",
       "version_major": 2,
       "version_minor": 0
      },
      "text/plain": [
       "HBox(children=(FloatProgress(value=1.0, bar_style='info', max=1.0), HTML(value='')))"
      ]
     },
     "metadata": {},
     "output_type": "display_data"
    },
    {
     "name": "stdout",
     "output_type": "stream",
     "text": [
      "For fold 1:\n",
      "KNN\n",
      "\n",
      "              precision    recall  f1-score   support\n",
      "\n",
      "           0       1.00      0.99      1.00      1691\n",
      "           1       0.33      0.45      0.38        11\n",
      "\n",
      "    accuracy                           0.99      1702\n",
      "   macro avg       0.66      0.72      0.69      1702\n",
      "weighted avg       0.99      0.99      0.99      1702\n",
      "\n",
      "      Acuracy  Precision    Recall  F1-score    F-beta       MCC   TP      TN  \\\n",
      "KNN  0.990599   0.333333  0.454545  0.384615  0.423729  0.384641  5.0  1681.0   \n",
      "\n",
      "     ROC Curve  \n",
      "KNN   0.724316  \n",
      "Confusion matrix, without normalization\n",
      "[[1681   10]\n",
      " [   6    5]]\n"
     ]
    },
    {
     "data": {
      "image/png": "[encoded data removed]",
      "text/plain": [
       "<Figure size 432x288 with 2 Axes>"
      ]
     },
     "metadata": {
      "needs_background": "light"
     },
     "output_type": "display_data"
    },
    {
     "name": "stdout",
     "output_type": "stream",
     "text": [
      "best fold 1\n",
      "KNN\n",
      "\n",
      "              precision    recall  f1-score   support\n",
      "\n",
      "           0       1.00      0.99      1.00      1691\n",
      "           1       0.33      0.45      0.38        11\n",
      "\n",
      "    accuracy                           0.99      1702\n",
      "   macro avg       0.66      0.72      0.69      1702\n",
      "weighted avg       0.99      0.99      0.99      1702\n",
      "\n",
      "      Acuracy  Precision    Recall  F1-score    F-beta       MCC   TP      TN  \\\n",
      "KNN  0.990599   0.333333  0.454545  0.384615  0.423729  0.384641  5.0  1681.0   \n",
      "\n",
      "     ROC Curve  \n",
      "KNN   0.724316  \n",
      "Confusion matrix, without normalization\n",
      "[[1681   10]\n",
      " [   6    5]]\n"
     ]
    },
    {
     "data": {
      "image/png": "[encoded data removed]",
      "text/plain": [
       "<Figure size 432x288 with 2 Axes>"
      ]
     },
     "metadata": {
      "needs_background": "light"
     },
     "output_type": "display_data"
    },
    {
     "name": "stdout",
     "output_type": "stream",
     "text": [
      "Tempo gasto fold 1 - 00:00:00\n",
      "For fold 2:\n",
      "KNN\n",
      "\n",
      "              precision    recall  f1-score   support\n",
      "\n",
      "           0       1.00      1.00      1.00      1691\n",
      "           1       0.60      0.82      0.69        11\n",
      "\n",
      "    accuracy                           1.00      1702\n",
      "   macro avg       0.80      0.91      0.84      1702\n",
      "weighted avg       1.00      1.00      1.00      1702\n",
      "\n",
      "     Acuracy  Precision    Recall  F1-score    F-beta       MCC   TP      TN  \\\n",
      "KNN   0.9953        0.6  0.818182  0.692308  0.762712  0.698437  9.0  1685.0   \n",
      "\n",
      "     ROC Curve  \n",
      "KNN   0.907317  \n",
      "Confusion matrix, without normalization\n",
      "[[1685    6]\n",
      " [   2    9]]\n"
     ]
    },
    {
     "data": {
      "image/png": "[encoded data removed]",
      "text/plain": [
       "<Figure size 432x288 with 2 Axes>"
      ]
     },
     "metadata": {
      "needs_background": "light"
     },
     "output_type": "display_data"
    },
    {
     "name": "stdout",
     "output_type": "stream",
     "text": [
      "best fold 2\n",
      "KNN\n",
      "\n",
      "              precision    recall  f1-score   support\n",
      "\n",
      "           0       1.00      1.00      1.00      1691\n",
      "           1       0.60      0.82      0.69        11\n",
      "\n",
      "    accuracy                           1.00      1702\n",
      "   macro avg       0.80      0.91      0.84      1702\n",
      "weighted avg       1.00      1.00      1.00      1702\n",
      "\n",
      "     Acuracy  Precision    Recall  F1-score    F-beta       MCC   TP      TN  \\\n",
      "KNN   0.9953        0.6  0.818182  0.692308  0.762712  0.698437  9.0  1685.0   \n",
      "\n",
      "     ROC Curve  \n",
      "KNN   0.907317  \n",
      "Confusion matrix, without normalization\n",
      "[[1685    6]\n",
      " [   2    9]]\n"
     ]
    },
    {
     "data": {
      "image/png": "[encoded data removed]",
      "text/plain": [
       "<Figure size 432x288 with 2 Axes>"
      ]
     },
     "metadata": {
      "needs_background": "light"
     },
     "output_type": "display_data"
    },
    {
     "name": "stdout",
     "output_type": "stream",
     "text": [
      "Tempo gasto fold 2 - 00:00:00\n",
      "For fold 3:\n",
      "KNN\n",
      "\n",
      "              precision    recall  f1-score   support\n",
      "\n",
      "           0       1.00      1.00      1.00      1691\n",
      "           1       0.56      0.45      0.50        11\n",
      "\n",
      "    accuracy                           0.99      1702\n",
      "   macro avg       0.78      0.73      0.75      1702\n",
      "weighted avg       0.99      0.99      0.99      1702\n",
      "\n",
      "      Acuracy  Precision    Recall  F1-score    F-beta       MCC   TP      TN  \\\n",
      "KNN  0.994125   0.555556  0.454545       0.5  0.471698  0.499608  5.0  1687.0   \n",
      "\n",
      "     ROC Curve  \n",
      "KNN    0.72609  \n",
      "Confusion matrix, without normalization\n",
      "[[1687    4]\n",
      " [   6    5]]\n"
     ]
    },
    {
     "data": {
      "image/png": "[encoded data removed]",
      "text/plain": [
       "<Figure size 432x288 with 2 Axes>"
      ]
     },
     "metadata": {
      "needs_background": "light"
     },
     "output_type": "display_data"
    },
    {
     "name": "stdout",
     "output_type": "stream",
     "text": [
      "Tempo gasto fold 3 - 00:00:00\n",
      "For fold 4:\n",
      "KNN\n",
      "\n",
      "              precision    recall  f1-score   support\n",
      "\n",
      "           0       1.00      1.00      1.00      1690\n",
      "           1       0.88      0.58      0.70        12\n",
      "\n",
      "    accuracy                           1.00      1702\n",
      "   macro avg       0.94      0.79      0.85      1702\n",
      "weighted avg       1.00      1.00      1.00      1702\n",
      "\n",
      "      Acuracy  Precision    Recall  F1-score  F-beta       MCC   TP      TN  \\\n",
      "KNN  0.996475      0.875  0.583333       0.7   0.625  0.712867  7.0  1689.0   \n",
      "\n",
      "     ROC Curve  \n",
      "KNN   0.791371  \n",
      "Confusion matrix, without normalization\n",
      "[[1689    1]\n",
      " [   5    7]]\n"
     ]
    },
    {
     "data": {
      "image/png": "[encoded data removed]",
      "text/plain": [
       "<Figure size 432x288 with 2 Axes>"
      ]
     },
     "metadata": {
      "needs_background": "light"
     },
     "output_type": "display_data"
    },
    {
     "name": "stdout",
     "output_type": "stream",
     "text": [
      "Tempo gasto fold 4 - 00:00:00\n",
      "For fold 5:\n",
      "KNN\n",
      "\n",
      "              precision    recall  f1-score   support\n",
      "\n",
      "           0       1.00      1.00      1.00      1690\n",
      "           1       0.71      0.42      0.53        12\n",
      "\n",
      "    accuracy                           0.99      1702\n",
      "   macro avg       0.86      0.71      0.76      1702\n",
      "weighted avg       0.99      0.99      0.99      1702\n",
      "\n",
      "      Acuracy  Precision    Recall  F1-score    F-beta       MCC   TP      TN  \\\n",
      "KNN  0.994712   0.714286  0.416667  0.526316  0.454545  0.543192  5.0  1688.0   \n",
      "\n",
      "     ROC Curve  \n",
      "KNN   0.707742  \n",
      "Confusion matrix, without normalization\n",
      "[[1688    2]\n",
      " [   7    5]]\n"
     ]
    },
    {
     "data": {
      "image/png": "[encoded data removed]",
      "text/plain": [
       "<Figure size 432x288 with 2 Axes>"
      ]
     },
     "metadata": {
      "needs_background": "light"
     },
     "output_type": "display_data"
    },
    {
     "name": "stdout",
     "output_type": "stream",
     "text": [
      "Tempo gasto fold 5 - 00:00:00\n",
      "For fold 6:\n",
      "KNN\n",
      "\n",
      "              precision    recall  f1-score   support\n",
      "\n",
      "           0       1.00      1.00      1.00      1690\n",
      "           1       0.80      0.33      0.47        12\n",
      "\n",
      "    accuracy                           0.99      1702\n",
      "   macro avg       0.90      0.67      0.73      1702\n",
      "weighted avg       0.99      0.99      0.99      1702\n",
      "\n",
      "      Acuracy  Precision    Recall  F1-score    F-beta       MCC   TP      TN  \\\n",
      "KNN  0.994712        0.8  0.333333  0.470588  0.377358  0.514417  4.0  1689.0   \n",
      "\n",
      "     ROC Curve  \n",
      "KNN   0.666371  \n",
      "Confusion matrix, without normalization\n",
      "[[1689    1]\n",
      " [   8    4]]\n"
     ]
    },
    {
     "data": {
      "image/png": "[encoded data removed]",
      "text/plain": [
       "<Figure size 432x288 with 2 Axes>"
      ]
     },
     "metadata": {
      "needs_background": "light"
     },
     "output_type": "display_data"
    },
    {
     "name": "stdout",
     "output_type": "stream",
     "text": [
      "Tempo gasto fold 6 - 00:00:00\n",
      "For fold 7:\n",
      "KNN\n",
      "\n",
      "              precision    recall  f1-score   support\n",
      "\n",
      "           0       0.99      1.00      1.00      1690\n",
      "           1       0.50      0.08      0.14        12\n",
      "\n",
      "    accuracy                           0.99      1702\n",
      "   macro avg       0.75      0.54      0.57      1702\n",
      "weighted avg       0.99      0.99      0.99      1702\n",
      "\n",
      "      Acuracy  Precision    Recall  F1-score  F-beta       MCC   TP      TN  \\\n",
      "KNN  0.992949        0.5  0.083333  0.142857     0.1  0.202078  1.0  1689.0   \n",
      "\n",
      "     ROC Curve  \n",
      "KNN   0.541371  \n",
      "Confusion matrix, without normalization\n",
      "[[1689    1]\n",
      " [  11    1]]\n"
     ]
    },
    {
     "data": {
      "image/png": "[encoded data removed]",
      "text/plain": [
       "<Figure size 432x288 with 2 Axes>"
      ]
     },
     "metadata": {
      "needs_background": "light"
     },
     "output_type": "display_data"
    },
    {
     "name": "stdout",
     "output_type": "stream",
     "text": [
      "Tempo gasto fold 7 - 00:00:01\n",
      "For fold 8:\n",
      "KNN\n",
      "\n",
      "              precision    recall  f1-score   support\n",
      "\n",
      "           0       0.99      1.00      1.00      1690\n",
      "           1       1.00      0.08      0.15        12\n",
      "\n",
      "    accuracy                           0.99      1702\n",
      "   macro avg       1.00      0.54      0.58      1702\n",
      "weighted avg       0.99      0.99      0.99      1702\n",
      "\n",
      "      Acuracy  Precision    Recall  F1-score    F-beta      MCC   TP      TN  \\\n",
      "KNN  0.993537        1.0  0.083333  0.153846  0.102041  0.28774  1.0  1690.0   \n",
      "\n",
      "     ROC Curve  \n",
      "KNN   0.541667  \n",
      "Confusion matrix, without normalization\n",
      "[[1690    0]\n",
      " [  11    1]]\n"
     ]
    },
    {
     "data": {
      "image/png": "[encoded data removed]",
      "text/plain": [
       "<Figure size 432x288 with 2 Axes>"
      ]
     },
     "metadata": {
      "needs_background": "light"
     },
     "output_type": "display_data"
    },
    {
     "name": "stdout",
     "output_type": "stream",
     "text": [
      "Tempo gasto fold 8 - 00:00:00\n",
      "For fold 9:\n",
      "KNN\n",
      "\n",
      "              precision    recall  f1-score   support\n",
      "\n",
      "           0       0.99      1.00      1.00      1690\n",
      "           1       0.00      0.00      0.00        12\n",
      "\n",
      "    accuracy                           0.99      1702\n",
      "   macro avg       0.50      0.50      0.50      1702\n",
      "weighted avg       0.99      0.99      0.99      1702\n",
      "\n",
      "      Acuracy  Precision  Recall  F1-score  F-beta  MCC   TP      TN  \\\n",
      "KNN  0.992949        0.0     0.0       0.0     0.0  0.0  0.0  1690.0   \n",
      "\n",
      "     ROC Curve  \n",
      "KNN        0.5  \n",
      "Confusion matrix, without normalization\n",
      "[[1690    0]\n",
      " [  12    0]]\n"
     ]
    },
    {
     "name": "stderr",
     "output_type": "stream",
     "text": [
      "/Users/julia/opt/anaconda3/lib/python3.8/site-packages/sklearn/metrics/_classification.py:1221: UndefinedMetricWarning: Precision is ill-defined and being set to 0.0 due to no predicted samples. Use `zero_division` parameter to control this behavior.\n",
      "  _warn_prf(average, modifier, msg_start, len(result))\n",
      "/Users/julia/opt/anaconda3/lib/python3.8/site-packages/sklearn/metrics/_classification.py:846: RuntimeWarning: invalid value encountered in double_scalars\n",
      "  mcc = cov_ytyp / np.sqrt(cov_ytyt * cov_ypyp)\n",
      "/Users/julia/opt/anaconda3/lib/python3.8/site-packages/sklearn/metrics/_classification.py:1221: UndefinedMetricWarning: Precision and F-score are ill-defined and being set to 0.0 in labels with no predicted samples. Use `zero_division` parameter to control this behavior.\n",
      "  _warn_prf(average, modifier, msg_start, len(result))\n",
      "/Users/julia/opt/anaconda3/lib/python3.8/site-packages/sklearn/metrics/_classification.py:1221: UndefinedMetricWarning: Precision is ill-defined and being set to 0.0 due to no predicted samples. Use `zero_division` parameter to control this behavior.\n",
      "  _warn_prf(average, modifier, msg_start, len(result))\n",
      "/Users/julia/opt/anaconda3/lib/python3.8/site-packages/sklearn/metrics/_classification.py:846: RuntimeWarning: invalid value encountered in double_scalars\n",
      "  mcc = cov_ytyp / np.sqrt(cov_ytyt * cov_ypyp)\n"
     ]
    },
    {
     "data": {
      "image/png": "[encoded data removed]",
      "text/plain": [
       "<Figure size 432x288 with 2 Axes>"
      ]
     },
     "metadata": {
      "needs_background": "light"
     },
     "output_type": "display_data"
    },
    {
     "name": "stdout",
     "output_type": "stream",
     "text": [
      "Tempo gasto fold 9 - 00:00:00\n",
      "For fold 10:\n",
      "KNN\n",
      "\n",
      "              precision    recall  f1-score   support\n",
      "\n",
      "           0       0.99      1.00      1.00      1690\n",
      "           1       0.75      0.25      0.38        12\n",
      "\n",
      "    accuracy                           0.99      1702\n",
      "   macro avg       0.87      0.62      0.69      1702\n",
      "weighted avg       0.99      0.99      0.99      1702\n",
      "\n",
      "      Acuracy  Precision  Recall  F1-score    F-beta       MCC   TP      TN  \\\n",
      "KNN  0.994125       0.75    0.25     0.375  0.288462  0.430969  3.0  1689.0   \n",
      "\n",
      "     ROC Curve  \n",
      "KNN   0.624704  \n",
      "Confusion matrix, without normalization\n",
      "[[1689    1]\n",
      " [   9    3]]\n"
     ]
    },
    {
     "data": {
      "image/png": "[encoded data removed]",
      "text/plain": [
       "<Figure size 432x288 with 2 Axes>"
      ]
     },
     "metadata": {
      "needs_background": "light"
     },
     "output_type": "display_data"
    },
    {
     "name": "stdout",
     "output_type": "stream",
     "text": [
      "Tempo gasto fold 10 - 00:00:00\n",
      "\n"
     ]
    },
    {
     "data": {
      "text/plain": [
       "(      Acuracy  Precision   Recall  F1-score    F-beta       MCC    TP  \\\n",
       " KNN  0.993948   0.606061  0.34188  0.437158  0.374532  0.430969  40.0   \n",
       " \n",
       "           TN  ROC Curve  \n",
       " KNN  16877.0   0.670171  ,\n",
       "          Acuracy  Precision    Recall  F1-score    F-beta       MCC    TP  \\\n",
       " Fold1   0.990599   0.333333  0.454545  0.384615  0.423729  0.384641   5.0   \n",
       " Fold2   0.995300   0.600000  0.818182  0.692308  0.762712  0.698437  14.0   \n",
       " Fold3   0.994125   0.555556  0.454545  0.500000  0.471698  0.499608  19.0   \n",
       " Fold4   0.996475   0.875000  0.583333  0.700000  0.625000  0.712867  26.0   \n",
       " Fold5   0.994712   0.714286  0.416667  0.526316  0.454545  0.543192  31.0   \n",
       " Fold6   0.994712   0.800000  0.333333  0.470588  0.377358  0.514417  35.0   \n",
       " Fold7   0.992949   0.500000  0.083333  0.142857  0.100000  0.202078  36.0   \n",
       " Fold8   0.993537   1.000000  0.083333  0.153846  0.102041  0.287740  37.0   \n",
       " Fold9   0.992949   0.000000  0.000000  0.000000  0.000000  0.000000  37.0   \n",
       " Fold10  0.994125   0.750000  0.250000  0.375000  0.288462  0.430969  40.0   \n",
       " \n",
       "              TN  ROC Curve  \n",
       " Fold1    1681.0   0.724316  \n",
       " Fold2    3366.0   0.907317  \n",
       " Fold3    5053.0   0.726090  \n",
       " Fold4    6742.0   0.791371  \n",
       " Fold5    8430.0   0.707742  \n",
       " Fold6   10119.0   0.666371  \n",
       " Fold7   11808.0   0.541371  \n",
       " Fold8   13498.0   0.541667  \n",
       " Fold9   15188.0   0.500000  \n",
       " Fold10  16877.0   0.624704  ,\n",
       " KNeighborsClassifier(metric='canberra', weights='distance'))"
      ]
     },
     "execution_count": 506,
     "metadata": {},
     "output_type": "execute_result"
    }
   ],
   "source": [
    "cv(X,y,knn,'KNN')"
   ]
  },
  {
   "cell_type": "markdown",
   "metadata": {},
   "source": [
    "### Decision Tree"
   ]
  },
  {
   "cell_type": "code",
   "execution_count": 451,
   "metadata": {
    "scrolled": false
   },
   "outputs": [
    {
     "data": {
      "application/vnd.jupyter.widget-view+json": {
       "model_id": "028d6efe23f244d885c9191d8c713fd3",
       "version_major": 2,
       "version_minor": 0
      },
      "text/plain": [
       "HBox(children=(FloatProgress(value=1.0, bar_style='info', max=1.0), HTML(value='')))"
      ]
     },
     "metadata": {},
     "output_type": "display_data"
    },
    {
     "name": "stdout",
     "output_type": "stream",
     "text": [
      "For fold 1:\n",
      "Decision Tree\n",
      "\n",
      "              precision    recall  f1-score   support\n",
      "\n",
      "           0       1.00      0.99      0.99      1691\n",
      "           1       0.25      0.27      0.26        11\n",
      "\n",
      "    accuracy                           0.99      1702\n",
      "   macro avg       0.62      0.63      0.63      1702\n",
      "weighted avg       0.99      0.99      0.99      1702\n",
      "\n",
      "                Acuracy  Precision    Recall  F1-score    F-beta       MCC  \\\n",
      "Decision Tree  0.990012       0.25  0.272727   0.26087  0.267857  0.256097   \n",
      "\n",
      "                TP      TN  ROC Curve  \n",
      "Decision Tree  3.0  1682.0   0.633702  \n",
      "[[1682    9]\n",
      " [   8    3]]\n"
     ]
    },
    {
     "data": {
      "image/png": "[encoded data removed]",
      "text/plain": [
       "<Figure size 432x288 with 2 Axes>"
      ]
     },
     "metadata": {
      "needs_background": "light"
     },
     "output_type": "display_data"
    },
    {
     "name": "stdout",
     "output_type": "stream",
     "text": [
      "best fold 1\n",
      "Decision Tree\n",
      "\n",
      "              precision    recall  f1-score   support\n",
      "\n",
      "           0       1.00      0.99      0.99      1691\n",
      "           1       0.25      0.27      0.26        11\n",
      "\n",
      "    accuracy                           0.99      1702\n",
      "   macro avg       0.62      0.63      0.63      1702\n",
      "weighted avg       0.99      0.99      0.99      1702\n",
      "\n",
      "                Acuracy  Precision    Recall  F1-score    F-beta       MCC  \\\n",
      "Decision Tree  0.990012       0.25  0.272727   0.26087  0.267857  0.256097   \n",
      "\n",
      "                TP      TN  ROC Curve  \n",
      "Decision Tree  3.0  1682.0   0.633702  \n",
      "[[1682    9]\n",
      " [   8    3]]\n"
     ]
    },
    {
     "data": {
      "image/png": "[encoded data removed]",
      "text/plain": [
       "<Figure size 432x288 with 2 Axes>"
      ]
     },
     "metadata": {
      "needs_background": "light"
     },
     "output_type": "display_data"
    },
    {
     "name": "stdout",
     "output_type": "stream",
     "text": [
      "Tempo gasto fold 1 - 00:00:00\n",
      "For fold 2:\n",
      "Decision Tree\n",
      "\n",
      "              precision    recall  f1-score   support\n",
      "\n",
      "           0       1.00      1.00      1.00      1691\n",
      "           1       0.53      0.73      0.62        11\n",
      "\n",
      "    accuracy                           0.99      1702\n",
      "   macro avg       0.77      0.86      0.81      1702\n",
      "weighted avg       1.00      0.99      0.99      1702\n",
      "\n",
      "                Acuracy  Precision    Recall  F1-score    F-beta       MCC  \\\n",
      "Decision Tree  0.994125   0.533333  0.727273  0.615385  0.677966  0.619988   \n",
      "\n",
      "                TP      TN  ROC Curve  \n",
      "Decision Tree  8.0  1684.0   0.861567  \n",
      "[[1684    7]\n",
      " [   3    8]]\n"
     ]
    },
    {
     "data": {
      "image/png": "[encoded data removed]",
      "text/plain": [
       "<Figure size 432x288 with 2 Axes>"
      ]
     },
     "metadata": {
      "needs_background": "light"
     },
     "output_type": "display_data"
    },
    {
     "name": "stdout",
     "output_type": "stream",
     "text": [
      "best fold 2\n",
      "Decision Tree\n",
      "\n",
      "              precision    recall  f1-score   support\n",
      "\n",
      "           0       1.00      1.00      1.00      1691\n",
      "           1       0.53      0.73      0.62        11\n",
      "\n",
      "    accuracy                           0.99      1702\n",
      "   macro avg       0.77      0.86      0.81      1702\n",
      "weighted avg       1.00      0.99      0.99      1702\n",
      "\n",
      "                Acuracy  Precision    Recall  F1-score    F-beta       MCC  \\\n",
      "Decision Tree  0.994125   0.533333  0.727273  0.615385  0.677966  0.619988   \n",
      "\n",
      "                TP      TN  ROC Curve  \n",
      "Decision Tree  8.0  1684.0   0.861567  \n",
      "[[1684    7]\n",
      " [   3    8]]\n"
     ]
    },
    {
     "data": {
      "image/png": "[encoded data removed]",
      "text/plain": [
       "<Figure size 432x288 with 2 Axes>"
      ]
     },
     "metadata": {
      "needs_background": "light"
     },
     "output_type": "display_data"
    },
    {
     "name": "stdout",
     "output_type": "stream",
     "text": [
      "Tempo gasto fold 2 - 00:00:00\n",
      "For fold 3:\n",
      "Decision Tree\n",
      "\n",
      "              precision    recall  f1-score   support\n",
      "\n",
      "           0       1.00      0.99      1.00      1691\n",
      "           1       0.31      0.36      0.33        11\n",
      "\n",
      "    accuracy                           0.99      1702\n",
      "   macro avg       0.65      0.68      0.66      1702\n",
      "weighted avg       0.99      0.99      0.99      1702\n",
      "\n",
      "                Acuracy  Precision    Recall  F1-score    F-beta       MCC  \\\n",
      "Decision Tree  0.990599   0.307692  0.363636  0.333333  0.350877  0.329796   \n",
      "\n",
      "                TP      TN  ROC Curve  \n",
      "Decision Tree  4.0  1682.0   0.679157  \n",
      "[[1682    9]\n",
      " [   7    4]]\n"
     ]
    },
    {
     "data": {
      "image/png": "[encoded data removed]",
      "text/plain": [
       "<Figure size 432x288 with 2 Axes>"
      ]
     },
     "metadata": {
      "needs_background": "light"
     },
     "output_type": "display_data"
    },
    {
     "name": "stdout",
     "output_type": "stream",
     "text": [
      "Tempo gasto fold 3 - 00:00:00\n",
      "For fold 4:\n",
      "Decision Tree\n",
      "\n",
      "              precision    recall  f1-score   support\n",
      "\n",
      "           0       1.00      1.00      1.00      1690\n",
      "           1       0.88      0.58      0.70        12\n",
      "\n",
      "    accuracy                           1.00      1702\n",
      "   macro avg       0.94      0.79      0.85      1702\n",
      "weighted avg       1.00      1.00      1.00      1702\n",
      "\n",
      "                Acuracy  Precision    Recall  F1-score  F-beta       MCC   TP  \\\n",
      "Decision Tree  0.996475      0.875  0.583333       0.7   0.625  0.712867  7.0   \n",
      "\n",
      "                   TN  ROC Curve  \n",
      "Decision Tree  1689.0   0.791371  \n",
      "[[1689    1]\n",
      " [   5    7]]\n"
     ]
    },
    {
     "data": {
      "image/png": "[encoded data removed]",
      "text/plain": [
       "<Figure size 432x288 with 2 Axes>"
      ]
     },
     "metadata": {
      "needs_background": "light"
     },
     "output_type": "display_data"
    },
    {
     "name": "stdout",
     "output_type": "stream",
     "text": [
      "Tempo gasto fold 4 - 00:00:00\n",
      "For fold 5:\n",
      "Decision Tree\n",
      "\n",
      "              precision    recall  f1-score   support\n",
      "\n",
      "           0       1.00      1.00      1.00      1690\n",
      "           1       0.78      0.58      0.67        12\n",
      "\n",
      "    accuracy                           1.00      1702\n",
      "   macro avg       0.89      0.79      0.83      1702\n",
      "weighted avg       1.00      1.00      1.00      1702\n",
      "\n",
      "                Acuracy  Precision    Recall  F1-score    F-beta       MCC  \\\n",
      "Decision Tree  0.995887   0.777778  0.583333  0.666667  0.614035  0.671613   \n",
      "\n",
      "                TP      TN  ROC Curve  \n",
      "Decision Tree  7.0  1688.0   0.791075  \n",
      "[[1688    2]\n",
      " [   5    7]]\n"
     ]
    },
    {
     "data": {
      "image/png": "[encoded data removed]",
      "text/plain": [
       "<Figure size 432x288 with 2 Axes>"
      ]
     },
     "metadata": {
      "needs_background": "light"
     },
     "output_type": "display_data"
    },
    {
     "name": "stdout",
     "output_type": "stream",
     "text": [
      "Tempo gasto fold 5 - 00:00:00\n",
      "For fold 6:\n",
      "Decision Tree\n",
      "\n",
      "              precision    recall  f1-score   support\n",
      "\n",
      "           0       0.99      1.00      1.00      1690\n",
      "           1       0.67      0.17      0.27        12\n",
      "\n",
      "    accuracy                           0.99      1702\n",
      "   macro avg       0.83      0.58      0.63      1702\n",
      "weighted avg       0.99      0.99      0.99      1702\n",
      "\n",
      "                Acuracy  Precision    Recall  F1-score    F-beta       MCC  \\\n",
      "Decision Tree  0.993537   0.666667  0.166667  0.266667  0.196078  0.331269   \n",
      "\n",
      "                TP      TN  ROC Curve  \n",
      "Decision Tree  2.0  1689.0   0.583037  \n",
      "[[1689    1]\n",
      " [  10    2]]\n"
     ]
    },
    {
     "data": {
      "image/png": "[encoded data removed]",
      "text/plain": [
       "<Figure size 432x288 with 2 Axes>"
      ]
     },
     "metadata": {
      "needs_background": "light"
     },
     "output_type": "display_data"
    },
    {
     "name": "stdout",
     "output_type": "stream",
     "text": [
      "Tempo gasto fold 6 - 00:00:00\n",
      "For fold 7:\n",
      "Decision Tree\n",
      "\n",
      "              precision    recall  f1-score   support\n",
      "\n",
      "           0       0.99      1.00      1.00      1690\n",
      "           1       0.00      0.00      0.00        12\n",
      "\n",
      "    accuracy                           0.99      1702\n",
      "   macro avg       0.50      0.50      0.50      1702\n",
      "weighted avg       0.99      0.99      0.99      1702\n",
      "\n",
      "                Acuracy  Precision  Recall  F1-score  F-beta  MCC   TP  \\\n",
      "Decision Tree  0.992949        0.0     0.0       0.0     0.0  0.0  0.0   \n",
      "\n",
      "                   TN  ROC Curve  \n",
      "Decision Tree  1690.0        0.5  \n",
      "[[1690    0]\n",
      " [  12    0]]\n"
     ]
    },
    {
     "name": "stderr",
     "output_type": "stream",
     "text": [
      "/Users/julia/opt/anaconda3/lib/python3.8/site-packages/sklearn/metrics/_classification.py:1221: UndefinedMetricWarning: Precision is ill-defined and being set to 0.0 due to no predicted samples. Use `zero_division` parameter to control this behavior.\n",
      "  _warn_prf(average, modifier, msg_start, len(result))\n",
      "/Users/julia/opt/anaconda3/lib/python3.8/site-packages/sklearn/metrics/_classification.py:846: RuntimeWarning: invalid value encountered in double_scalars\n",
      "  mcc = cov_ytyp / np.sqrt(cov_ytyt * cov_ypyp)\n",
      "/Users/julia/opt/anaconda3/lib/python3.8/site-packages/sklearn/metrics/_classification.py:1221: UndefinedMetricWarning: Precision and F-score are ill-defined and being set to 0.0 in labels with no predicted samples. Use `zero_division` parameter to control this behavior.\n",
      "  _warn_prf(average, modifier, msg_start, len(result))\n",
      "/Users/julia/opt/anaconda3/lib/python3.8/site-packages/sklearn/metrics/_classification.py:1221: UndefinedMetricWarning: Precision is ill-defined and being set to 0.0 due to no predicted samples. Use `zero_division` parameter to control this behavior.\n",
      "  _warn_prf(average, modifier, msg_start, len(result))\n",
      "/Users/julia/opt/anaconda3/lib/python3.8/site-packages/sklearn/metrics/_classification.py:846: RuntimeWarning: invalid value encountered in double_scalars\n",
      "  mcc = cov_ytyp / np.sqrt(cov_ytyt * cov_ypyp)\n"
     ]
    },
    {
     "data": {
      "image/png": "[encoded data removed]",
      "text/plain": [
       "<Figure size 432x288 with 2 Axes>"
      ]
     },
     "metadata": {
      "needs_background": "light"
     },
     "output_type": "display_data"
    },
    {
     "name": "stdout",
     "output_type": "stream",
     "text": [
      "Tempo gasto fold 7 - 00:00:00\n",
      "For fold 8:\n",
      "Decision Tree\n",
      "\n",
      "              precision    recall  f1-score   support\n",
      "\n",
      "           0       0.99      1.00      1.00      1690\n",
      "           1       1.00      0.08      0.15        12\n",
      "\n",
      "    accuracy                           0.99      1702\n",
      "   macro avg       1.00      0.54      0.58      1702\n",
      "weighted avg       0.99      0.99      0.99      1702\n",
      "\n",
      "                Acuracy  Precision    Recall  F1-score    F-beta      MCC  \\\n",
      "Decision Tree  0.993537        1.0  0.083333  0.153846  0.102041  0.28774   \n",
      "\n",
      "                TP      TN  ROC Curve  \n",
      "Decision Tree  1.0  1690.0   0.541667  \n",
      "[[1690    0]\n",
      " [  11    1]]\n"
     ]
    },
    {
     "data": {
      "image/png": "[encoded data removed]",
      "text/plain": [
       "<Figure size 432x288 with 2 Axes>"
      ]
     },
     "metadata": {
      "needs_background": "light"
     },
     "output_type": "display_data"
    },
    {
     "name": "stdout",
     "output_type": "stream",
     "text": [
      "Tempo gasto fold 8 - 00:00:00\n",
      "For fold 9:\n",
      "Decision Tree\n",
      "\n",
      "              precision    recall  f1-score   support\n",
      "\n",
      "           0       0.99      1.00      1.00      1690\n",
      "           1       0.50      0.08      0.14        12\n",
      "\n",
      "    accuracy                           0.99      1702\n",
      "   macro avg       0.75      0.54      0.57      1702\n",
      "weighted avg       0.99      0.99      0.99      1702\n",
      "\n",
      "                Acuracy  Precision    Recall  F1-score  F-beta       MCC   TP  \\\n",
      "Decision Tree  0.992949        0.5  0.083333  0.142857     0.1  0.202078  1.0   \n",
      "\n",
      "                   TN  ROC Curve  \n",
      "Decision Tree  1689.0   0.541371  \n",
      "[[1689    1]\n",
      " [  11    1]]\n"
     ]
    },
    {
     "data": {
      "image/png": "[encoded data removed]",
      "text/plain": [
       "<Figure size 432x288 with 2 Axes>"
      ]
     },
     "metadata": {
      "needs_background": "light"
     },
     "output_type": "display_data"
    },
    {
     "name": "stdout",
     "output_type": "stream",
     "text": [
      "Tempo gasto fold 9 - 00:00:00\n",
      "For fold 10:\n",
      "Decision Tree\n",
      "\n",
      "              precision    recall  f1-score   support\n",
      "\n",
      "           0       0.99      1.00      1.00      1690\n",
      "           1       0.67      0.17      0.27        12\n",
      "\n",
      "    accuracy                           0.99      1702\n",
      "   macro avg       0.83      0.58      0.63      1702\n",
      "weighted avg       0.99      0.99      0.99      1702\n",
      "\n",
      "                Acuracy  Precision    Recall  F1-score    F-beta       MCC  \\\n",
      "Decision Tree  0.993537   0.666667  0.166667  0.266667  0.196078  0.331269   \n",
      "\n",
      "                TP      TN  ROC Curve  \n",
      "Decision Tree  2.0  1689.0   0.583037  \n",
      "[[1689    1]\n",
      " [  10    2]]\n"
     ]
    },
    {
     "data": {
      "image/png": "[encoded data removed]",
      "text/plain": [
       "<Figure size 432x288 with 2 Axes>"
      ]
     },
     "metadata": {
      "needs_background": "light"
     },
     "output_type": "display_data"
    },
    {
     "name": "stdout",
     "output_type": "stream",
     "text": [
      "Tempo gasto fold 10 - 00:00:00\n",
      "\n"
     ]
    },
    {
     "data": {
      "text/plain": [
       "(                Acuracy  Precision    Recall  F1-score    F-beta       MCC  \\\n",
       " Decision Tree  0.993361   0.530303  0.299145  0.382514  0.327715  0.331269   \n",
       " \n",
       "                  TP       TN  ROC Curve  \n",
       " Decision Tree  35.0  16872.0   0.648656  ,\n",
       "          Acuracy  Precision    Recall  F1-score    F-beta       MCC    TP  \\\n",
       " Fold1   0.990012   0.250000  0.272727  0.260870  0.267857  0.256097   3.0   \n",
       " Fold2   0.994125   0.533333  0.727273  0.615385  0.677966  0.619988  11.0   \n",
       " Fold3   0.990599   0.307692  0.363636  0.333333  0.350877  0.329796  15.0   \n",
       " Fold4   0.996475   0.875000  0.583333  0.700000  0.625000  0.712867  22.0   \n",
       " Fold5   0.995887   0.777778  0.583333  0.666667  0.614035  0.671613  29.0   \n",
       " Fold6   0.993537   0.666667  0.166667  0.266667  0.196078  0.331269  31.0   \n",
       " Fold7   0.992949   0.000000  0.000000  0.000000  0.000000  0.000000  31.0   \n",
       " Fold8   0.993537   1.000000  0.083333  0.153846  0.102041  0.287740  32.0   \n",
       " Fold9   0.992949   0.500000  0.083333  0.142857  0.100000  0.202078  33.0   \n",
       " Fold10  0.993537   0.666667  0.166667  0.266667  0.196078  0.331269  35.0   \n",
       " \n",
       "              TN  ROC Curve  \n",
       " Fold1    1682.0   0.633702  \n",
       " Fold2    3366.0   0.861567  \n",
       " Fold3    5048.0   0.679157  \n",
       " Fold4    6737.0   0.791371  \n",
       " Fold5    8425.0   0.791075  \n",
       " Fold6   10114.0   0.583037  \n",
       " Fold7   11804.0   0.500000  \n",
       " Fold8   13494.0   0.541667  \n",
       " Fold9   15183.0   0.541371  \n",
       " Fold10  16872.0   0.583037  ,\n",
       " DecisionTreeClassifier(max_depth=5, max_features='sqrt'))"
      ]
     },
     "execution_count": 451,
     "metadata": {},
     "output_type": "execute_result"
    }
   ],
   "source": [
    "cv(X,y,dct,'Decision Tree')"
   ]
  },
  {
   "cell_type": "code",
   "execution_count": 434,
   "metadata": {},
   "outputs": [],
   "source": [
    "# Visualize Decision Tree\n",
    "#from sklearn.tree import export_graphviz\n",
    "\n",
    "columns = ['balance_ether','total_transactions', 'sent', 'received', 'n_contracts_sent', 'n_contracts_received']\n",
    "# Creates dot file named tree.dot\n",
    "tree.export_graphviz(\n",
    "            dct,\n",
    "            out_file =  \"myTreeName.dot\",\n",
    "            feature_names = columns,\n",
    "            #class_names = classes,\n",
    "            filled = True,\n",
    "            rounded = True)"
   ]
  },
  {
   "cell_type": "markdown",
   "metadata": {},
   "source": [
    "**Feature Importance**"
   ]
  },
  {
   "cell_type": "code",
   "execution_count": 507,
   "metadata": {},
   "outputs": [
    {
     "data": {
      "text/html": [
       "<div>\n",
       "<style scoped>\n",
       "    .dataframe tbody tr th:only-of-type {\n",
       "        vertical-align: middle;\n",
       "    }\n",
       "\n",
       "    .dataframe tbody tr th {\n",
       "        vertical-align: top;\n",
       "    }\n",
       "\n",
       "    .dataframe thead th {\n",
       "        text-align: right;\n",
       "    }\n",
       "</style>\n",
       "<table border=\"1\" class=\"dataframe\">\n",
       "  <thead>\n",
       "    <tr style=\"text-align: right;\">\n",
       "      <th></th>\n",
       "      <th>feature</th>\n",
       "      <th>importance</th>\n",
       "    </tr>\n",
       "  </thead>\n",
       "  <tbody>\n",
       "    <tr>\n",
       "      <th>3</th>\n",
       "      <td>received</td>\n",
       "      <td>0.301</td>\n",
       "    </tr>\n",
       "    <tr>\n",
       "      <th>1</th>\n",
       "      <td>total_transactions</td>\n",
       "      <td>0.299</td>\n",
       "    </tr>\n",
       "    <tr>\n",
       "      <th>0</th>\n",
       "      <td>balance_ether</td>\n",
       "      <td>0.296</td>\n",
       "    </tr>\n",
       "    <tr>\n",
       "      <th>2</th>\n",
       "      <td>sent</td>\n",
       "      <td>0.052</td>\n",
       "    </tr>\n",
       "    <tr>\n",
       "      <th>4</th>\n",
       "      <td>n_contracts_sent</td>\n",
       "      <td>0.052</td>\n",
       "    </tr>\n",
       "    <tr>\n",
       "      <th>5</th>\n",
       "      <td>n_contracts_received</td>\n",
       "      <td>0.000</td>\n",
       "    </tr>\n",
       "  </tbody>\n",
       "</table>\n",
       "</div>"
      ],
      "text/plain": [
       "                feature  importance\n",
       "3              received       0.301\n",
       "1    total_transactions       0.299\n",
       "0         balance_ether       0.296\n",
       "2                  sent       0.052\n",
       "4      n_contracts_sent       0.052\n",
       "5  n_contracts_received       0.000"
      ]
     },
     "execution_count": 507,
     "metadata": {},
     "output_type": "execute_result"
    }
   ],
   "source": [
    "importances = pd.DataFrame({'feature':['balance_ether','total_transactions', 'sent', 'received', 'n_contracts_sent', \n",
    "                                       'n_contracts_received'],\n",
    "                            'importance':np.round(dct.feature_importances_,3)})\n",
    "importances = importances.sort_values('importance',ascending=False)\n",
    "importances"
   ]
  },
  {
   "cell_type": "code",
   "execution_count": null,
   "metadata": {},
   "outputs": [],
   "source": []
  }
 ],
 "metadata": {
  "kernelspec": {
   "display_name": "Python 3",
   "language": "python",
   "name": "python3"
  },
  "language_info": {
   "codemirror_mode": {
    "name": "ipython",
    "version": 3
   },
   "file_extension": ".py",
   "mimetype": "text/x-python",
   "name": "python",
   "nbconvert_exporter": "python",
   "pygments_lexer": "ipython3",
   "version": "3.8.3"
  }
 },
 "nbformat": 4,
 "nbformat_minor": 4
}
